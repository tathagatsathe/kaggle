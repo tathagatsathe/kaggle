{
 "cells": [
  {
   "cell_type": "code",
   "execution_count": 1,
   "id": "4dc6bc21",
   "metadata": {
    "_cell_guid": "b1076dfc-b9ad-4769-8c92-a6c4dae69d19",
    "_uuid": "8f2839f25d086af736a60e9eeb907d3b93b6e0e5",
    "execution": {
     "iopub.execute_input": "2022-04-24T15:14:06.389594Z",
     "iopub.status.busy": "2022-04-24T15:14:06.387703Z",
     "iopub.status.idle": "2022-04-24T15:14:07.613630Z",
     "shell.execute_reply": "2022-04-24T15:14:07.614354Z",
     "shell.execute_reply.started": "2022-04-24T14:49:57.200072Z"
    },
    "papermill": {
     "duration": 1.29054,
     "end_time": "2022-04-24T15:14:07.614770",
     "exception": false,
     "start_time": "2022-04-24T15:14:06.324230",
     "status": "completed"
    },
    "tags": []
   },
   "outputs": [
    {
     "name": "stdout",
     "output_type": "stream",
     "text": [
      "/kaggle/input/tabular-playground-series-apr-2022/sample_submission.csv\n",
      "/kaggle/input/tabular-playground-series-apr-2022/train_labels.csv\n",
      "/kaggle/input/tabular-playground-series-apr-2022/train.csv\n",
      "/kaggle/input/tabular-playground-series-apr-2022/test.csv\n"
     ]
    }
   ],
   "source": [
    "# This Python 3 environment comes with many helpful analytics libraries installed\n",
    "# It is defined by the kaggle/python Docker image: https://github.com/kaggle/docker-python\n",
    "# For example, here's several helpful packages to load\n",
    "\n",
    "import numpy as np # linear algebra\n",
    "import pandas as pd # data processing, CSV file I/O (e.g. pd.read_csv)\n",
    "import seaborn as sns\n",
    "import matplotlib.pyplot as plt\n",
    "from sklearn.preprocessing import StandardScaler\n",
    "\n",
    "# Input data files are available in the read-only \"../input/\" directory\n",
    "# For example, running this (by clicking run or pressing Shift+Enter) will list all files under the input directory\n",
    "\n",
    "import os\n",
    "for dirname, _, filenames in os.walk('/kaggle/input'):\n",
    "    for filename in filenames:\n",
    "        print(os.path.join(dirname, filename))\n",
    "        \n",
    "\n",
    "# You can write up to 20GB to the current directory (/kaggle/working/) that gets preserved as output when you create a version using \"Save & Run All\" \n",
    "# You can also write temporary files to /kaggle/temp/, but they won't be saved outside of the current session"
   ]
  },
  {
   "cell_type": "code",
   "execution_count": 2,
   "id": "e2c404be",
   "metadata": {
    "execution": {
     "iopub.execute_input": "2022-04-24T15:14:07.738117Z",
     "iopub.status.busy": "2022-04-24T15:14:07.737355Z",
     "iopub.status.idle": "2022-04-24T15:14:16.234823Z",
     "shell.execute_reply": "2022-04-24T15:14:16.234267Z",
     "shell.execute_reply.started": "2022-04-24T14:50:10.903879Z"
    },
    "papermill": {
     "duration": 8.56235,
     "end_time": "2022-04-24T15:14:16.234985",
     "exception": false,
     "start_time": "2022-04-24T15:14:07.672635",
     "status": "completed"
    },
    "tags": []
   },
   "outputs": [
    {
     "data": {
      "text/html": [
       "<div>\n",
       "<style scoped>\n",
       "    .dataframe tbody tr th:only-of-type {\n",
       "        vertical-align: middle;\n",
       "    }\n",
       "\n",
       "    .dataframe tbody tr th {\n",
       "        vertical-align: top;\n",
       "    }\n",
       "\n",
       "    .dataframe thead th {\n",
       "        text-align: right;\n",
       "    }\n",
       "</style>\n",
       "<table border=\"1\" class=\"dataframe\">\n",
       "  <thead>\n",
       "    <tr style=\"text-align: right;\">\n",
       "      <th></th>\n",
       "      <th>sequence</th>\n",
       "      <th>subject</th>\n",
       "      <th>step</th>\n",
       "      <th>sensor_00</th>\n",
       "      <th>sensor_01</th>\n",
       "      <th>sensor_02</th>\n",
       "      <th>sensor_03</th>\n",
       "      <th>sensor_04</th>\n",
       "      <th>sensor_05</th>\n",
       "      <th>sensor_06</th>\n",
       "      <th>sensor_07</th>\n",
       "      <th>sensor_08</th>\n",
       "      <th>sensor_09</th>\n",
       "      <th>sensor_10</th>\n",
       "      <th>sensor_11</th>\n",
       "      <th>sensor_12</th>\n",
       "    </tr>\n",
       "  </thead>\n",
       "  <tbody>\n",
       "    <tr>\n",
       "      <th>0</th>\n",
       "      <td>0</td>\n",
       "      <td>47</td>\n",
       "      <td>0</td>\n",
       "      <td>-0.196291</td>\n",
       "      <td>0.112395</td>\n",
       "      <td>1.000000</td>\n",
       "      <td>0.329204</td>\n",
       "      <td>-1.004660</td>\n",
       "      <td>-0.131638</td>\n",
       "      <td>-0.127505</td>\n",
       "      <td>0.368702</td>\n",
       "      <td>-0.1</td>\n",
       "      <td>-0.963873</td>\n",
       "      <td>-0.985069</td>\n",
       "      <td>0.531893</td>\n",
       "      <td>4.751492</td>\n",
       "    </tr>\n",
       "    <tr>\n",
       "      <th>1</th>\n",
       "      <td>0</td>\n",
       "      <td>47</td>\n",
       "      <td>1</td>\n",
       "      <td>-0.447450</td>\n",
       "      <td>0.134454</td>\n",
       "      <td>1.000000</td>\n",
       "      <td>-0.658407</td>\n",
       "      <td>0.162495</td>\n",
       "      <td>0.340314</td>\n",
       "      <td>-0.209472</td>\n",
       "      <td>-0.867176</td>\n",
       "      <td>0.2</td>\n",
       "      <td>-0.301301</td>\n",
       "      <td>0.082733</td>\n",
       "      <td>-0.231481</td>\n",
       "      <td>0.454390</td>\n",
       "    </tr>\n",
       "    <tr>\n",
       "      <th>2</th>\n",
       "      <td>0</td>\n",
       "      <td>47</td>\n",
       "      <td>2</td>\n",
       "      <td>0.326893</td>\n",
       "      <td>-0.694328</td>\n",
       "      <td>1.000000</td>\n",
       "      <td>0.330088</td>\n",
       "      <td>0.473678</td>\n",
       "      <td>1.280479</td>\n",
       "      <td>-0.094718</td>\n",
       "      <td>0.535878</td>\n",
       "      <td>1.4</td>\n",
       "      <td>1.002168</td>\n",
       "      <td>0.449221</td>\n",
       "      <td>-0.586420</td>\n",
       "      <td>-4.736147</td>\n",
       "    </tr>\n",
       "    <tr>\n",
       "      <th>3</th>\n",
       "      <td>0</td>\n",
       "      <td>47</td>\n",
       "      <td>3</td>\n",
       "      <td>0.523184</td>\n",
       "      <td>0.751050</td>\n",
       "      <td>1.000000</td>\n",
       "      <td>0.976991</td>\n",
       "      <td>-0.563287</td>\n",
       "      <td>-0.720269</td>\n",
       "      <td>0.793260</td>\n",
       "      <td>0.951145</td>\n",
       "      <td>-0.3</td>\n",
       "      <td>-0.995665</td>\n",
       "      <td>-0.434290</td>\n",
       "      <td>1.344650</td>\n",
       "      <td>0.429241</td>\n",
       "    </tr>\n",
       "    <tr>\n",
       "      <th>4</th>\n",
       "      <td>0</td>\n",
       "      <td>47</td>\n",
       "      <td>4</td>\n",
       "      <td>0.272025</td>\n",
       "      <td>1.074580</td>\n",
       "      <td>1.000000</td>\n",
       "      <td>-0.136283</td>\n",
       "      <td>0.398579</td>\n",
       "      <td>0.044877</td>\n",
       "      <td>0.560109</td>\n",
       "      <td>-0.541985</td>\n",
       "      <td>-0.9</td>\n",
       "      <td>1.055636</td>\n",
       "      <td>0.812631</td>\n",
       "      <td>0.123457</td>\n",
       "      <td>-0.223359</td>\n",
       "    </tr>\n",
       "    <tr>\n",
       "      <th>...</th>\n",
       "      <td>...</td>\n",
       "      <td>...</td>\n",
       "      <td>...</td>\n",
       "      <td>...</td>\n",
       "      <td>...</td>\n",
       "      <td>...</td>\n",
       "      <td>...</td>\n",
       "      <td>...</td>\n",
       "      <td>...</td>\n",
       "      <td>...</td>\n",
       "      <td>...</td>\n",
       "      <td>...</td>\n",
       "      <td>...</td>\n",
       "      <td>...</td>\n",
       "      <td>...</td>\n",
       "      <td>...</td>\n",
       "    </tr>\n",
       "    <tr>\n",
       "      <th>1558075</th>\n",
       "      <td>25967</td>\n",
       "      <td>327</td>\n",
       "      <td>55</td>\n",
       "      <td>-0.282844</td>\n",
       "      <td>-1.217437</td>\n",
       "      <td>-1.666153</td>\n",
       "      <td>0.586726</td>\n",
       "      <td>-0.930698</td>\n",
       "      <td>-0.451010</td>\n",
       "      <td>-0.651184</td>\n",
       "      <td>0.368702</td>\n",
       "      <td>0.4</td>\n",
       "      <td>0.008671</td>\n",
       "      <td>-0.723536</td>\n",
       "      <td>-0.353909</td>\n",
       "      <td>-0.914749</td>\n",
       "    </tr>\n",
       "    <tr>\n",
       "      <th>1558076</th>\n",
       "      <td>25967</td>\n",
       "      <td>327</td>\n",
       "      <td>56</td>\n",
       "      <td>0.130603</td>\n",
       "      <td>0.349790</td>\n",
       "      <td>-1.666153</td>\n",
       "      <td>-0.324779</td>\n",
       "      <td>0.775324</td>\n",
       "      <td>-0.332835</td>\n",
       "      <td>0.099271</td>\n",
       "      <td>0.122137</td>\n",
       "      <td>-0.2</td>\n",
       "      <td>0.644509</td>\n",
       "      <td>0.691407</td>\n",
       "      <td>-0.613169</td>\n",
       "      <td>-0.515772</td>\n",
       "    </tr>\n",
       "    <tr>\n",
       "      <th>1558077</th>\n",
       "      <td>25967</td>\n",
       "      <td>327</td>\n",
       "      <td>57</td>\n",
       "      <td>-0.579598</td>\n",
       "      <td>0.429622</td>\n",
       "      <td>-1.666153</td>\n",
       "      <td>0.319469</td>\n",
       "      <td>0.308861</td>\n",
       "      <td>0.282723</td>\n",
       "      <td>-0.512750</td>\n",
       "      <td>0.012214</td>\n",
       "      <td>-1.6</td>\n",
       "      <td>-0.424133</td>\n",
       "      <td>0.716855</td>\n",
       "      <td>1.628601</td>\n",
       "      <td>0.928389</td>\n",
       "    </tr>\n",
       "    <tr>\n",
       "      <th>1558078</th>\n",
       "      <td>25967</td>\n",
       "      <td>327</td>\n",
       "      <td>58</td>\n",
       "      <td>1.278980</td>\n",
       "      <td>1.711134</td>\n",
       "      <td>-1.522820</td>\n",
       "      <td>0.802655</td>\n",
       "      <td>-0.460541</td>\n",
       "      <td>-0.055348</td>\n",
       "      <td>2.405282</td>\n",
       "      <td>0.043511</td>\n",
       "      <td>1.9</td>\n",
       "      <td>0.283960</td>\n",
       "      <td>-0.914914</td>\n",
       "      <td>0.364198</td>\n",
       "      <td>0.211424</td>\n",
       "    </tr>\n",
       "    <tr>\n",
       "      <th>1558079</th>\n",
       "      <td>25967</td>\n",
       "      <td>327</td>\n",
       "      <td>59</td>\n",
       "      <td>-1.136012</td>\n",
       "      <td>-3.702731</td>\n",
       "      <td>-1.332820</td>\n",
       "      <td>-0.766372</td>\n",
       "      <td>-0.430027</td>\n",
       "      <td>-0.091997</td>\n",
       "      <td>-2.512750</td>\n",
       "      <td>-0.022901</td>\n",
       "      <td>-1.1</td>\n",
       "      <td>-0.653902</td>\n",
       "      <td>-0.418516</td>\n",
       "      <td>-1.453704</td>\n",
       "      <td>-1.561381</td>\n",
       "    </tr>\n",
       "  </tbody>\n",
       "</table>\n",
       "<p>1558080 rows × 16 columns</p>\n",
       "</div>"
      ],
      "text/plain": [
       "         sequence  subject  step  sensor_00  sensor_01  sensor_02  sensor_03  \\\n",
       "0               0       47     0  -0.196291   0.112395   1.000000   0.329204   \n",
       "1               0       47     1  -0.447450   0.134454   1.000000  -0.658407   \n",
       "2               0       47     2   0.326893  -0.694328   1.000000   0.330088   \n",
       "3               0       47     3   0.523184   0.751050   1.000000   0.976991   \n",
       "4               0       47     4   0.272025   1.074580   1.000000  -0.136283   \n",
       "...           ...      ...   ...        ...        ...        ...        ...   \n",
       "1558075     25967      327    55  -0.282844  -1.217437  -1.666153   0.586726   \n",
       "1558076     25967      327    56   0.130603   0.349790  -1.666153  -0.324779   \n",
       "1558077     25967      327    57  -0.579598   0.429622  -1.666153   0.319469   \n",
       "1558078     25967      327    58   1.278980   1.711134  -1.522820   0.802655   \n",
       "1558079     25967      327    59  -1.136012  -3.702731  -1.332820  -0.766372   \n",
       "\n",
       "         sensor_04  sensor_05  sensor_06  sensor_07  sensor_08  sensor_09  \\\n",
       "0        -1.004660  -0.131638  -0.127505   0.368702       -0.1  -0.963873   \n",
       "1         0.162495   0.340314  -0.209472  -0.867176        0.2  -0.301301   \n",
       "2         0.473678   1.280479  -0.094718   0.535878        1.4   1.002168   \n",
       "3        -0.563287  -0.720269   0.793260   0.951145       -0.3  -0.995665   \n",
       "4         0.398579   0.044877   0.560109  -0.541985       -0.9   1.055636   \n",
       "...            ...        ...        ...        ...        ...        ...   \n",
       "1558075  -0.930698  -0.451010  -0.651184   0.368702        0.4   0.008671   \n",
       "1558076   0.775324  -0.332835   0.099271   0.122137       -0.2   0.644509   \n",
       "1558077   0.308861   0.282723  -0.512750   0.012214       -1.6  -0.424133   \n",
       "1558078  -0.460541  -0.055348   2.405282   0.043511        1.9   0.283960   \n",
       "1558079  -0.430027  -0.091997  -2.512750  -0.022901       -1.1  -0.653902   \n",
       "\n",
       "         sensor_10  sensor_11  sensor_12  \n",
       "0        -0.985069   0.531893   4.751492  \n",
       "1         0.082733  -0.231481   0.454390  \n",
       "2         0.449221  -0.586420  -4.736147  \n",
       "3        -0.434290   1.344650   0.429241  \n",
       "4         0.812631   0.123457  -0.223359  \n",
       "...            ...        ...        ...  \n",
       "1558075  -0.723536  -0.353909  -0.914749  \n",
       "1558076   0.691407  -0.613169  -0.515772  \n",
       "1558077   0.716855   1.628601   0.928389  \n",
       "1558078  -0.914914   0.364198   0.211424  \n",
       "1558079  -0.418516  -1.453704  -1.561381  \n",
       "\n",
       "[1558080 rows x 16 columns]"
      ]
     },
     "execution_count": 2,
     "metadata": {},
     "output_type": "execute_result"
    }
   ],
   "source": [
    "df = pd.read_csv('../input/tabular-playground-series-apr-2022/train.csv')\n",
    "df"
   ]
  },
  {
   "cell_type": "code",
   "execution_count": 3,
   "id": "c2069555",
   "metadata": {
    "execution": {
     "iopub.execute_input": "2022-04-24T15:14:16.413698Z",
     "iopub.status.busy": "2022-04-24T15:14:16.413004Z",
     "iopub.status.idle": "2022-04-24T15:14:16.416614Z",
     "shell.execute_reply": "2022-04-24T15:14:16.416092Z",
     "shell.execute_reply.started": "2022-04-24T14:50:19.495032Z"
    },
    "papermill": {
     "duration": 0.124219,
     "end_time": "2022-04-24T15:14:16.416937",
     "exception": false,
     "start_time": "2022-04-24T15:14:16.292718",
     "status": "completed"
    },
    "tags": []
   },
   "outputs": [
    {
     "data": {
      "text/plain": [
       "['sensor_00',\n",
       " 'sensor_01',\n",
       " 'sensor_02',\n",
       " 'sensor_03',\n",
       " 'sensor_04',\n",
       " 'sensor_05',\n",
       " 'sensor_06',\n",
       " 'sensor_07',\n",
       " 'sensor_08',\n",
       " 'sensor_09',\n",
       " 'sensor_10',\n",
       " 'sensor_11',\n",
       " 'sensor_12']"
      ]
     },
     "execution_count": 3,
     "metadata": {},
     "output_type": "execute_result"
    }
   ],
   "source": [
    "sensors = df.iloc[:,3:].columns.tolist()\n",
    "sensors"
   ]
  },
  {
   "cell_type": "code",
   "execution_count": 4,
   "id": "d069b4e1",
   "metadata": {
    "execution": {
     "iopub.execute_input": "2022-04-24T15:14:16.538065Z",
     "iopub.status.busy": "2022-04-24T15:14:16.537434Z",
     "iopub.status.idle": "2022-04-24T15:14:16.908230Z",
     "shell.execute_reply": "2022-04-24T15:14:16.908753Z",
     "shell.execute_reply.started": "2022-04-24T14:50:19.561270Z"
    },
    "papermill": {
     "duration": 0.433405,
     "end_time": "2022-04-24T15:14:16.908948",
     "exception": false,
     "start_time": "2022-04-24T15:14:16.475543",
     "status": "completed"
    },
    "tags": []
   },
   "outputs": [],
   "source": [
    "labels = pd.read_csv('../input/tabular-playground-series-apr-2022/train_labels.csv')\n",
    "df = pd.merge(df,labels,on='sequence',how='left')"
   ]
  },
  {
   "cell_type": "code",
   "execution_count": 5,
   "id": "0c6bc2e0",
   "metadata": {
    "execution": {
     "iopub.execute_input": "2022-04-24T15:14:17.028436Z",
     "iopub.status.busy": "2022-04-24T15:14:17.027776Z",
     "iopub.status.idle": "2022-04-24T15:15:41.690531Z",
     "shell.execute_reply": "2022-04-24T15:15:41.689730Z",
     "shell.execute_reply.started": "2022-04-24T14:50:29.887969Z"
    },
    "papermill": {
     "duration": 84.72386,
     "end_time": "2022-04-24T15:15:41.690709",
     "exception": false,
     "start_time": "2022-04-24T15:14:16.966849",
     "status": "completed"
    },
    "tags": []
   },
   "outputs": [],
   "source": [
    "def create_features(df):\n",
    "    for sensor in sensors:\n",
    "        df[f'{sensor}_max'] = df.groupby(['sequence','subject'])[sensor].transform('max')\n",
    "        df[f'{sensor}_min'] = df.groupby(['sequence','subject'])[sensor].transform('min')\n",
    "        df[f'{sensor}_std'] = df.groupby(['sequence','subject'])[sensor].transform('std')\n",
    "        df[f'{sensor}_mean'] = df.groupby(['sequence','subject'])[sensor].transform('mean')\n",
    "        df[f'{sensor}_median'] = df.groupby(['sequence','subject'])[sensor].transform('median')\n",
    "        df[f'{sensor}_diff'] = df.groupby(['sequence','subject'])[sensor].diff()\n",
    "        df[f'{sensor}_diff'].fillna(df[f'{sensor}_diff'].median(),inplace=True)\n",
    "    return df\n",
    "df = create_features(df)"
   ]
  },
  {
   "cell_type": "code",
   "execution_count": 6,
   "id": "b259199b",
   "metadata": {
    "execution": {
     "iopub.execute_input": "2022-04-24T15:15:41.811202Z",
     "iopub.status.busy": "2022-04-24T15:15:41.810567Z",
     "iopub.status.idle": "2022-04-24T15:15:42.471064Z",
     "shell.execute_reply": "2022-04-24T15:15:42.470534Z",
     "shell.execute_reply.started": "2022-04-24T14:51:46.703322Z"
    },
    "papermill": {
     "duration": 0.722582,
     "end_time": "2022-04-24T15:15:42.471217",
     "exception": false,
     "start_time": "2022-04-24T15:15:41.748635",
     "status": "completed"
    },
    "tags": []
   },
   "outputs": [
    {
     "data": {
      "text/html": [
       "<div>\n",
       "<style scoped>\n",
       "    .dataframe tbody tr th:only-of-type {\n",
       "        vertical-align: middle;\n",
       "    }\n",
       "\n",
       "    .dataframe tbody tr th {\n",
       "        vertical-align: top;\n",
       "    }\n",
       "\n",
       "    .dataframe thead th {\n",
       "        text-align: right;\n",
       "    }\n",
       "</style>\n",
       "<table border=\"1\" class=\"dataframe\">\n",
       "  <thead>\n",
       "    <tr style=\"text-align: right;\">\n",
       "      <th></th>\n",
       "      <th>sequence</th>\n",
       "      <th>subject</th>\n",
       "      <th>step</th>\n",
       "      <th>sensor_00</th>\n",
       "      <th>sensor_01</th>\n",
       "      <th>sensor_02</th>\n",
       "      <th>sensor_03</th>\n",
       "      <th>sensor_04</th>\n",
       "      <th>sensor_05</th>\n",
       "      <th>sensor_06</th>\n",
       "      <th>...</th>\n",
       "      <th>sensor_11_std</th>\n",
       "      <th>sensor_11_mean</th>\n",
       "      <th>sensor_11_median</th>\n",
       "      <th>sensor_11_diff</th>\n",
       "      <th>sensor_12_max</th>\n",
       "      <th>sensor_12_min</th>\n",
       "      <th>sensor_12_std</th>\n",
       "      <th>sensor_12_mean</th>\n",
       "      <th>sensor_12_median</th>\n",
       "      <th>sensor_12_diff</th>\n",
       "    </tr>\n",
       "  </thead>\n",
       "  <tbody>\n",
       "    <tr>\n",
       "      <th>0</th>\n",
       "      <td>0</td>\n",
       "      <td>47</td>\n",
       "      <td>0</td>\n",
       "      <td>-0.196291</td>\n",
       "      <td>0.112395</td>\n",
       "      <td>1.000000</td>\n",
       "      <td>0.329204</td>\n",
       "      <td>-1.004660</td>\n",
       "      <td>-0.131638</td>\n",
       "      <td>-0.127505</td>\n",
       "      <td>...</td>\n",
       "      <td>1.257716</td>\n",
       "      <td>0.010391</td>\n",
       "      <td>0.193416</td>\n",
       "      <td>0.001029</td>\n",
       "      <td>6.674766</td>\n",
       "      <td>-50.658994</td>\n",
       "      <td>8.206880</td>\n",
       "      <td>-1.286985</td>\n",
       "      <td>-0.447997</td>\n",
       "      <td>0.000426</td>\n",
       "    </tr>\n",
       "    <tr>\n",
       "      <th>1</th>\n",
       "      <td>0</td>\n",
       "      <td>47</td>\n",
       "      <td>1</td>\n",
       "      <td>-0.447450</td>\n",
       "      <td>0.134454</td>\n",
       "      <td>1.000000</td>\n",
       "      <td>-0.658407</td>\n",
       "      <td>0.162495</td>\n",
       "      <td>0.340314</td>\n",
       "      <td>-0.209472</td>\n",
       "      <td>...</td>\n",
       "      <td>1.257716</td>\n",
       "      <td>0.010391</td>\n",
       "      <td>0.193416</td>\n",
       "      <td>-0.763374</td>\n",
       "      <td>6.674766</td>\n",
       "      <td>-50.658994</td>\n",
       "      <td>8.206880</td>\n",
       "      <td>-1.286985</td>\n",
       "      <td>-0.447997</td>\n",
       "      <td>-4.297101</td>\n",
       "    </tr>\n",
       "    <tr>\n",
       "      <th>2</th>\n",
       "      <td>0</td>\n",
       "      <td>47</td>\n",
       "      <td>2</td>\n",
       "      <td>0.326893</td>\n",
       "      <td>-0.694328</td>\n",
       "      <td>1.000000</td>\n",
       "      <td>0.330088</td>\n",
       "      <td>0.473678</td>\n",
       "      <td>1.280479</td>\n",
       "      <td>-0.094718</td>\n",
       "      <td>...</td>\n",
       "      <td>1.257716</td>\n",
       "      <td>0.010391</td>\n",
       "      <td>0.193416</td>\n",
       "      <td>-0.354938</td>\n",
       "      <td>6.674766</td>\n",
       "      <td>-50.658994</td>\n",
       "      <td>8.206880</td>\n",
       "      <td>-1.286985</td>\n",
       "      <td>-0.447997</td>\n",
       "      <td>-5.190537</td>\n",
       "    </tr>\n",
       "    <tr>\n",
       "      <th>3</th>\n",
       "      <td>0</td>\n",
       "      <td>47</td>\n",
       "      <td>3</td>\n",
       "      <td>0.523184</td>\n",
       "      <td>0.751050</td>\n",
       "      <td>1.000000</td>\n",
       "      <td>0.976991</td>\n",
       "      <td>-0.563287</td>\n",
       "      <td>-0.720269</td>\n",
       "      <td>0.793260</td>\n",
       "      <td>...</td>\n",
       "      <td>1.257716</td>\n",
       "      <td>0.010391</td>\n",
       "      <td>0.193416</td>\n",
       "      <td>1.931070</td>\n",
       "      <td>6.674766</td>\n",
       "      <td>-50.658994</td>\n",
       "      <td>8.206880</td>\n",
       "      <td>-1.286985</td>\n",
       "      <td>-0.447997</td>\n",
       "      <td>5.165388</td>\n",
       "    </tr>\n",
       "    <tr>\n",
       "      <th>4</th>\n",
       "      <td>0</td>\n",
       "      <td>47</td>\n",
       "      <td>4</td>\n",
       "      <td>0.272025</td>\n",
       "      <td>1.074580</td>\n",
       "      <td>1.000000</td>\n",
       "      <td>-0.136283</td>\n",
       "      <td>0.398579</td>\n",
       "      <td>0.044877</td>\n",
       "      <td>0.560109</td>\n",
       "      <td>...</td>\n",
       "      <td>1.257716</td>\n",
       "      <td>0.010391</td>\n",
       "      <td>0.193416</td>\n",
       "      <td>-1.221193</td>\n",
       "      <td>6.674766</td>\n",
       "      <td>-50.658994</td>\n",
       "      <td>8.206880</td>\n",
       "      <td>-1.286985</td>\n",
       "      <td>-0.447997</td>\n",
       "      <td>-0.652600</td>\n",
       "    </tr>\n",
       "    <tr>\n",
       "      <th>...</th>\n",
       "      <td>...</td>\n",
       "      <td>...</td>\n",
       "      <td>...</td>\n",
       "      <td>...</td>\n",
       "      <td>...</td>\n",
       "      <td>...</td>\n",
       "      <td>...</td>\n",
       "      <td>...</td>\n",
       "      <td>...</td>\n",
       "      <td>...</td>\n",
       "      <td>...</td>\n",
       "      <td>...</td>\n",
       "      <td>...</td>\n",
       "      <td>...</td>\n",
       "      <td>...</td>\n",
       "      <td>...</td>\n",
       "      <td>...</td>\n",
       "      <td>...</td>\n",
       "      <td>...</td>\n",
       "      <td>...</td>\n",
       "      <td>...</td>\n",
       "    </tr>\n",
       "    <tr>\n",
       "      <th>1558075</th>\n",
       "      <td>25967</td>\n",
       "      <td>327</td>\n",
       "      <td>55</td>\n",
       "      <td>-0.282844</td>\n",
       "      <td>-1.217437</td>\n",
       "      <td>-1.666153</td>\n",
       "      <td>0.586726</td>\n",
       "      <td>-0.930698</td>\n",
       "      <td>-0.451010</td>\n",
       "      <td>-0.651184</td>\n",
       "      <td>...</td>\n",
       "      <td>1.144242</td>\n",
       "      <td>-0.009208</td>\n",
       "      <td>0.027778</td>\n",
       "      <td>0.374486</td>\n",
       "      <td>2.654731</td>\n",
       "      <td>-2.193521</td>\n",
       "      <td>1.166639</td>\n",
       "      <td>-0.025163</td>\n",
       "      <td>-0.049659</td>\n",
       "      <td>-1.554561</td>\n",
       "    </tr>\n",
       "    <tr>\n",
       "      <th>1558076</th>\n",
       "      <td>25967</td>\n",
       "      <td>327</td>\n",
       "      <td>56</td>\n",
       "      <td>0.130603</td>\n",
       "      <td>0.349790</td>\n",
       "      <td>-1.666153</td>\n",
       "      <td>-0.324779</td>\n",
       "      <td>0.775324</td>\n",
       "      <td>-0.332835</td>\n",
       "      <td>0.099271</td>\n",
       "      <td>...</td>\n",
       "      <td>1.144242</td>\n",
       "      <td>-0.009208</td>\n",
       "      <td>0.027778</td>\n",
       "      <td>-0.259259</td>\n",
       "      <td>2.654731</td>\n",
       "      <td>-2.193521</td>\n",
       "      <td>1.166639</td>\n",
       "      <td>-0.025163</td>\n",
       "      <td>-0.049659</td>\n",
       "      <td>0.398977</td>\n",
       "    </tr>\n",
       "    <tr>\n",
       "      <th>1558077</th>\n",
       "      <td>25967</td>\n",
       "      <td>327</td>\n",
       "      <td>57</td>\n",
       "      <td>-0.579598</td>\n",
       "      <td>0.429622</td>\n",
       "      <td>-1.666153</td>\n",
       "      <td>0.319469</td>\n",
       "      <td>0.308861</td>\n",
       "      <td>0.282723</td>\n",
       "      <td>-0.512750</td>\n",
       "      <td>...</td>\n",
       "      <td>1.144242</td>\n",
       "      <td>-0.009208</td>\n",
       "      <td>0.027778</td>\n",
       "      <td>2.241770</td>\n",
       "      <td>2.654731</td>\n",
       "      <td>-2.193521</td>\n",
       "      <td>1.166639</td>\n",
       "      <td>-0.025163</td>\n",
       "      <td>-0.049659</td>\n",
       "      <td>1.444160</td>\n",
       "    </tr>\n",
       "    <tr>\n",
       "      <th>1558078</th>\n",
       "      <td>25967</td>\n",
       "      <td>327</td>\n",
       "      <td>58</td>\n",
       "      <td>1.278980</td>\n",
       "      <td>1.711134</td>\n",
       "      <td>-1.522820</td>\n",
       "      <td>0.802655</td>\n",
       "      <td>-0.460541</td>\n",
       "      <td>-0.055348</td>\n",
       "      <td>2.405282</td>\n",
       "      <td>...</td>\n",
       "      <td>1.144242</td>\n",
       "      <td>-0.009208</td>\n",
       "      <td>0.027778</td>\n",
       "      <td>-1.264403</td>\n",
       "      <td>2.654731</td>\n",
       "      <td>-2.193521</td>\n",
       "      <td>1.166639</td>\n",
       "      <td>-0.025163</td>\n",
       "      <td>-0.049659</td>\n",
       "      <td>-0.716965</td>\n",
       "    </tr>\n",
       "    <tr>\n",
       "      <th>1558079</th>\n",
       "      <td>25967</td>\n",
       "      <td>327</td>\n",
       "      <td>59</td>\n",
       "      <td>-1.136012</td>\n",
       "      <td>-3.702731</td>\n",
       "      <td>-1.332820</td>\n",
       "      <td>-0.766372</td>\n",
       "      <td>-0.430027</td>\n",
       "      <td>-0.091997</td>\n",
       "      <td>-2.512750</td>\n",
       "      <td>...</td>\n",
       "      <td>1.144242</td>\n",
       "      <td>-0.009208</td>\n",
       "      <td>0.027778</td>\n",
       "      <td>-1.817901</td>\n",
       "      <td>2.654731</td>\n",
       "      <td>-2.193521</td>\n",
       "      <td>1.166639</td>\n",
       "      <td>-0.025163</td>\n",
       "      <td>-0.049659</td>\n",
       "      <td>-1.772805</td>\n",
       "    </tr>\n",
       "  </tbody>\n",
       "</table>\n",
       "<p>1558080 rows × 95 columns</p>\n",
       "</div>"
      ],
      "text/plain": [
       "         sequence  subject  step  sensor_00  sensor_01  sensor_02  sensor_03  \\\n",
       "0               0       47     0  -0.196291   0.112395   1.000000   0.329204   \n",
       "1               0       47     1  -0.447450   0.134454   1.000000  -0.658407   \n",
       "2               0       47     2   0.326893  -0.694328   1.000000   0.330088   \n",
       "3               0       47     3   0.523184   0.751050   1.000000   0.976991   \n",
       "4               0       47     4   0.272025   1.074580   1.000000  -0.136283   \n",
       "...           ...      ...   ...        ...        ...        ...        ...   \n",
       "1558075     25967      327    55  -0.282844  -1.217437  -1.666153   0.586726   \n",
       "1558076     25967      327    56   0.130603   0.349790  -1.666153  -0.324779   \n",
       "1558077     25967      327    57  -0.579598   0.429622  -1.666153   0.319469   \n",
       "1558078     25967      327    58   1.278980   1.711134  -1.522820   0.802655   \n",
       "1558079     25967      327    59  -1.136012  -3.702731  -1.332820  -0.766372   \n",
       "\n",
       "         sensor_04  sensor_05  sensor_06  ...  sensor_11_std  sensor_11_mean  \\\n",
       "0        -1.004660  -0.131638  -0.127505  ...       1.257716        0.010391   \n",
       "1         0.162495   0.340314  -0.209472  ...       1.257716        0.010391   \n",
       "2         0.473678   1.280479  -0.094718  ...       1.257716        0.010391   \n",
       "3        -0.563287  -0.720269   0.793260  ...       1.257716        0.010391   \n",
       "4         0.398579   0.044877   0.560109  ...       1.257716        0.010391   \n",
       "...            ...        ...        ...  ...            ...             ...   \n",
       "1558075  -0.930698  -0.451010  -0.651184  ...       1.144242       -0.009208   \n",
       "1558076   0.775324  -0.332835   0.099271  ...       1.144242       -0.009208   \n",
       "1558077   0.308861   0.282723  -0.512750  ...       1.144242       -0.009208   \n",
       "1558078  -0.460541  -0.055348   2.405282  ...       1.144242       -0.009208   \n",
       "1558079  -0.430027  -0.091997  -2.512750  ...       1.144242       -0.009208   \n",
       "\n",
       "         sensor_11_median  sensor_11_diff  sensor_12_max  sensor_12_min  \\\n",
       "0                0.193416        0.001029       6.674766     -50.658994   \n",
       "1                0.193416       -0.763374       6.674766     -50.658994   \n",
       "2                0.193416       -0.354938       6.674766     -50.658994   \n",
       "3                0.193416        1.931070       6.674766     -50.658994   \n",
       "4                0.193416       -1.221193       6.674766     -50.658994   \n",
       "...                   ...             ...            ...            ...   \n",
       "1558075          0.027778        0.374486       2.654731      -2.193521   \n",
       "1558076          0.027778       -0.259259       2.654731      -2.193521   \n",
       "1558077          0.027778        2.241770       2.654731      -2.193521   \n",
       "1558078          0.027778       -1.264403       2.654731      -2.193521   \n",
       "1558079          0.027778       -1.817901       2.654731      -2.193521   \n",
       "\n",
       "         sensor_12_std  sensor_12_mean  sensor_12_median  sensor_12_diff  \n",
       "0             8.206880       -1.286985         -0.447997        0.000426  \n",
       "1             8.206880       -1.286985         -0.447997       -4.297101  \n",
       "2             8.206880       -1.286985         -0.447997       -5.190537  \n",
       "3             8.206880       -1.286985         -0.447997        5.165388  \n",
       "4             8.206880       -1.286985         -0.447997       -0.652600  \n",
       "...                ...             ...               ...             ...  \n",
       "1558075       1.166639       -0.025163         -0.049659       -1.554561  \n",
       "1558076       1.166639       -0.025163         -0.049659        0.398977  \n",
       "1558077       1.166639       -0.025163         -0.049659        1.444160  \n",
       "1558078       1.166639       -0.025163         -0.049659       -0.716965  \n",
       "1558079       1.166639       -0.025163         -0.049659       -1.772805  \n",
       "\n",
       "[1558080 rows x 95 columns]"
      ]
     },
     "execution_count": 6,
     "metadata": {},
     "output_type": "execute_result"
    }
   ],
   "source": [
    "df"
   ]
  },
  {
   "cell_type": "code",
   "execution_count": 7,
   "id": "0b520717",
   "metadata": {
    "execution": {
     "iopub.execute_input": "2022-04-24T15:15:42.591592Z",
     "iopub.status.busy": "2022-04-24T15:15:42.590924Z",
     "iopub.status.idle": "2022-04-24T15:15:44.588103Z",
     "shell.execute_reply": "2022-04-24T15:15:44.587088Z",
     "shell.execute_reply.started": "2022-04-24T14:51:47.172377Z"
    },
    "papermill": {
     "duration": 2.0585,
     "end_time": "2022-04-24T15:15:44.588304",
     "exception": false,
     "start_time": "2022-04-24T15:15:42.529804",
     "status": "completed"
    },
    "tags": []
   },
   "outputs": [],
   "source": [
    "y = df['state'].copy()\n",
    "x = df.drop(columns=['state'])"
   ]
  },
  {
   "cell_type": "code",
   "execution_count": 8,
   "id": "b3f82cfe",
   "metadata": {
    "execution": {
     "iopub.execute_input": "2022-04-24T15:15:44.729515Z",
     "iopub.status.busy": "2022-04-24T15:15:44.728818Z",
     "iopub.status.idle": "2022-04-24T15:15:47.791366Z",
     "shell.execute_reply": "2022-04-24T15:15:47.790772Z",
     "shell.execute_reply.started": "2022-04-24T14:51:48.454763Z"
    },
    "papermill": {
     "duration": 3.134219,
     "end_time": "2022-04-24T15:15:47.791543",
     "exception": false,
     "start_time": "2022-04-24T15:15:44.657324",
     "status": "completed"
    },
    "tags": []
   },
   "outputs": [],
   "source": [
    "from sklearn.model_selection import train_test_split\n",
    "x_train, x_val, y_train, y_val = train_test_split(\n",
    "    x, y, test_size=0.3, random_state=42)"
   ]
  },
  {
   "cell_type": "code",
   "execution_count": 9,
   "id": "24b5528f",
   "metadata": {
    "execution": {
     "iopub.execute_input": "2022-04-24T15:15:47.911357Z",
     "iopub.status.busy": "2022-04-24T15:15:47.910727Z",
     "iopub.status.idle": "2022-04-24T15:16:35.556538Z",
     "shell.execute_reply": "2022-04-24T15:16:35.555448Z",
     "shell.execute_reply.started": "2022-04-24T14:51:50.617327Z"
    },
    "papermill": {
     "duration": 47.707498,
     "end_time": "2022-04-24T15:16:35.556933",
     "exception": false,
     "start_time": "2022-04-24T15:15:47.849435",
     "status": "completed"
    },
    "tags": []
   },
   "outputs": [
    {
     "data": {
      "text/html": [
       "<style type='text/css'>\n",
       ".datatable table.frame { margin-bottom: 0; }\n",
       ".datatable table.frame thead { border-bottom: none; }\n",
       ".datatable table.frame tr.coltypes td {  color: #FFFFFF;  line-height: 6px;  padding: 0 0.5em;}\n",
       ".datatable .bool    { background: #DDDD99; }\n",
       ".datatable .object  { background: #565656; }\n",
       ".datatable .int     { background: #5D9E5D; }\n",
       ".datatable .float   { background: #4040CC; }\n",
       ".datatable .str     { background: #CC4040; }\n",
       ".datatable .time    { background: #40CC40; }\n",
       ".datatable .row_index {  background: var(--jp-border-color3);  border-right: 1px solid var(--jp-border-color0);  color: var(--jp-ui-font-color3);  font-size: 9px;}\n",
       ".datatable .frame tbody td { text-align: left; }\n",
       ".datatable .frame tr.coltypes .row_index {  background: var(--jp-border-color0);}\n",
       ".datatable th:nth-child(2) { padding-left: 12px; }\n",
       ".datatable .hellipsis {  color: var(--jp-cell-editor-border-color);}\n",
       ".datatable .vellipsis {  background: var(--jp-layout-color0);  color: var(--jp-cell-editor-border-color);}\n",
       ".datatable .na {  color: var(--jp-cell-editor-border-color);  font-size: 80%;}\n",
       ".datatable .sp {  opacity: 0.25;}\n",
       ".datatable .footer { font-size: 9px; }\n",
       ".datatable .frame_dimensions {  background: var(--jp-border-color3);  border-top: 1px solid var(--jp-border-color0);  color: var(--jp-ui-font-color3);  display: inline-block;  opacity: 0.6;  padding: 1px 10px 1px 5px;}\n",
       "</style>\n"
      ],
      "text/plain": [
       "<IPython.core.display.HTML object>"
      ]
     },
     "metadata": {},
     "output_type": "display_data"
    }
   ],
   "source": [
    "from lightgbm import LGBMClassifier\n",
    "from sklearn.model_selection import StratifiedKFold\n",
    "from sklearn.model_selection import cross_validate\n",
    "\n",
    "lgb = LGBMClassifier(random_state=42)\n",
    "lgb.fit(x_train, y_train)\n",
    "y_pred = lgb.predict(x_val)"
   ]
  },
  {
   "cell_type": "code",
   "execution_count": 10,
   "id": "0f0b39ac",
   "metadata": {
    "execution": {
     "iopub.execute_input": "2022-04-24T15:16:35.683533Z",
     "iopub.status.busy": "2022-04-24T15:16:35.682840Z",
     "iopub.status.idle": "2022-04-24T15:18:10.000518Z",
     "shell.execute_reply": "2022-04-24T15:18:10.001066Z",
     "shell.execute_reply.started": "2022-04-24T14:52:27.909063Z"
    },
    "papermill": {
     "duration": 94.381641,
     "end_time": "2022-04-24T15:18:10.001276",
     "exception": false,
     "start_time": "2022-04-24T15:16:35.619635",
     "status": "completed"
    },
    "tags": []
   },
   "outputs": [
    {
     "name": "stdout",
     "output_type": "stream",
     "text": [
      "0.8811513437784232 0.8793670964997213\n"
     ]
    }
   ],
   "source": [
    "splitter = StratifiedKFold(n_splits = 3, shuffle = True, random_state=42)\n",
    "scores = cross_validate(lgb, x_train, y_train, return_train_score = True, cv=splitter)\n",
    "\n",
    "print(np.mean(scores['train_score']), np.mean(scores['test_score']))"
   ]
  },
  {
   "cell_type": "code",
   "execution_count": 11,
   "id": "842a9597",
   "metadata": {
    "execution": {
     "iopub.execute_input": "2022-04-24T15:18:10.126150Z",
     "iopub.status.busy": "2022-04-24T15:18:10.125508Z",
     "iopub.status.idle": "2022-04-24T15:18:51.571458Z",
     "shell.execute_reply": "2022-04-24T15:18:51.572492Z",
     "shell.execute_reply.started": "2022-04-24T14:53:55.019839Z"
    },
    "papermill": {
     "duration": 41.513112,
     "end_time": "2022-04-24T15:18:51.573100",
     "exception": false,
     "start_time": "2022-04-24T15:18:10.059988",
     "status": "completed"
    },
    "tags": []
   },
   "outputs": [],
   "source": [
    "test = pd.read_csv('../input/tabular-playground-series-apr-2022/test.csv')\n",
    "test = create_features(test)"
   ]
  },
  {
   "cell_type": "code",
   "execution_count": 12,
   "id": "4533a975",
   "metadata": {
    "execution": {
     "iopub.execute_input": "2022-04-24T15:18:51.723852Z",
     "iopub.status.busy": "2022-04-24T15:18:51.723174Z",
     "iopub.status.idle": "2022-04-24T15:18:54.673890Z",
     "shell.execute_reply": "2022-04-24T15:18:54.673203Z",
     "shell.execute_reply.started": "2022-04-24T14:54:33.126002Z"
    },
    "papermill": {
     "duration": 3.029244,
     "end_time": "2022-04-24T15:18:54.674045",
     "exception": false,
     "start_time": "2022-04-24T15:18:51.644801",
     "status": "completed"
    },
    "tags": []
   },
   "outputs": [
    {
     "data": {
      "text/plain": [
       "array([1, 1, 1, ..., 0, 0, 0])"
      ]
     },
     "execution_count": 12,
     "metadata": {},
     "output_type": "execute_result"
    }
   ],
   "source": [
    "pred = lgb.predict(test)\n",
    "pred"
   ]
  },
  {
   "cell_type": "code",
   "execution_count": 13,
   "id": "8e80da14",
   "metadata": {
    "execution": {
     "iopub.execute_input": "2022-04-24T15:18:54.798248Z",
     "iopub.status.busy": "2022-04-24T15:18:54.797624Z",
     "iopub.status.idle": "2022-04-24T15:18:54.818066Z",
     "shell.execute_reply": "2022-04-24T15:18:54.818576Z",
     "shell.execute_reply.started": "2022-04-24T14:55:00.203402Z"
    },
    "papermill": {
     "duration": 0.085547,
     "end_time": "2022-04-24T15:18:54.818753",
     "exception": false,
     "start_time": "2022-04-24T15:18:54.733206",
     "status": "completed"
    },
    "tags": []
   },
   "outputs": [
    {
     "data": {
      "text/html": [
       "<div>\n",
       "<style scoped>\n",
       "    .dataframe tbody tr th:only-of-type {\n",
       "        vertical-align: middle;\n",
       "    }\n",
       "\n",
       "    .dataframe tbody tr th {\n",
       "        vertical-align: top;\n",
       "    }\n",
       "\n",
       "    .dataframe thead th {\n",
       "        text-align: right;\n",
       "    }\n",
       "</style>\n",
       "<table border=\"1\" class=\"dataframe\">\n",
       "  <thead>\n",
       "    <tr style=\"text-align: right;\">\n",
       "      <th></th>\n",
       "      <th>sequence</th>\n",
       "      <th>state</th>\n",
       "    </tr>\n",
       "  </thead>\n",
       "  <tbody>\n",
       "    <tr>\n",
       "      <th>0</th>\n",
       "      <td>25968</td>\n",
       "      <td>0</td>\n",
       "    </tr>\n",
       "    <tr>\n",
       "      <th>1</th>\n",
       "      <td>25969</td>\n",
       "      <td>0</td>\n",
       "    </tr>\n",
       "    <tr>\n",
       "      <th>2</th>\n",
       "      <td>25970</td>\n",
       "      <td>0</td>\n",
       "    </tr>\n",
       "    <tr>\n",
       "      <th>3</th>\n",
       "      <td>25971</td>\n",
       "      <td>0</td>\n",
       "    </tr>\n",
       "    <tr>\n",
       "      <th>4</th>\n",
       "      <td>25972</td>\n",
       "      <td>0</td>\n",
       "    </tr>\n",
       "    <tr>\n",
       "      <th>...</th>\n",
       "      <td>...</td>\n",
       "      <td>...</td>\n",
       "    </tr>\n",
       "    <tr>\n",
       "      <th>12213</th>\n",
       "      <td>38181</td>\n",
       "      <td>0</td>\n",
       "    </tr>\n",
       "    <tr>\n",
       "      <th>12214</th>\n",
       "      <td>38182</td>\n",
       "      <td>0</td>\n",
       "    </tr>\n",
       "    <tr>\n",
       "      <th>12215</th>\n",
       "      <td>38183</td>\n",
       "      <td>0</td>\n",
       "    </tr>\n",
       "    <tr>\n",
       "      <th>12216</th>\n",
       "      <td>38184</td>\n",
       "      <td>0</td>\n",
       "    </tr>\n",
       "    <tr>\n",
       "      <th>12217</th>\n",
       "      <td>38185</td>\n",
       "      <td>0</td>\n",
       "    </tr>\n",
       "  </tbody>\n",
       "</table>\n",
       "<p>12218 rows × 2 columns</p>\n",
       "</div>"
      ],
      "text/plain": [
       "       sequence  state\n",
       "0         25968      0\n",
       "1         25969      0\n",
       "2         25970      0\n",
       "3         25971      0\n",
       "4         25972      0\n",
       "...         ...    ...\n",
       "12213     38181      0\n",
       "12214     38182      0\n",
       "12215     38183      0\n",
       "12216     38184      0\n",
       "12217     38185      0\n",
       "\n",
       "[12218 rows x 2 columns]"
      ]
     },
     "execution_count": 13,
     "metadata": {},
     "output_type": "execute_result"
    }
   ],
   "source": [
    "submission = pd.read_csv('../input/tabular-playground-series-apr-2022/sample_submission.csv')\n",
    "submission"
   ]
  },
  {
   "cell_type": "code",
   "execution_count": 14,
   "id": "b03113ff",
   "metadata": {
    "execution": {
     "iopub.execute_input": "2022-04-24T15:18:54.944297Z",
     "iopub.status.busy": "2022-04-24T15:18:54.943651Z",
     "iopub.status.idle": "2022-04-24T15:18:55.207486Z",
     "shell.execute_reply": "2022-04-24T15:18:55.208030Z",
     "shell.execute_reply.started": "2022-04-24T14:56:49.541509Z"
    },
    "papermill": {
     "duration": 0.329665,
     "end_time": "2022-04-24T15:18:55.208232",
     "exception": false,
     "start_time": "2022-04-24T15:18:54.878567",
     "status": "completed"
    },
    "tags": []
   },
   "outputs": [
    {
     "data": {
      "text/html": [
       "<div>\n",
       "<style scoped>\n",
       "    .dataframe tbody tr th:only-of-type {\n",
       "        vertical-align: middle;\n",
       "    }\n",
       "\n",
       "    .dataframe tbody tr th {\n",
       "        vertical-align: top;\n",
       "    }\n",
       "\n",
       "    .dataframe thead th {\n",
       "        text-align: right;\n",
       "    }\n",
       "</style>\n",
       "<table border=\"1\" class=\"dataframe\">\n",
       "  <thead>\n",
       "    <tr style=\"text-align: right;\">\n",
       "      <th></th>\n",
       "      <th>sequence</th>\n",
       "      <th>subject</th>\n",
       "      <th>step</th>\n",
       "      <th>sensor_00</th>\n",
       "      <th>sensor_01</th>\n",
       "      <th>sensor_02</th>\n",
       "      <th>sensor_03</th>\n",
       "      <th>sensor_04</th>\n",
       "      <th>sensor_05</th>\n",
       "      <th>sensor_06</th>\n",
       "      <th>...</th>\n",
       "      <th>sensor_11_mean</th>\n",
       "      <th>sensor_11_median</th>\n",
       "      <th>sensor_11_diff</th>\n",
       "      <th>sensor_12_max</th>\n",
       "      <th>sensor_12_min</th>\n",
       "      <th>sensor_12_std</th>\n",
       "      <th>sensor_12_mean</th>\n",
       "      <th>sensor_12_median</th>\n",
       "      <th>sensor_12_diff</th>\n",
       "      <th>state</th>\n",
       "    </tr>\n",
       "  </thead>\n",
       "  <tbody>\n",
       "    <tr>\n",
       "      <th>0</th>\n",
       "      <td>25968</td>\n",
       "      <td>684</td>\n",
       "      <td>0</td>\n",
       "      <td>2.427357</td>\n",
       "      <td>19.639706</td>\n",
       "      <td>1.00000</td>\n",
       "      <td>-1.466372</td>\n",
       "      <td>-1.289973</td>\n",
       "      <td>-4.207928</td>\n",
       "      <td>2.486339</td>\n",
       "      <td>...</td>\n",
       "      <td>0.025977</td>\n",
       "      <td>0.121399</td>\n",
       "      <td>0.001029</td>\n",
       "      <td>0.716539</td>\n",
       "      <td>-0.809889</td>\n",
       "      <td>0.369897</td>\n",
       "      <td>-0.000945</td>\n",
       "      <td>-0.008951</td>\n",
       "      <td>-0.000853</td>\n",
       "      <td>1</td>\n",
       "    </tr>\n",
       "    <tr>\n",
       "      <th>1</th>\n",
       "      <td>25968</td>\n",
       "      <td>684</td>\n",
       "      <td>1</td>\n",
       "      <td>-4.950541</td>\n",
       "      <td>-21.747899</td>\n",
       "      <td>1.00000</td>\n",
       "      <td>0.983186</td>\n",
       "      <td>-0.569053</td>\n",
       "      <td>1.845924</td>\n",
       "      <td>-3.887978</td>\n",
       "      <td>...</td>\n",
       "      <td>0.025977</td>\n",
       "      <td>0.121399</td>\n",
       "      <td>-12.851852</td>\n",
       "      <td>0.716539</td>\n",
       "      <td>-0.809889</td>\n",
       "      <td>0.369897</td>\n",
       "      <td>-0.000945</td>\n",
       "      <td>-0.008951</td>\n",
       "      <td>-0.427536</td>\n",
       "      <td>1</td>\n",
       "    </tr>\n",
       "    <tr>\n",
       "      <th>2</th>\n",
       "      <td>25968</td>\n",
       "      <td>684</td>\n",
       "      <td>2</td>\n",
       "      <td>1.136012</td>\n",
       "      <td>-10.756303</td>\n",
       "      <td>1.00000</td>\n",
       "      <td>1.016814</td>\n",
       "      <td>0.964157</td>\n",
       "      <td>2.454749</td>\n",
       "      <td>0.312386</td>\n",
       "      <td>...</td>\n",
       "      <td>0.025977</td>\n",
       "      <td>0.121399</td>\n",
       "      <td>-9.712963</td>\n",
       "      <td>0.716539</td>\n",
       "      <td>-0.809889</td>\n",
       "      <td>0.369897</td>\n",
       "      <td>-0.000945</td>\n",
       "      <td>-0.008951</td>\n",
       "      <td>0.148338</td>\n",
       "      <td>1</td>\n",
       "    </tr>\n",
       "    <tr>\n",
       "      <th>3</th>\n",
       "      <td>25968</td>\n",
       "      <td>684</td>\n",
       "      <td>3</td>\n",
       "      <td>0.806028</td>\n",
       "      <td>6.504202</td>\n",
       "      <td>1.00000</td>\n",
       "      <td>-0.179646</td>\n",
       "      <td>0.969221</td>\n",
       "      <td>-1.035153</td>\n",
       "      <td>-0.457195</td>\n",
       "      <td>...</td>\n",
       "      <td>0.025977</td>\n",
       "      <td>0.121399</td>\n",
       "      <td>7.342593</td>\n",
       "      <td>0.716539</td>\n",
       "      <td>-0.809889</td>\n",
       "      <td>0.369897</td>\n",
       "      <td>-0.000945</td>\n",
       "      <td>-0.008951</td>\n",
       "      <td>-0.602728</td>\n",
       "      <td>1</td>\n",
       "    </tr>\n",
       "    <tr>\n",
       "      <th>4</th>\n",
       "      <td>25968</td>\n",
       "      <td>684</td>\n",
       "      <td>4</td>\n",
       "      <td>1.288253</td>\n",
       "      <td>5.552521</td>\n",
       "      <td>1.00000</td>\n",
       "      <td>-0.493805</td>\n",
       "      <td>-1.036124</td>\n",
       "      <td>-1.126402</td>\n",
       "      <td>2.008197</td>\n",
       "      <td>...</td>\n",
       "      <td>0.025977</td>\n",
       "      <td>0.121399</td>\n",
       "      <td>3.769547</td>\n",
       "      <td>0.716539</td>\n",
       "      <td>-0.809889</td>\n",
       "      <td>0.369897</td>\n",
       "      <td>-0.000945</td>\n",
       "      <td>-0.008951</td>\n",
       "      <td>0.341432</td>\n",
       "      <td>1</td>\n",
       "    </tr>\n",
       "    <tr>\n",
       "      <th>...</th>\n",
       "      <td>...</td>\n",
       "      <td>...</td>\n",
       "      <td>...</td>\n",
       "      <td>...</td>\n",
       "      <td>...</td>\n",
       "      <td>...</td>\n",
       "      <td>...</td>\n",
       "      <td>...</td>\n",
       "      <td>...</td>\n",
       "      <td>...</td>\n",
       "      <td>...</td>\n",
       "      <td>...</td>\n",
       "      <td>...</td>\n",
       "      <td>...</td>\n",
       "      <td>...</td>\n",
       "      <td>...</td>\n",
       "      <td>...</td>\n",
       "      <td>...</td>\n",
       "      <td>...</td>\n",
       "      <td>...</td>\n",
       "      <td>...</td>\n",
       "    </tr>\n",
       "    <tr>\n",
       "      <th>733075</th>\n",
       "      <td>38185</td>\n",
       "      <td>773</td>\n",
       "      <td>55</td>\n",
       "      <td>0.211747</td>\n",
       "      <td>2.005252</td>\n",
       "      <td>-1.33282</td>\n",
       "      <td>0.695575</td>\n",
       "      <td>-0.161327</td>\n",
       "      <td>-1.193717</td>\n",
       "      <td>0.421676</td>\n",
       "      <td>...</td>\n",
       "      <td>-0.047308</td>\n",
       "      <td>0.121914</td>\n",
       "      <td>3.027778</td>\n",
       "      <td>207.146633</td>\n",
       "      <td>-161.786445</td>\n",
       "      <td>92.680510</td>\n",
       "      <td>1.558234</td>\n",
       "      <td>20.058397</td>\n",
       "      <td>-117.942029</td>\n",
       "      <td>0</td>\n",
       "    </tr>\n",
       "    <tr>\n",
       "      <th>733076</th>\n",
       "      <td>38185</td>\n",
       "      <td>773</td>\n",
       "      <td>56</td>\n",
       "      <td>-0.826121</td>\n",
       "      <td>-2.468487</td>\n",
       "      <td>-1.33282</td>\n",
       "      <td>0.381416</td>\n",
       "      <td>0.144745</td>\n",
       "      <td>1.060583</td>\n",
       "      <td>-0.765938</td>\n",
       "      <td>...</td>\n",
       "      <td>-0.047308</td>\n",
       "      <td>0.121914</td>\n",
       "      <td>-4.000000</td>\n",
       "      <td>207.146633</td>\n",
       "      <td>-161.786445</td>\n",
       "      <td>92.680510</td>\n",
       "      <td>1.558234</td>\n",
       "      <td>20.058397</td>\n",
       "      <td>164.025575</td>\n",
       "      <td>0</td>\n",
       "    </tr>\n",
       "    <tr>\n",
       "      <th>733077</th>\n",
       "      <td>38185</td>\n",
       "      <td>773</td>\n",
       "      <td>57</td>\n",
       "      <td>0.755023</td>\n",
       "      <td>1.469538</td>\n",
       "      <td>-1.33282</td>\n",
       "      <td>-1.253097</td>\n",
       "      <td>-0.414802</td>\n",
       "      <td>0.007479</td>\n",
       "      <td>0.907104</td>\n",
       "      <td>...</td>\n",
       "      <td>-0.047308</td>\n",
       "      <td>0.121914</td>\n",
       "      <td>2.436214</td>\n",
       "      <td>207.146633</td>\n",
       "      <td>-161.786445</td>\n",
       "      <td>92.680510</td>\n",
       "      <td>1.558234</td>\n",
       "      <td>20.058397</td>\n",
       "      <td>-106.480392</td>\n",
       "      <td>0</td>\n",
       "    </tr>\n",
       "    <tr>\n",
       "      <th>733078</th>\n",
       "      <td>38185</td>\n",
       "      <td>773</td>\n",
       "      <td>58</td>\n",
       "      <td>-0.187017</td>\n",
       "      <td>0.714286</td>\n",
       "      <td>-1.33282</td>\n",
       "      <td>0.077876</td>\n",
       "      <td>1.323245</td>\n",
       "      <td>0.159312</td>\n",
       "      <td>-0.397996</td>\n",
       "      <td>...</td>\n",
       "      <td>-0.047308</td>\n",
       "      <td>0.121914</td>\n",
       "      <td>-0.324074</td>\n",
       "      <td>207.146633</td>\n",
       "      <td>-161.786445</td>\n",
       "      <td>92.680510</td>\n",
       "      <td>1.558234</td>\n",
       "      <td>20.058397</td>\n",
       "      <td>99.725064</td>\n",
       "      <td>0</td>\n",
       "    </tr>\n",
       "    <tr>\n",
       "      <th>733079</th>\n",
       "      <td>38185</td>\n",
       "      <td>773</td>\n",
       "      <td>59</td>\n",
       "      <td>-0.414992</td>\n",
       "      <td>-2.858193</td>\n",
       "      <td>-1.33282</td>\n",
       "      <td>1.061062</td>\n",
       "      <td>-0.264150</td>\n",
       "      <td>-0.449514</td>\n",
       "      <td>-0.601093</td>\n",
       "      <td>...</td>\n",
       "      <td>-0.047308</td>\n",
       "      <td>0.121914</td>\n",
       "      <td>-1.877572</td>\n",
       "      <td>207.146633</td>\n",
       "      <td>-161.786445</td>\n",
       "      <td>92.680510</td>\n",
       "      <td>1.558234</td>\n",
       "      <td>20.058397</td>\n",
       "      <td>-8.469736</td>\n",
       "      <td>0</td>\n",
       "    </tr>\n",
       "  </tbody>\n",
       "</table>\n",
       "<p>733080 rows × 95 columns</p>\n",
       "</div>"
      ],
      "text/plain": [
       "        sequence  subject  step  sensor_00  sensor_01  sensor_02  sensor_03  \\\n",
       "0          25968      684     0   2.427357  19.639706    1.00000  -1.466372   \n",
       "1          25968      684     1  -4.950541 -21.747899    1.00000   0.983186   \n",
       "2          25968      684     2   1.136012 -10.756303    1.00000   1.016814   \n",
       "3          25968      684     3   0.806028   6.504202    1.00000  -0.179646   \n",
       "4          25968      684     4   1.288253   5.552521    1.00000  -0.493805   \n",
       "...          ...      ...   ...        ...        ...        ...        ...   \n",
       "733075     38185      773    55   0.211747   2.005252   -1.33282   0.695575   \n",
       "733076     38185      773    56  -0.826121  -2.468487   -1.33282   0.381416   \n",
       "733077     38185      773    57   0.755023   1.469538   -1.33282  -1.253097   \n",
       "733078     38185      773    58  -0.187017   0.714286   -1.33282   0.077876   \n",
       "733079     38185      773    59  -0.414992  -2.858193   -1.33282   1.061062   \n",
       "\n",
       "        sensor_04  sensor_05  sensor_06  ...  sensor_11_mean  \\\n",
       "0       -1.289973  -4.207928   2.486339  ...        0.025977   \n",
       "1       -0.569053   1.845924  -3.887978  ...        0.025977   \n",
       "2        0.964157   2.454749   0.312386  ...        0.025977   \n",
       "3        0.969221  -1.035153  -0.457195  ...        0.025977   \n",
       "4       -1.036124  -1.126402   2.008197  ...        0.025977   \n",
       "...           ...        ...        ...  ...             ...   \n",
       "733075  -0.161327  -1.193717   0.421676  ...       -0.047308   \n",
       "733076   0.144745   1.060583  -0.765938  ...       -0.047308   \n",
       "733077  -0.414802   0.007479   0.907104  ...       -0.047308   \n",
       "733078   1.323245   0.159312  -0.397996  ...       -0.047308   \n",
       "733079  -0.264150  -0.449514  -0.601093  ...       -0.047308   \n",
       "\n",
       "        sensor_11_median  sensor_11_diff  sensor_12_max  sensor_12_min  \\\n",
       "0               0.121399        0.001029       0.716539      -0.809889   \n",
       "1               0.121399      -12.851852       0.716539      -0.809889   \n",
       "2               0.121399       -9.712963       0.716539      -0.809889   \n",
       "3               0.121399        7.342593       0.716539      -0.809889   \n",
       "4               0.121399        3.769547       0.716539      -0.809889   \n",
       "...                  ...             ...            ...            ...   \n",
       "733075          0.121914        3.027778     207.146633    -161.786445   \n",
       "733076          0.121914       -4.000000     207.146633    -161.786445   \n",
       "733077          0.121914        2.436214     207.146633    -161.786445   \n",
       "733078          0.121914       -0.324074     207.146633    -161.786445   \n",
       "733079          0.121914       -1.877572     207.146633    -161.786445   \n",
       "\n",
       "        sensor_12_std  sensor_12_mean  sensor_12_median  sensor_12_diff  state  \n",
       "0            0.369897       -0.000945         -0.008951       -0.000853      1  \n",
       "1            0.369897       -0.000945         -0.008951       -0.427536      1  \n",
       "2            0.369897       -0.000945         -0.008951        0.148338      1  \n",
       "3            0.369897       -0.000945         -0.008951       -0.602728      1  \n",
       "4            0.369897       -0.000945         -0.008951        0.341432      1  \n",
       "...               ...             ...               ...             ...    ...  \n",
       "733075      92.680510        1.558234         20.058397     -117.942029      0  \n",
       "733076      92.680510        1.558234         20.058397      164.025575      0  \n",
       "733077      92.680510        1.558234         20.058397     -106.480392      0  \n",
       "733078      92.680510        1.558234         20.058397       99.725064      0  \n",
       "733079      92.680510        1.558234         20.058397       -8.469736      0  \n",
       "\n",
       "[733080 rows x 95 columns]"
      ]
     },
     "execution_count": 14,
     "metadata": {},
     "output_type": "execute_result"
    }
   ],
   "source": [
    "test['state'] = pred\n",
    "test"
   ]
  },
  {
   "cell_type": "code",
   "execution_count": 15,
   "id": "556d036f",
   "metadata": {
    "execution": {
     "iopub.execute_input": "2022-04-24T15:18:55.342671Z",
     "iopub.status.busy": "2022-04-24T15:18:55.341980Z",
     "iopub.status.idle": "2022-04-24T15:18:56.309185Z",
     "shell.execute_reply": "2022-04-24T15:18:56.308588Z",
     "shell.execute_reply.started": "2022-04-24T15:05:40.310200Z"
    },
    "papermill": {
     "duration": 1.038312,
     "end_time": "2022-04-24T15:18:56.309355",
     "exception": false,
     "start_time": "2022-04-24T15:18:55.271043",
     "status": "completed"
    },
    "tags": []
   },
   "outputs": [],
   "source": [
    "t = test.groupby('sequence').mean().reset_index()\n",
    "t.loc[t['state']<0.5,'state'] = 0\n",
    "t.loc[t['state']>=0.5,'state'] = 1\n",
    "# submission['state'] = t['state']\n",
    "# submission"
   ]
  },
  {
   "cell_type": "code",
   "execution_count": 16,
   "id": "9618796a",
   "metadata": {
    "execution": {
     "iopub.execute_input": "2022-04-24T15:18:56.439877Z",
     "iopub.status.busy": "2022-04-24T15:18:56.439156Z",
     "iopub.status.idle": "2022-04-24T15:18:56.475290Z",
     "shell.execute_reply": "2022-04-24T15:18:56.474598Z",
     "shell.execute_reply.started": "2022-04-24T15:07:22.548872Z"
    },
    "papermill": {
     "duration": 0.10351,
     "end_time": "2022-04-24T15:18:56.475469",
     "exception": false,
     "start_time": "2022-04-24T15:18:56.371959",
     "status": "completed"
    },
    "tags": []
   },
   "outputs": [],
   "source": [
    "submission['state'] = t['state']\n",
    "submission.to_csv('submission.csv',index=False)"
   ]
  },
  {
   "cell_type": "code",
   "execution_count": 17,
   "id": "e5677b73",
   "metadata": {
    "execution": {
     "iopub.execute_input": "2022-04-24T15:18:56.604630Z",
     "iopub.status.busy": "2022-04-24T15:18:56.603604Z",
     "iopub.status.idle": "2022-04-24T15:18:56.606095Z",
     "shell.execute_reply": "2022-04-24T15:18:56.606701Z",
     "shell.execute_reply.started": "2022-04-22T19:30:26.37403Z"
    },
    "papermill": {
     "duration": 0.069464,
     "end_time": "2022-04-24T15:18:56.606869",
     "exception": false,
     "start_time": "2022-04-24T15:18:56.537405",
     "status": "completed"
    },
    "tags": []
   },
   "outputs": [],
   "source": [
    "# scaler = StandardScaler()\n",
    "# scaler.fit(df.iloc[:,3:])\n",
    "# df.iloc[:,3:] = scaler.transform(df.iloc[:,3:])\n",
    "# df"
   ]
  },
  {
   "cell_type": "code",
   "execution_count": 18,
   "id": "28b57f6e",
   "metadata": {
    "execution": {
     "iopub.execute_input": "2022-04-24T15:18:56.734720Z",
     "iopub.status.busy": "2022-04-24T15:18:56.734042Z",
     "iopub.status.idle": "2022-04-24T15:18:56.736321Z",
     "shell.execute_reply": "2022-04-24T15:18:56.735699Z",
     "shell.execute_reply.started": "2022-04-22T19:30:57.413848Z"
    },
    "papermill": {
     "duration": 0.068128,
     "end_time": "2022-04-24T15:18:56.736479",
     "exception": false,
     "start_time": "2022-04-24T15:18:56.668351",
     "status": "completed"
    },
    "tags": []
   },
   "outputs": [],
   "source": [
    "# fig, ax = plt.subplots(13,figsize=(15,25))\n",
    "# for i in range(0,13):\n",
    "#     ax[i].plot(a['sensor_'+f\"{i:02d}\"])"
   ]
  },
  {
   "cell_type": "code",
   "execution_count": 19,
   "id": "d4c434aa",
   "metadata": {
    "execution": {
     "iopub.execute_input": "2022-04-24T15:18:56.864534Z",
     "iopub.status.busy": "2022-04-24T15:18:56.863867Z",
     "iopub.status.idle": "2022-04-24T15:18:56.866515Z",
     "shell.execute_reply": "2022-04-24T15:18:56.865905Z",
     "shell.execute_reply.started": "2022-04-22T19:03:03.559253Z"
    },
    "papermill": {
     "duration": 0.067765,
     "end_time": "2022-04-24T15:18:56.866647",
     "exception": false,
     "start_time": "2022-04-24T15:18:56.798882",
     "status": "completed"
    },
    "tags": []
   },
   "outputs": [],
   "source": [
    "# a.iloc[:,3:] = a.mean().tolist()[3:]\n",
    "# a"
   ]
  },
  {
   "cell_type": "code",
   "execution_count": 20,
   "id": "a9284f2c",
   "metadata": {
    "execution": {
     "iopub.execute_input": "2022-04-24T15:18:56.994056Z",
     "iopub.status.busy": "2022-04-24T15:18:56.993444Z",
     "iopub.status.idle": "2022-04-24T15:18:56.996050Z",
     "shell.execute_reply": "2022-04-24T15:18:56.996573Z",
     "shell.execute_reply.started": "2022-04-22T18:54:03.788522Z"
    },
    "papermill": {
     "duration": 0.068637,
     "end_time": "2022-04-24T15:18:56.996737",
     "exception": false,
     "start_time": "2022-04-24T15:18:56.928100",
     "status": "completed"
    },
    "tags": []
   },
   "outputs": [],
   "source": [
    "# fig, ax = plt.subplots(13,figsize=(15,25),sharey=True,sharex=True)\n",
    "# for i in range(0,13):\n",
    "#     ax[i].plot(a['sensor_'+f\"{i:02d}\"])"
   ]
  },
  {
   "cell_type": "code",
   "execution_count": 21,
   "id": "4b037683",
   "metadata": {
    "execution": {
     "iopub.execute_input": "2022-04-24T15:18:57.705569Z",
     "iopub.status.busy": "2022-04-24T15:18:57.704519Z",
     "iopub.status.idle": "2022-04-24T15:19:02.115400Z",
     "shell.execute_reply": "2022-04-24T15:19:02.115922Z",
     "shell.execute_reply.started": "2022-04-22T18:54:07.182562Z"
    },
    "papermill": {
     "duration": 5.056517,
     "end_time": "2022-04-24T15:19:02.116113",
     "exception": false,
     "start_time": "2022-04-24T15:18:57.059596",
     "status": "completed"
    },
    "tags": []
   },
   "outputs": [
    {
     "data": {
      "text/html": [
       "<div>\n",
       "<style scoped>\n",
       "    .dataframe tbody tr th:only-of-type {\n",
       "        vertical-align: middle;\n",
       "    }\n",
       "\n",
       "    .dataframe tbody tr th {\n",
       "        vertical-align: top;\n",
       "    }\n",
       "\n",
       "    .dataframe thead th {\n",
       "        text-align: right;\n",
       "    }\n",
       "</style>\n",
       "<table border=\"1\" class=\"dataframe\">\n",
       "  <thead>\n",
       "    <tr style=\"text-align: right;\">\n",
       "      <th></th>\n",
       "      <th>sequence</th>\n",
       "      <th>subject</th>\n",
       "      <th>step</th>\n",
       "      <th>sensor_00</th>\n",
       "      <th>sensor_01</th>\n",
       "      <th>sensor_02</th>\n",
       "      <th>sensor_03</th>\n",
       "      <th>sensor_04</th>\n",
       "      <th>sensor_05</th>\n",
       "      <th>sensor_06</th>\n",
       "      <th>...</th>\n",
       "      <th>sensor_11_std</th>\n",
       "      <th>sensor_11_mean</th>\n",
       "      <th>sensor_11_median</th>\n",
       "      <th>sensor_11_diff</th>\n",
       "      <th>sensor_12_max</th>\n",
       "      <th>sensor_12_min</th>\n",
       "      <th>sensor_12_std</th>\n",
       "      <th>sensor_12_mean</th>\n",
       "      <th>sensor_12_median</th>\n",
       "      <th>sensor_12_diff</th>\n",
       "    </tr>\n",
       "  </thead>\n",
       "  <tbody>\n",
       "    <tr>\n",
       "      <th>count</th>\n",
       "      <td>1.558080e+06</td>\n",
       "      <td>1.558080e+06</td>\n",
       "      <td>1.558080e+06</td>\n",
       "      <td>1.558080e+06</td>\n",
       "      <td>1.558080e+06</td>\n",
       "      <td>1.558080e+06</td>\n",
       "      <td>1.558080e+06</td>\n",
       "      <td>1.558080e+06</td>\n",
       "      <td>1.558080e+06</td>\n",
       "      <td>1.558080e+06</td>\n",
       "      <td>...</td>\n",
       "      <td>1.558080e+06</td>\n",
       "      <td>1.558080e+06</td>\n",
       "      <td>1.558080e+06</td>\n",
       "      <td>1.558080e+06</td>\n",
       "      <td>1.558080e+06</td>\n",
       "      <td>1.558080e+06</td>\n",
       "      <td>1.558080e+06</td>\n",
       "      <td>1.558080e+06</td>\n",
       "      <td>1.558080e+06</td>\n",
       "      <td>1.558080e+06</td>\n",
       "    </tr>\n",
       "    <tr>\n",
       "      <th>mean</th>\n",
       "      <td>1.298350e+04</td>\n",
       "      <td>3.316331e+02</td>\n",
       "      <td>2.950000e+01</td>\n",
       "      <td>4.365526e-04</td>\n",
       "      <td>-1.034982e-03</td>\n",
       "      <td>-2.178045e-01</td>\n",
       "      <td>-2.156555e-03</td>\n",
       "      <td>-1.828903e-03</td>\n",
       "      <td>-1.651785e-03</td>\n",
       "      <td>-4.122917e-04</td>\n",
       "      <td>...</td>\n",
       "      <td>1.905523e+00</td>\n",
       "      <td>-3.733291e-03</td>\n",
       "      <td>5.646848e-03</td>\n",
       "      <td>-7.731500e-06</td>\n",
       "      <td>3.773305e+01</td>\n",
       "      <td>-3.749747e+01</td>\n",
       "      <td>1.783660e+01</td>\n",
       "      <td>-1.172605e-02</td>\n",
       "      <td>-9.810661e-02</td>\n",
       "      <td>-1.344679e-03</td>\n",
       "    </tr>\n",
       "    <tr>\n",
       "      <th>std</th>\n",
       "      <td>7.496318e+03</td>\n",
       "      <td>1.958257e+02</td>\n",
       "      <td>1.731811e+01</td>\n",
       "      <td>2.658684e+00</td>\n",
       "      <td>4.404200e+00</td>\n",
       "      <td>2.298002e+00</td>\n",
       "      <td>3.934184e+00</td>\n",
       "      <td>1.683685e+00</td>\n",
       "      <td>1.590818e+00</td>\n",
       "      <td>3.345143e+00</td>\n",
       "      <td>...</td>\n",
       "      <td>4.152142e+00</td>\n",
       "      <td>1.439652e-01</td>\n",
       "      <td>2.057055e-01</td>\n",
       "      <td>7.090854e+00</td>\n",
       "      <td>7.179160e+01</td>\n",
       "      <td>7.105486e+01</td>\n",
       "      <td>3.514747e+01</td>\n",
       "      <td>1.610842e+00</td>\n",
       "      <td>4.703744e+00</td>\n",
       "      <td>4.743822e+01</td>\n",
       "    </tr>\n",
       "    <tr>\n",
       "      <th>min</th>\n",
       "      <td>0.000000e+00</td>\n",
       "      <td>0.000000e+00</td>\n",
       "      <td>0.000000e+00</td>\n",
       "      <td>-3.750634e+02</td>\n",
       "      <td>-4.345977e+02</td>\n",
       "      <td>-3.165948e+01</td>\n",
       "      <td>-4.083761e+02</td>\n",
       "      <td>-2.362601e+01</td>\n",
       "      <td>-7.498280e+01</td>\n",
       "      <td>-4.705046e+02</td>\n",
       "      <td>...</td>\n",
       "      <td>0.000000e+00</td>\n",
       "      <td>-6.418759e+00</td>\n",
       "      <td>-1.262603e+01</td>\n",
       "      <td>-7.680720e+02</td>\n",
       "      <td>0.000000e+00</td>\n",
       "      <td>-6.125494e+02</td>\n",
       "      <td>0.000000e+00</td>\n",
       "      <td>-5.133205e+01</td>\n",
       "      <td>-9.479049e+01</td>\n",
       "      <td>-7.839190e+02</td>\n",
       "    </tr>\n",
       "    <tr>\n",
       "      <th>25%</th>\n",
       "      <td>6.491750e+03</td>\n",
       "      <td>1.617500e+02</td>\n",
       "      <td>1.475000e+01</td>\n",
       "      <td>-5.000000e-01</td>\n",
       "      <td>-4.831933e-01</td>\n",
       "      <td>-6.461531e-01</td>\n",
       "      <td>-4.929204e-01</td>\n",
       "      <td>-4.729928e-01</td>\n",
       "      <td>-4.786836e-01</td>\n",
       "      <td>-4.927140e-01</td>\n",
       "      <td>...</td>\n",
       "      <td>6.238963e-01</td>\n",
       "      <td>-1.529492e-02</td>\n",
       "      <td>-4.166667e-02</td>\n",
       "      <td>-7.983539e-01</td>\n",
       "      <td>6.520673e-01</td>\n",
       "      <td>-4.946260e+01</td>\n",
       "      <td>2.796321e-01</td>\n",
       "      <td>-1.867363e-02</td>\n",
       "      <td>-8.061594e-02</td>\n",
       "      <td>-8.107417e-01</td>\n",
       "    </tr>\n",
       "    <tr>\n",
       "      <th>50%</th>\n",
       "      <td>1.298350e+04</td>\n",
       "      <td>3.350000e+02</td>\n",
       "      <td>2.950000e+01</td>\n",
       "      <td>-3.091190e-03</td>\n",
       "      <td>3.151261e-03</td>\n",
       "      <td>0.000000e+00</td>\n",
       "      <td>0.000000e+00</td>\n",
       "      <td>-1.589577e-03</td>\n",
       "      <td>2.991773e-03</td>\n",
       "      <td>9.107468e-04</td>\n",
       "      <td>...</td>\n",
       "      <td>9.253914e-01</td>\n",
       "      <td>-2.117627e-03</td>\n",
       "      <td>4.115226e-03</td>\n",
       "      <td>1.028807e-03</td>\n",
       "      <td>2.135763e+00</td>\n",
       "      <td>-2.084186e+00</td>\n",
       "      <td>9.046389e-01</td>\n",
       "      <td>-2.841716e-05</td>\n",
       "      <td>-2.131287e-04</td>\n",
       "      <td>4.262575e-04</td>\n",
       "    </tr>\n",
       "    <tr>\n",
       "      <th>75%</th>\n",
       "      <td>1.947525e+04</td>\n",
       "      <td>5.010000e+02</td>\n",
       "      <td>4.425000e+01</td>\n",
       "      <td>4.845440e-01</td>\n",
       "      <td>4.926471e-01</td>\n",
       "      <td>3.338469e-01</td>\n",
       "      <td>4.893805e-01</td>\n",
       "      <td>4.701565e-01</td>\n",
       "      <td>5.056096e-01</td>\n",
       "      <td>4.927140e-01</td>\n",
       "      <td>...</td>\n",
       "      <td>1.608490e+00</td>\n",
       "      <td>1.056670e-02</td>\n",
       "      <td>5.349794e-02</td>\n",
       "      <td>8.034979e-01</td>\n",
       "      <td>4.951535e+01</td>\n",
       "      <td>-6.602728e-01</td>\n",
       "      <td>2.290551e+01</td>\n",
       "      <td>1.815679e-02</td>\n",
       "      <td>6.649616e-02</td>\n",
       "      <td>8.115942e-01</td>\n",
       "    </tr>\n",
       "    <tr>\n",
       "      <th>max</th>\n",
       "      <td>2.596700e+04</td>\n",
       "      <td>6.710000e+02</td>\n",
       "      <td>5.900000e+01</td>\n",
       "      <td>3.358246e+02</td>\n",
       "      <td>4.495914e+02</td>\n",
       "      <td>1.666667e+00</td>\n",
       "      <td>4.366504e+02</td>\n",
       "      <td>2.487286e+01</td>\n",
       "      <td>7.791548e+01</td>\n",
       "      <td>4.425009e+02</td>\n",
       "      <td>...</td>\n",
       "      <td>1.456417e+02</td>\n",
       "      <td>3.149640e+00</td>\n",
       "      <td>9.819444e+00</td>\n",
       "      <td>6.938447e+02</td>\n",
       "      <td>6.305111e+02</td>\n",
       "      <td>0.000000e+00</td>\n",
       "      <td>3.476631e+02</td>\n",
       "      <td>2.862626e+01</td>\n",
       "      <td>1.072159e+02</td>\n",
       "      <td>8.943662e+02</td>\n",
       "    </tr>\n",
       "  </tbody>\n",
       "</table>\n",
       "<p>8 rows × 95 columns</p>\n",
       "</div>"
      ],
      "text/plain": [
       "           sequence       subject          step     sensor_00     sensor_01  \\\n",
       "count  1.558080e+06  1.558080e+06  1.558080e+06  1.558080e+06  1.558080e+06   \n",
       "mean   1.298350e+04  3.316331e+02  2.950000e+01  4.365526e-04 -1.034982e-03   \n",
       "std    7.496318e+03  1.958257e+02  1.731811e+01  2.658684e+00  4.404200e+00   \n",
       "min    0.000000e+00  0.000000e+00  0.000000e+00 -3.750634e+02 -4.345977e+02   \n",
       "25%    6.491750e+03  1.617500e+02  1.475000e+01 -5.000000e-01 -4.831933e-01   \n",
       "50%    1.298350e+04  3.350000e+02  2.950000e+01 -3.091190e-03  3.151261e-03   \n",
       "75%    1.947525e+04  5.010000e+02  4.425000e+01  4.845440e-01  4.926471e-01   \n",
       "max    2.596700e+04  6.710000e+02  5.900000e+01  3.358246e+02  4.495914e+02   \n",
       "\n",
       "          sensor_02     sensor_03     sensor_04     sensor_05     sensor_06  \\\n",
       "count  1.558080e+06  1.558080e+06  1.558080e+06  1.558080e+06  1.558080e+06   \n",
       "mean  -2.178045e-01 -2.156555e-03 -1.828903e-03 -1.651785e-03 -4.122917e-04   \n",
       "std    2.298002e+00  3.934184e+00  1.683685e+00  1.590818e+00  3.345143e+00   \n",
       "min   -3.165948e+01 -4.083761e+02 -2.362601e+01 -7.498280e+01 -4.705046e+02   \n",
       "25%   -6.461531e-01 -4.929204e-01 -4.729928e-01 -4.786836e-01 -4.927140e-01   \n",
       "50%    0.000000e+00  0.000000e+00 -1.589577e-03  2.991773e-03  9.107468e-04   \n",
       "75%    3.338469e-01  4.893805e-01  4.701565e-01  5.056096e-01  4.927140e-01   \n",
       "max    1.666667e+00  4.366504e+02  2.487286e+01  7.791548e+01  4.425009e+02   \n",
       "\n",
       "       ...  sensor_11_std  sensor_11_mean  sensor_11_median  sensor_11_diff  \\\n",
       "count  ...   1.558080e+06    1.558080e+06      1.558080e+06    1.558080e+06   \n",
       "mean   ...   1.905523e+00   -3.733291e-03      5.646848e-03   -7.731500e-06   \n",
       "std    ...   4.152142e+00    1.439652e-01      2.057055e-01    7.090854e+00   \n",
       "min    ...   0.000000e+00   -6.418759e+00     -1.262603e+01   -7.680720e+02   \n",
       "25%    ...   6.238963e-01   -1.529492e-02     -4.166667e-02   -7.983539e-01   \n",
       "50%    ...   9.253914e-01   -2.117627e-03      4.115226e-03    1.028807e-03   \n",
       "75%    ...   1.608490e+00    1.056670e-02      5.349794e-02    8.034979e-01   \n",
       "max    ...   1.456417e+02    3.149640e+00      9.819444e+00    6.938447e+02   \n",
       "\n",
       "       sensor_12_max  sensor_12_min  sensor_12_std  sensor_12_mean  \\\n",
       "count   1.558080e+06   1.558080e+06   1.558080e+06    1.558080e+06   \n",
       "mean    3.773305e+01  -3.749747e+01   1.783660e+01   -1.172605e-02   \n",
       "std     7.179160e+01   7.105486e+01   3.514747e+01    1.610842e+00   \n",
       "min     0.000000e+00  -6.125494e+02   0.000000e+00   -5.133205e+01   \n",
       "25%     6.520673e-01  -4.946260e+01   2.796321e-01   -1.867363e-02   \n",
       "50%     2.135763e+00  -2.084186e+00   9.046389e-01   -2.841716e-05   \n",
       "75%     4.951535e+01  -6.602728e-01   2.290551e+01    1.815679e-02   \n",
       "max     6.305111e+02   0.000000e+00   3.476631e+02    2.862626e+01   \n",
       "\n",
       "       sensor_12_median  sensor_12_diff  \n",
       "count      1.558080e+06    1.558080e+06  \n",
       "mean      -9.810661e-02   -1.344679e-03  \n",
       "std        4.703744e+00    4.743822e+01  \n",
       "min       -9.479049e+01   -7.839190e+02  \n",
       "25%       -8.061594e-02   -8.107417e-01  \n",
       "50%       -2.131287e-04    4.262575e-04  \n",
       "75%        6.649616e-02    8.115942e-01  \n",
       "max        1.072159e+02    8.943662e+02  \n",
       "\n",
       "[8 rows x 95 columns]"
      ]
     },
     "execution_count": 21,
     "metadata": {},
     "output_type": "execute_result"
    }
   ],
   "source": [
    "df.describe()"
   ]
  },
  {
   "cell_type": "code",
   "execution_count": 22,
   "id": "21053993",
   "metadata": {
    "execution": {
     "iopub.execute_input": "2022-04-24T15:19:02.244466Z",
     "iopub.status.busy": "2022-04-24T15:19:02.243815Z",
     "iopub.status.idle": "2022-04-24T15:19:02.247116Z",
     "shell.execute_reply": "2022-04-24T15:19:02.247734Z",
     "shell.execute_reply.started": "2022-04-22T18:54:10.946442Z"
    },
    "papermill": {
     "duration": 0.069968,
     "end_time": "2022-04-24T15:19:02.247894",
     "exception": false,
     "start_time": "2022-04-24T15:19:02.177926",
     "status": "completed"
    },
    "tags": []
   },
   "outputs": [],
   "source": [
    "# def signal(d):\n",
    "#     for i in range(0,13):\n",
    "#         d.loc[(d['sensor_'+f\"{i:02d}\"]>-0.1) & (d['sensor_'+f\"{i:02d}\"]<0.1),'sensor_'+f\"{i:02d}\"]=0\n",
    "#         d.loc[(d['sensor_'+f\"{i:02d}\"]!=0),'sensor_'+f\"{i:02d}\"]=1\n",
    "#     d = d.astype('int64')\n",
    "#     return d\n",
    "# signal(df)"
   ]
  },
  {
   "cell_type": "code",
   "execution_count": 23,
   "id": "53ae1660",
   "metadata": {
    "execution": {
     "iopub.execute_input": "2022-04-24T15:19:02.375515Z",
     "iopub.status.busy": "2022-04-24T15:19:02.374879Z",
     "iopub.status.idle": "2022-04-24T15:19:02.378055Z",
     "shell.execute_reply": "2022-04-24T15:19:02.378648Z",
     "shell.execute_reply.started": "2022-04-21T22:29:19.345668Z"
    },
    "papermill": {
     "duration": 0.069345,
     "end_time": "2022-04-24T15:19:02.378828",
     "exception": false,
     "start_time": "2022-04-24T15:19:02.309483",
     "status": "completed"
    },
    "tags": []
   },
   "outputs": [],
   "source": [
    "# def signal(d):\n",
    "#     a=''\n",
    "#     for i in range(0,13):\n",
    "#         a = '0'+str(i)\n",
    "#         if(i>=10):\n",
    "#             a=str(i)\n",
    "#         d.loc[(d['sensor_'+a]>-2) & (d['sensor_'+a]<2),'sensor_'+a]=0\n",
    "#         d.loc[(d['sensor_'+a]!=1),'sensor_'+a]=1\n",
    "#     d = d.astype('int64')\n",
    "#     return d\n",
    "# df = signal(df)\n",
    "# test = signal(test)"
   ]
  },
  {
   "cell_type": "code",
   "execution_count": 24,
   "id": "0ae31ac7",
   "metadata": {
    "execution": {
     "iopub.execute_input": "2022-04-24T15:19:02.506293Z",
     "iopub.status.busy": "2022-04-24T15:19:02.505685Z",
     "iopub.status.idle": "2022-04-24T15:19:02.510078Z",
     "shell.execute_reply": "2022-04-24T15:19:02.509587Z",
     "shell.execute_reply.started": "2022-04-21T22:29:22.778972Z"
    },
    "papermill": {
     "duration": 0.069265,
     "end_time": "2022-04-24T15:19:02.510220",
     "exception": false,
     "start_time": "2022-04-24T15:19:02.440955",
     "status": "completed"
    },
    "tags": []
   },
   "outputs": [],
   "source": [
    "# a = df.groupby('subject').mean()"
   ]
  },
  {
   "cell_type": "code",
   "execution_count": 25,
   "id": "bf72475a",
   "metadata": {
    "execution": {
     "iopub.execute_input": "2022-04-24T15:19:02.654425Z",
     "iopub.status.busy": "2022-04-24T15:19:02.653430Z",
     "iopub.status.idle": "2022-04-24T15:19:02.656866Z",
     "shell.execute_reply": "2022-04-24T15:19:02.657513Z",
     "shell.execute_reply.started": "2022-04-21T22:29:24.654561Z"
    },
    "papermill": {
     "duration": 0.084557,
     "end_time": "2022-04-24T15:19:02.657752",
     "exception": false,
     "start_time": "2022-04-24T15:19:02.573195",
     "status": "completed"
    },
    "tags": []
   },
   "outputs": [],
   "source": [
    "# a[a.iloc[:,2:15]>0.5] = 1\n",
    "# a[a.iloc[:,2:15]<=0.5] = 0\n",
    "# a = a.astype('int')\n",
    "# a"
   ]
  },
  {
   "cell_type": "code",
   "execution_count": 26,
   "id": "bf05b2df",
   "metadata": {
    "execution": {
     "iopub.execute_input": "2022-04-24T15:19:02.791042Z",
     "iopub.status.busy": "2022-04-24T15:19:02.790047Z",
     "iopub.status.idle": "2022-04-24T15:19:02.793125Z",
     "shell.execute_reply": "2022-04-24T15:19:02.793743Z",
     "shell.execute_reply.started": "2022-04-21T22:29:28.46405Z"
    },
    "papermill": {
     "duration": 0.068671,
     "end_time": "2022-04-24T15:19:02.793912",
     "exception": false,
     "start_time": "2022-04-24T15:19:02.725241",
     "status": "completed"
    },
    "tags": []
   },
   "outputs": [],
   "source": [
    "# plt.figure(figsize=(25,13))\n",
    "# sns.scatterplot(data=df.groupby(['sequence']).first(),x='sequence',y='sensor_00',hue='state')"
   ]
  },
  {
   "cell_type": "code",
   "execution_count": 27,
   "id": "883edab6",
   "metadata": {
    "execution": {
     "iopub.execute_input": "2022-04-24T15:19:02.922878Z",
     "iopub.status.busy": "2022-04-24T15:19:02.921859Z",
     "iopub.status.idle": "2022-04-24T15:19:02.925158Z",
     "shell.execute_reply": "2022-04-24T15:19:02.925776Z",
     "shell.execute_reply.started": "2022-04-22T19:00:47.92307Z"
    },
    "papermill": {
     "duration": 0.069958,
     "end_time": "2022-04-24T15:19:02.925954",
     "exception": false,
     "start_time": "2022-04-24T15:19:02.855996",
     "status": "completed"
    },
    "tags": []
   },
   "outputs": [],
   "source": [
    "# df.drop(columns=['step','sequence'],inplace=True)\n",
    "# df = df.astype('int')\n",
    "# df"
   ]
  },
  {
   "cell_type": "code",
   "execution_count": 28,
   "id": "6b4f5f65",
   "metadata": {
    "execution": {
     "iopub.execute_input": "2022-04-24T15:19:03.055897Z",
     "iopub.status.busy": "2022-04-24T15:19:03.054909Z",
     "iopub.status.idle": "2022-04-24T15:19:03.058014Z",
     "shell.execute_reply": "2022-04-24T15:19:03.058629Z",
     "shell.execute_reply.started": "2022-04-22T19:01:32.999652Z"
    },
    "papermill": {
     "duration": 0.070328,
     "end_time": "2022-04-24T15:19:03.058805",
     "exception": false,
     "start_time": "2022-04-24T15:19:02.988477",
     "status": "completed"
    },
    "tags": []
   },
   "outputs": [],
   "source": [
    "# df.drop(columns=['step','sequence','subject'],inplace=True)\n",
    "# test.drop(columns=['step','sequence','subject'],inplace=True)\n",
    "# sns.heatmap(df.corr())"
   ]
  },
  {
   "cell_type": "code",
   "execution_count": 29,
   "id": "5a75db85",
   "metadata": {
    "execution": {
     "iopub.execute_input": "2022-04-24T15:19:03.187908Z",
     "iopub.status.busy": "2022-04-24T15:19:03.186975Z",
     "iopub.status.idle": "2022-04-24T15:19:03.190066Z",
     "shell.execute_reply": "2022-04-24T15:19:03.190526Z",
     "shell.execute_reply.started": "2022-04-21T20:30:40.370819Z"
    },
    "papermill": {
     "duration": 0.070133,
     "end_time": "2022-04-24T15:19:03.190724",
     "exception": false,
     "start_time": "2022-04-24T15:19:03.120591",
     "status": "completed"
    },
    "tags": []
   },
   "outputs": [],
   "source": [
    "# sns.histplot(df.drop_duplicates()['sequence'].value_counts())\n",
    "# agg(lambda x:x.value_counts().index[0])\n"
   ]
  },
  {
   "cell_type": "code",
   "execution_count": 30,
   "id": "c7b09399",
   "metadata": {
    "execution": {
     "iopub.execute_input": "2022-04-24T15:19:03.321448Z",
     "iopub.status.busy": "2022-04-24T15:19:03.320478Z",
     "iopub.status.idle": "2022-04-24T15:19:03.323751Z",
     "shell.execute_reply": "2022-04-24T15:19:03.324205Z",
     "shell.execute_reply.started": "2022-04-21T20:30:41.413791Z"
    },
    "papermill": {
     "duration": 0.071428,
     "end_time": "2022-04-24T15:19:03.324402",
     "exception": false,
     "start_time": "2022-04-24T15:19:03.252974",
     "status": "completed"
    },
    "tags": []
   },
   "outputs": [],
   "source": [
    "# df = df.groupby(['sequence','subject']).agg(lambda x:x.value_counts().index[0])\n",
    "# df = df.reset_index()\n",
    "# df"
   ]
  },
  {
   "cell_type": "code",
   "execution_count": 31,
   "id": "7aad20c7",
   "metadata": {
    "execution": {
     "iopub.execute_input": "2022-04-24T15:19:03.455083Z",
     "iopub.status.busy": "2022-04-24T15:19:03.454135Z",
     "iopub.status.idle": "2022-04-24T15:19:03.457714Z",
     "shell.execute_reply": "2022-04-24T15:19:03.458235Z",
     "shell.execute_reply.started": "2022-04-21T20:30:42.275605Z"
    },
    "papermill": {
     "duration": 0.070107,
     "end_time": "2022-04-24T15:19:03.458469",
     "exception": false,
     "start_time": "2022-04-24T15:19:03.388362",
     "status": "completed"
    },
    "tags": []
   },
   "outputs": [],
   "source": [
    "# df['sensor_03'].value_counts()"
   ]
  },
  {
   "cell_type": "code",
   "execution_count": 32,
   "id": "464b0ded",
   "metadata": {
    "execution": {
     "iopub.execute_input": "2022-04-24T15:19:03.590398Z",
     "iopub.status.busy": "2022-04-24T15:19:03.589745Z",
     "iopub.status.idle": "2022-04-24T15:19:03.592982Z",
     "shell.execute_reply": "2022-04-24T15:19:03.593561Z",
     "shell.execute_reply.started": "2022-04-21T20:30:43.396081Z"
    },
    "papermill": {
     "duration": 0.072343,
     "end_time": "2022-04-24T15:19:03.593741",
     "exception": false,
     "start_time": "2022-04-24T15:19:03.521398",
     "status": "completed"
    },
    "tags": []
   },
   "outputs": [],
   "source": [
    "# sns.heatmap(df.corr(),vmax=0.6,vmin=0.4)\n",
    "# df[(df['sensor_00']==1) & (df['sensor_01']==1)]\n",
    "# df[df.iloc[:,3:]==1].sum()\n",
    "# df[(df['sensor_00']==1) & (df['sensor_01']==1) & (df['sensor_02']==1) & (df['sensor_03']==1) & (df['sensor_04']==1) & (df['sensor_05']==1) & (df['sensor_06']==1) & (df['sensor_07']==1) & (df['sensor_08']==1) & (df['sensor_09']==1) & (df['sensor_10']==1) & (df['sensor_11']==1) & (df['sensor_12']==1)]"
   ]
  },
  {
   "cell_type": "code",
   "execution_count": 33,
   "id": "8c4941b3",
   "metadata": {
    "execution": {
     "iopub.execute_input": "2022-04-24T15:19:03.724423Z",
     "iopub.status.busy": "2022-04-24T15:19:03.723774Z",
     "iopub.status.idle": "2022-04-24T15:19:03.727562Z",
     "shell.execute_reply": "2022-04-24T15:19:03.728004Z",
     "shell.execute_reply.started": "2022-04-21T20:30:44.400966Z"
    },
    "papermill": {
     "duration": 0.071011,
     "end_time": "2022-04-24T15:19:03.728163",
     "exception": false,
     "start_time": "2022-04-24T15:19:03.657152",
     "status": "completed"
    },
    "tags": []
   },
   "outputs": [],
   "source": [
    "# fig,ax = plt.subplots()\n",
    "# sns.scatterplot(data=df,x='sensor_00',y='sensor_01')\n",
    "# sns.scatterplot(data=df.reset_index(),x='index',y='sensor_01')\n",
    "# sns.scatterplot(data=df.reset_index(),x='index',y='sensor_02')"
   ]
  },
  {
   "cell_type": "code",
   "execution_count": 34,
   "id": "acf02603",
   "metadata": {
    "execution": {
     "iopub.execute_input": "2022-04-24T15:19:03.856523Z",
     "iopub.status.busy": "2022-04-24T15:19:03.855863Z",
     "iopub.status.idle": "2022-04-24T15:19:03.858757Z",
     "shell.execute_reply": "2022-04-24T15:19:03.858246Z",
     "shell.execute_reply.started": "2022-04-21T22:29:59.250187Z"
    },
    "papermill": {
     "duration": 0.069098,
     "end_time": "2022-04-24T15:19:03.858884",
     "exception": false,
     "start_time": "2022-04-24T15:19:03.789786",
     "status": "completed"
    },
    "tags": []
   },
   "outputs": [],
   "source": [
    "# train_split = int(0.715*int(df.shape[0]))\n",
    "# train_data = df.loc[0:train_split-1]\n",
    "# val_data = df.loc[train_split:]\n",
    "# x_train = train_data.drop(columns=['state']).values\n",
    "# y_train = train_data['state'].values"
   ]
  },
  {
   "cell_type": "code",
   "execution_count": 35,
   "id": "0793cba7",
   "metadata": {
    "execution": {
     "iopub.execute_input": "2022-04-24T15:19:03.988327Z",
     "iopub.status.busy": "2022-04-24T15:19:03.987698Z",
     "iopub.status.idle": "2022-04-24T15:19:03.990793Z",
     "shell.execute_reply": "2022-04-24T15:19:03.990308Z",
     "shell.execute_reply.started": "2022-04-21T21:12:12.664875Z"
    },
    "papermill": {
     "duration": 0.070665,
     "end_time": "2022-04-24T15:19:03.990926",
     "exception": false,
     "start_time": "2022-04-24T15:19:03.920261",
     "status": "completed"
    },
    "tags": []
   },
   "outputs": [],
   "source": [
    "# from keras.models import Sequential\n",
    "# from keras.layers import Dense\n",
    "# from keras.wrappers.scikit_learn import KerasClassifier\n",
    "# from sklearn.model_selection import cross_val_score\n",
    "# from sklearn.preprocessing import LabelEncoder\n",
    "# from sklearn.model_selection import StratifiedKFold\n",
    "# from sklearn.preprocessing import StandardScaler\n",
    "# from sklearn.pipeline import Pipeline\n",
    "# encoder = LabelEncoder()\n",
    "# encoder.fit(y_train)\n",
    "# encoded_Y = encoder.transform(y_train)\n",
    "# def create_larger():\n",
    "#     model = Sequential()\n",
    "#     model.add(Dense(13, input_dim=13, activation='relu'))\n",
    "#     model.add(Dense(90, activation='relu'))\n",
    "#     model.add(Dense(30, activation='relu'))\n",
    "#     model.add(Dense(15, activation='relu'))\n",
    "#     model.add(Dense(1, activation='sigmoid'))\n",
    "#     model.compile(loss='binary_crossentropy', optimizer='adam', metrics=['accuracy'])\n",
    "#     return model\n",
    "\n",
    "# estimators = []\n",
    "# # estimators.append(('standardize', StandardScaler()))\n",
    "# estimators.append(('mlp', KerasClassifier(build_fn=create_larger, epochs=15, batch_size=500, verbose=0)))\n",
    "# pipeline = Pipeline(estimators)\n",
    "# kfold = StratifiedKFold(n_splits=10, shuffle=True)\n",
    "# results = cross_val_score(pipeline, x_train, y_train, cv=kfold)\n",
    "# print(\"Larger: %.2f%% (%.2f%%)\" % (results.mean()*100, results.std()*100))"
   ]
  },
  {
   "cell_type": "code",
   "execution_count": 36,
   "id": "5c9cc506",
   "metadata": {
    "execution": {
     "iopub.execute_input": "2022-04-24T15:19:04.120112Z",
     "iopub.status.busy": "2022-04-24T15:19:04.119528Z",
     "iopub.status.idle": "2022-04-24T15:19:04.121644Z",
     "shell.execute_reply": "2022-04-24T15:19:04.122170Z",
     "shell.execute_reply.started": "2022-04-21T20:50:43.69046Z"
    },
    "papermill": {
     "duration": 0.069083,
     "end_time": "2022-04-24T15:19:04.122329",
     "exception": false,
     "start_time": "2022-04-24T15:19:04.053246",
     "status": "completed"
    },
    "tags": []
   },
   "outputs": [],
   "source": [
    "# train_data[0:60].groupby(train_data.columns.tolist(),as_index=False).size()"
   ]
  },
  {
   "cell_type": "code",
   "execution_count": 37,
   "id": "9abc9297",
   "metadata": {
    "execution": {
     "iopub.execute_input": "2022-04-24T15:19:04.251978Z",
     "iopub.status.busy": "2022-04-24T15:19:04.251299Z",
     "iopub.status.idle": "2022-04-24T15:19:04.254218Z",
     "shell.execute_reply": "2022-04-24T15:19:04.254832Z",
     "shell.execute_reply.started": "2022-04-18T20:06:16.498707Z"
    },
    "papermill": {
     "duration": 0.070371,
     "end_time": "2022-04-24T15:19:04.255008",
     "exception": false,
     "start_time": "2022-04-24T15:19:04.184637",
     "status": "completed"
    },
    "tags": []
   },
   "outputs": [],
   "source": [
    "# print(x_train.shape)\n",
    "# print(x_train.shape)\n",
    "# sequence_length = int(len(df)/60)\n",
    "# sampling_rate = 60\n",
    "# batch_size = 256\n",
    "# sequence_length"
   ]
  },
  {
   "cell_type": "code",
   "execution_count": 38,
   "id": "e18b43f8",
   "metadata": {
    "execution": {
     "iopub.execute_input": "2022-04-24T15:19:04.384481Z",
     "iopub.status.busy": "2022-04-24T15:19:04.383738Z",
     "iopub.status.idle": "2022-04-24T15:19:04.386690Z",
     "shell.execute_reply": "2022-04-24T15:19:04.387233Z",
     "shell.execute_reply.started": "2022-04-18T20:06:17.743023Z"
    },
    "papermill": {
     "duration": 0.069278,
     "end_time": "2022-04-24T15:19:04.387442",
     "exception": false,
     "start_time": "2022-04-24T15:19:04.318164",
     "status": "completed"
    },
    "tags": []
   },
   "outputs": [],
   "source": [
    "# import tensorflow as tf\n",
    "# dataset_train = tf.keras.preprocessing.timeseries_dataset_from_array(\n",
    "#     x_train,\n",
    "#     y_train,\n",
    "#     sequence_length=100,\n",
    "#     sampling_rate=60,\n",
    "#     batch_size=256,\n",
    "# )\n",
    "# dataset_train"
   ]
  },
  {
   "cell_type": "code",
   "execution_count": 39,
   "id": "80e93eac",
   "metadata": {
    "execution": {
     "iopub.execute_input": "2022-04-24T15:19:04.517645Z",
     "iopub.status.busy": "2022-04-24T15:19:04.516886Z",
     "iopub.status.idle": "2022-04-24T15:19:04.521113Z",
     "shell.execute_reply": "2022-04-24T15:19:04.520581Z",
     "shell.execute_reply.started": "2022-04-18T20:06:24.714888Z"
    },
    "papermill": {
     "duration": 0.070189,
     "end_time": "2022-04-24T15:19:04.521253",
     "exception": false,
     "start_time": "2022-04-24T15:19:04.451064",
     "status": "completed"
    },
    "tags": []
   },
   "outputs": [],
   "source": [
    "# import tensorflow as tf\n",
    "# dataset = tf.data.Dataset.from_tensor_slices(x_train)\n",
    "# print(list(dataset.as_numpy_iterator()))"
   ]
  },
  {
   "cell_type": "code",
   "execution_count": 40,
   "id": "6b762b81",
   "metadata": {
    "execution": {
     "iopub.execute_input": "2022-04-24T15:19:04.650775Z",
     "iopub.status.busy": "2022-04-24T15:19:04.650128Z",
     "iopub.status.idle": "2022-04-24T15:19:04.652445Z",
     "shell.execute_reply": "2022-04-24T15:19:04.652976Z",
     "shell.execute_reply.started": "2022-04-18T20:06:25.331628Z"
    },
    "papermill": {
     "duration": 0.069432,
     "end_time": "2022-04-24T15:19:04.653152",
     "exception": false,
     "start_time": "2022-04-24T15:19:04.583720",
     "status": "completed"
    },
    "tags": []
   },
   "outputs": [],
   "source": [
    "# dataset_val = tf.keras.preprocessing.timeseries_dataset_from_array(\n",
    "#     val_data.drop(columns=['state']),\n",
    "#     val_data['state'],\n",
    "#     sequence_length=100,\n",
    "#     sampling_rate=60,\n",
    "#     batch_size=256,\n",
    "# )"
   ]
  },
  {
   "cell_type": "code",
   "execution_count": 41,
   "id": "c05c02e4",
   "metadata": {
    "execution": {
     "iopub.execute_input": "2022-04-24T15:19:04.784924Z",
     "iopub.status.busy": "2022-04-24T15:19:04.784294Z",
     "iopub.status.idle": "2022-04-24T15:19:04.786773Z",
     "shell.execute_reply": "2022-04-24T15:19:04.787334Z",
     "shell.execute_reply.started": "2022-04-18T20:06:31.255425Z"
    },
    "papermill": {
     "duration": 0.070055,
     "end_time": "2022-04-24T15:19:04.787539",
     "exception": false,
     "start_time": "2022-04-24T15:19:04.717484",
     "status": "completed"
    },
    "tags": []
   },
   "outputs": [],
   "source": [
    "# for batch in dataset_train.take(1):\n",
    "#     inputs, targets = batch"
   ]
  },
  {
   "cell_type": "code",
   "execution_count": 42,
   "id": "6992d8b0",
   "metadata": {
    "execution": {
     "iopub.execute_input": "2022-04-24T15:19:04.918816Z",
     "iopub.status.busy": "2022-04-24T15:19:04.918007Z",
     "iopub.status.idle": "2022-04-24T15:19:04.922019Z",
     "shell.execute_reply": "2022-04-24T15:19:04.922524Z",
     "shell.execute_reply.started": "2022-04-18T20:06:36.298899Z"
    },
    "papermill": {
     "duration": 0.072415,
     "end_time": "2022-04-24T15:19:04.922714",
     "exception": false,
     "start_time": "2022-04-24T15:19:04.850299",
     "status": "completed"
    },
    "tags": []
   },
   "outputs": [],
   "source": [
    "# X_train = pd.concat([X_train,X_encode],axis=0)\n",
    "# X_train\n",
    "# from tensorflow import keras\n",
    "# print(\"Input shape:\", inputs.numpy().shape)\n",
    "# print(\"Target shape:\", targets.numpy().shape)"
   ]
  },
  {
   "cell_type": "code",
   "execution_count": 43,
   "id": "56af23b9",
   "metadata": {
    "execution": {
     "iopub.execute_input": "2022-04-24T15:19:05.054218Z",
     "iopub.status.busy": "2022-04-24T15:19:05.053540Z",
     "iopub.status.idle": "2022-04-24T15:19:05.055632Z",
     "shell.execute_reply": "2022-04-24T15:19:05.056190Z",
     "shell.execute_reply.started": "2022-04-18T20:06:39.901902Z"
    },
    "papermill": {
     "duration": 0.071268,
     "end_time": "2022-04-24T15:19:05.056393",
     "exception": false,
     "start_time": "2022-04-24T15:19:04.985125",
     "status": "completed"
    },
    "tags": []
   },
   "outputs": [],
   "source": [
    "# inputs = keras.layers.Input(shape=(inputs.shape[1], inputs.shape[2]))\n",
    "# lstm_out = keras.layers.LSTM(32)(inputs)\n",
    "# outputs = keras.layers.Dense(1,activation='sigmoid')(lstm_out)\n",
    "\n",
    "# model = keras.Model(inputs=inputs, outputs=outputs)\n",
    "# model.compile(optimizer=keras.optimizers.Adam(learning_rate=0.001), loss=\"binary_crossentropy\")\n",
    "# model.summary()"
   ]
  },
  {
   "cell_type": "code",
   "execution_count": 44,
   "id": "6ad1fcb7",
   "metadata": {
    "execution": {
     "iopub.execute_input": "2022-04-24T15:19:05.185303Z",
     "iopub.status.busy": "2022-04-24T15:19:05.184678Z",
     "iopub.status.idle": "2022-04-24T15:19:05.187956Z",
     "shell.execute_reply": "2022-04-24T15:19:05.188471Z"
    },
    "papermill": {
     "duration": 0.069658,
     "end_time": "2022-04-24T15:19:05.188638",
     "exception": false,
     "start_time": "2022-04-24T15:19:05.118980",
     "status": "completed"
    },
    "tags": []
   },
   "outputs": [],
   "source": [
    "# path_checkpoint = \"model_checkpoint.h5\"\n",
    "# es_callback = keras.callbacks.EarlyStopping(monitor=\"val_loss\", min_delta=0, patience=5)\n",
    "\n",
    "# modelckpt_callback = keras.callbacks.ModelCheckpoint(\n",
    "#     monitor=\"val_loss\",\n",
    "#     filepath=path_checkpoint,\n",
    "#     verbose=1,\n",
    "#     save_weights_only=True,\n",
    "#     save_best_only=True,\n",
    "# )\n",
    "\n",
    "# history = model.fit(\n",
    "#     dataset_train,\n",
    "#     epochs=10,\n",
    "#     validation_data=dataset_val,\n",
    "#     callbacks=[es_callback, modelckpt_callback],\n",
    "# )"
   ]
  },
  {
   "cell_type": "code",
   "execution_count": 45,
   "id": "0df7c5e4",
   "metadata": {
    "execution": {
     "iopub.execute_input": "2022-04-24T15:19:05.318305Z",
     "iopub.status.busy": "2022-04-24T15:19:05.317633Z",
     "iopub.status.idle": "2022-04-24T15:19:05.320415Z",
     "shell.execute_reply": "2022-04-24T15:19:05.320943Z",
     "shell.execute_reply.started": "2022-04-16T18:33:40.220407Z"
    },
    "papermill": {
     "duration": 0.069278,
     "end_time": "2022-04-24T15:19:05.321131",
     "exception": false,
     "start_time": "2022-04-24T15:19:05.251853",
     "status": "completed"
    },
    "tags": []
   },
   "outputs": [],
   "source": [
    "# X_train.sort_index(inplace=True)"
   ]
  },
  {
   "cell_type": "code",
   "execution_count": 46,
   "id": "d52b23a3",
   "metadata": {
    "execution": {
     "iopub.execute_input": "2022-04-24T15:19:05.453262Z",
     "iopub.status.busy": "2022-04-24T15:19:05.452321Z",
     "iopub.status.idle": "2022-04-24T15:19:05.455273Z",
     "shell.execute_reply": "2022-04-24T15:19:05.455808Z",
     "shell.execute_reply.started": "2022-04-21T21:21:46.126687Z"
    },
    "papermill": {
     "duration": 0.071009,
     "end_time": "2022-04-24T15:19:05.455989",
     "exception": false,
     "start_time": "2022-04-24T15:19:05.384980",
     "status": "completed"
    },
    "tags": []
   },
   "outputs": [],
   "source": [
    "# X_train = X_train.drop(columns=['sequence'])\n",
    "# X_train\n",
    "# df['sensor_09'].value_counts()"
   ]
  },
  {
   "cell_type": "code",
   "execution_count": 47,
   "id": "971529d9",
   "metadata": {
    "execution": {
     "iopub.execute_input": "2022-04-24T15:19:05.587836Z",
     "iopub.status.busy": "2022-04-24T15:19:05.587175Z",
     "iopub.status.idle": "2022-04-24T15:19:05.590203Z",
     "shell.execute_reply": "2022-04-24T15:19:05.590708Z",
     "shell.execute_reply.started": "2022-04-21T22:30:28.282426Z"
    },
    "papermill": {
     "duration": 0.071227,
     "end_time": "2022-04-24T15:19:05.590885",
     "exception": false,
     "start_time": "2022-04-24T15:19:05.519658",
     "status": "completed"
    },
    "tags": []
   },
   "outputs": [],
   "source": [
    "# from sklearn.model_selection import train_test_split\n",
    "# train_X, test_X, train_Y, test_Y = train_test_split(df.drop(columns=['state']),df['state'],test_size=0.33,random_state=42)"
   ]
  },
  {
   "cell_type": "code",
   "execution_count": 48,
   "id": "12e2a7dd",
   "metadata": {
    "execution": {
     "iopub.execute_input": "2022-04-24T15:19:05.720592Z",
     "iopub.status.busy": "2022-04-24T15:19:05.719949Z",
     "iopub.status.idle": "2022-04-24T15:19:05.722426Z",
     "shell.execute_reply": "2022-04-24T15:19:05.722884Z",
     "shell.execute_reply.started": "2022-04-21T22:30:31.15774Z"
    },
    "papermill": {
     "duration": 0.069237,
     "end_time": "2022-04-24T15:19:05.723083",
     "exception": false,
     "start_time": "2022-04-24T15:19:05.653846",
     "status": "completed"
    },
    "tags": []
   },
   "outputs": [],
   "source": [
    "# from sklearn.ensemble import RandomForestClassifier\n",
    "# rfc = RandomForestClassifier(max_depth=10, random_state=42)\n",
    "# rfc.fit(train_X,train_Y)"
   ]
  },
  {
   "cell_type": "code",
   "execution_count": 49,
   "id": "4eaa032c",
   "metadata": {
    "execution": {
     "iopub.execute_input": "2022-04-24T15:19:05.854533Z",
     "iopub.status.busy": "2022-04-24T15:19:05.853874Z",
     "iopub.status.idle": "2022-04-24T15:19:05.856611Z",
     "shell.execute_reply": "2022-04-24T15:19:05.857119Z",
     "shell.execute_reply.started": "2022-04-21T22:30:34.427776Z"
    },
    "papermill": {
     "duration": 0.071399,
     "end_time": "2022-04-24T15:19:05.857314",
     "exception": false,
     "start_time": "2022-04-24T15:19:05.785915",
     "status": "completed"
    },
    "tags": []
   },
   "outputs": [],
   "source": [
    "# pred_rfc = rfc.predict(test_X)\n",
    "# pred_rfc"
   ]
  },
  {
   "cell_type": "code",
   "execution_count": 50,
   "id": "73e2813e",
   "metadata": {
    "execution": {
     "iopub.execute_input": "2022-04-24T15:19:05.988293Z",
     "iopub.status.busy": "2022-04-24T15:19:05.987345Z",
     "iopub.status.idle": "2022-04-24T15:19:05.991130Z",
     "shell.execute_reply": "2022-04-24T15:19:05.991622Z",
     "shell.execute_reply.started": "2022-04-21T22:30:40.331353Z"
    },
    "papermill": {
     "duration": 0.071523,
     "end_time": "2022-04-24T15:19:05.991820",
     "exception": false,
     "start_time": "2022-04-24T15:19:05.920297",
     "status": "completed"
    },
    "tags": []
   },
   "outputs": [],
   "source": [
    "# from sklearn.metrics import roc_auc_score\n",
    "# roc_auc_score(pred_rfc,test_Y)"
   ]
  },
  {
   "cell_type": "code",
   "execution_count": 51,
   "id": "81584651",
   "metadata": {
    "execution": {
     "iopub.execute_input": "2022-04-24T15:19:06.125118Z",
     "iopub.status.busy": "2022-04-24T15:19:06.124400Z",
     "iopub.status.idle": "2022-04-24T15:19:06.126426Z",
     "shell.execute_reply": "2022-04-24T15:19:06.125933Z",
     "shell.execute_reply.started": "2022-04-21T22:30:45.838638Z"
    },
    "papermill": {
     "duration": 0.070441,
     "end_time": "2022-04-24T15:19:06.126575",
     "exception": false,
     "start_time": "2022-04-24T15:19:06.056134",
     "status": "completed"
    },
    "tags": []
   },
   "outputs": [],
   "source": [
    "# from xgboost import XGBClassifier\n",
    "# xgb = XGBClassifier(max_depth=13,random_state=42,eval_metric='auc',use_label_encoder=False)\n",
    "# xgb.fit(train_X,train_Y)"
   ]
  },
  {
   "cell_type": "code",
   "execution_count": 52,
   "id": "e569c2ca",
   "metadata": {
    "execution": {
     "iopub.execute_input": "2022-04-24T15:19:06.257689Z",
     "iopub.status.busy": "2022-04-24T15:19:06.256417Z",
     "iopub.status.idle": "2022-04-24T15:19:06.259607Z",
     "shell.execute_reply": "2022-04-24T15:19:06.260173Z",
     "shell.execute_reply.started": "2022-04-21T22:31:04.723441Z"
    },
    "papermill": {
     "duration": 0.070716,
     "end_time": "2022-04-24T15:19:06.260354",
     "exception": false,
     "start_time": "2022-04-24T15:19:06.189638",
     "status": "completed"
    },
    "tags": []
   },
   "outputs": [],
   "source": [
    "# roc_auc_score(test_Y,xgb.predict(test_X))"
   ]
  },
  {
   "cell_type": "code",
   "execution_count": 53,
   "id": "95645801",
   "metadata": {
    "execution": {
     "iopub.execute_input": "2022-04-24T15:19:06.390154Z",
     "iopub.status.busy": "2022-04-24T15:19:06.388703Z",
     "iopub.status.idle": "2022-04-24T15:19:06.391923Z",
     "shell.execute_reply": "2022-04-24T15:19:06.392424Z",
     "shell.execute_reply.started": "2022-04-16T18:05:04.365153Z"
    },
    "papermill": {
     "duration": 0.069453,
     "end_time": "2022-04-24T15:19:06.392601",
     "exception": false,
     "start_time": "2022-04-24T15:19:06.323148",
     "status": "completed"
    },
    "tags": []
   },
   "outputs": [],
   "source": [
    "# df_train = train_X.sample(frac=0.7, random_state=0)\n",
    "# df_valid = train_X.drop(df_train.index)\n",
    "# max_ = df_train['step'].max(axis=0)\n",
    "# min_ = df_train['step'].min(axis=0)\n",
    "# df_train['step'] = (df_train['step'] - min_) / (max_ - min_)\n",
    "# df_valid['step'] = (df_valid['step'] - min_) / (max_ - min_)"
   ]
  },
  {
   "cell_type": "code",
   "execution_count": 54,
   "id": "8f49d421",
   "metadata": {
    "execution": {
     "iopub.execute_input": "2022-04-24T15:19:06.525402Z",
     "iopub.status.busy": "2022-04-24T15:19:06.524087Z",
     "iopub.status.idle": "2022-04-24T15:19:06.527386Z",
     "shell.execute_reply": "2022-04-24T15:19:06.527979Z",
     "shell.execute_reply.started": "2022-04-16T18:05:08.338309Z"
    },
    "papermill": {
     "duration": 0.072722,
     "end_time": "2022-04-24T15:19:06.528170",
     "exception": false,
     "start_time": "2022-04-24T15:19:06.455448",
     "status": "completed"
    },
    "tags": []
   },
   "outputs": [],
   "source": [
    "# y_train = Y[df_train.index]\n",
    "# y_valid = Y[df_valid.index]"
   ]
  },
  {
   "cell_type": "code",
   "execution_count": 55,
   "id": "e3ea1dd7",
   "metadata": {
    "execution": {
     "iopub.execute_input": "2022-04-24T15:19:06.658267Z",
     "iopub.status.busy": "2022-04-24T15:19:06.657607Z",
     "iopub.status.idle": "2022-04-24T15:19:06.660239Z",
     "shell.execute_reply": "2022-04-24T15:19:06.660821Z",
     "shell.execute_reply.started": "2022-04-16T18:05:16.687041Z"
    },
    "papermill": {
     "duration": 0.070282,
     "end_time": "2022-04-24T15:19:06.661010",
     "exception": false,
     "start_time": "2022-04-24T15:19:06.590728",
     "status": "completed"
    },
    "tags": []
   },
   "outputs": [],
   "source": [
    "# from tensorflow import keras\n",
    "# from tensorflow.keras import layers\n",
    "\n",
    "# model = keras.Sequential([\n",
    "#     layers.Dense(4, activation='relu', input_shape=[16]),\n",
    "#     layers.Dense(4, activation='relu'),    \n",
    "#     layers.Dense(1, activation='sigmoid'),\n",
    "# ])"
   ]
  },
  {
   "cell_type": "code",
   "execution_count": 56,
   "id": "4eac3138",
   "metadata": {
    "execution": {
     "iopub.execute_input": "2022-04-24T15:19:06.791725Z",
     "iopub.status.busy": "2022-04-24T15:19:06.791097Z",
     "iopub.status.idle": "2022-04-24T15:19:06.794397Z",
     "shell.execute_reply": "2022-04-24T15:19:06.795070Z",
     "shell.execute_reply.started": "2022-04-16T18:05:34.607584Z"
    },
    "papermill": {
     "duration": 0.069512,
     "end_time": "2022-04-24T15:19:06.795264",
     "exception": false,
     "start_time": "2022-04-24T15:19:06.725752",
     "status": "completed"
    },
    "tags": []
   },
   "outputs": [],
   "source": [
    "# model.compile(\n",
    "#     optimizer='adam',\n",
    "#     loss='binary_crossentropy',\n",
    "#     metrics=['binary_accuracy'],\n",
    "# )\n",
    "# early_stopping = keras.callbacks.EarlyStopping(\n",
    "#     patience=10,\n",
    "#     min_delta=0.001,\n",
    "#     restore_best_weights=True,\n",
    "# )\n",
    "\n",
    "# history = model.fit(\n",
    "#     df_train, y_train,\n",
    "#     validation_data=(df_valid, y_valid),\n",
    "#     batch_size=512,\n",
    "#     epochs=1000,\n",
    "#     callbacks=[early_stopping],\n",
    "#     verbose=0,\n",
    "# )"
   ]
  }
 ],
 "metadata": {
  "kernelspec": {
   "display_name": "Python 3",
   "language": "python",
   "name": "python3"
  },
  "language_info": {
   "codemirror_mode": {
    "name": "ipython",
    "version": 3
   },
   "file_extension": ".py",
   "mimetype": "text/x-python",
   "name": "python",
   "nbconvert_exporter": "python",
   "pygments_lexer": "ipython3",
   "version": "3.7.12"
  },
  "papermill": {
   "default_parameters": {},
   "duration": 311.513792,
   "end_time": "2022-04-24T15:19:07.975274",
   "environment_variables": {},
   "exception": null,
   "input_path": "__notebook__.ipynb",
   "output_path": "__notebook__.ipynb",
   "parameters": {},
   "start_time": "2022-04-24T15:13:56.461482",
   "version": "2.3.3"
  }
 },
 "nbformat": 4,
 "nbformat_minor": 5
}
