{
 "cells": [
  {
   "cell_type": "code",
   "execution_count": 1,
   "id": "0a77899c",
   "metadata": {
    "_cell_guid": "b1076dfc-b9ad-4769-8c92-a6c4dae69d19",
    "_uuid": "8f2839f25d086af736a60e9eeb907d3b93b6e0e5",
    "execution": {
     "iopub.execute_input": "2022-04-26T18:21:29.161820Z",
     "iopub.status.busy": "2022-04-26T18:21:29.160645Z",
     "iopub.status.idle": "2022-04-26T18:21:30.254576Z",
     "shell.execute_reply": "2022-04-26T18:21:30.255274Z",
     "shell.execute_reply.started": "2022-04-06T21:17:40.706003Z"
    },
    "papermill": {
     "duration": 1.160655,
     "end_time": "2022-04-26T18:21:30.255643",
     "exception": false,
     "start_time": "2022-04-26T18:21:29.094988",
     "status": "completed"
    },
    "tags": []
   },
   "outputs": [
    {
     "name": "stdout",
     "output_type": "stream",
     "text": [
      "/kaggle/input/tabular-playground-series-mar-2022/sample_submission.csv\n",
      "/kaggle/input/tabular-playground-series-mar-2022/train.csv\n",
      "/kaggle/input/tabular-playground-series-mar-2022/test.csv\n"
     ]
    }
   ],
   "source": [
    "# This Python 3 environment comes with many helpful analytics libraries installed\n",
    "# It is defined by the kaggle/python Docker image: https://github.com/kaggle/docker-python\n",
    "# For example, here's several helpful packages to load\n",
    "\n",
    "import numpy as np # linear algebra\n",
    "import pandas as pd # data processing, CSV file I/O (e.g. pd.read_csv)\n",
    "import matplotlib.pyplot as plt\n",
    "import seaborn as sns\n",
    "    \n",
    "# Input data files are available in the read-only \"../input/\" directory\n",
    "# For example, running this (by clicking run or pressing Shift+Enter) will list all files under the input directory\n",
    "\n",
    "import os\n",
    "for dirname, _, filenames in os.walk('/kaggle/input'):\n",
    "    for filename in filenames:\n",
    "        print(os.path.join(dirname, filename))\n",
    "\n",
    "# You can write up to 20GB to the current directory (/kaggle/working/) that gets preserved as output when you create a version using \"Save & Run All\" \n",
    "# You can also write temporary files to /kaggle/temp/, but they won't be saved outside of the current session"
   ]
  },
  {
   "cell_type": "code",
   "execution_count": 2,
   "id": "59715c44",
   "metadata": {
    "execution": {
     "iopub.execute_input": "2022-04-26T18:21:30.388455Z",
     "iopub.status.busy": "2022-04-26T18:21:30.387595Z",
     "iopub.status.idle": "2022-04-26T18:21:31.556155Z",
     "shell.execute_reply": "2022-04-26T18:21:31.556719Z",
     "shell.execute_reply.started": "2022-04-06T21:17:42.711961Z"
    },
    "papermill": {
     "duration": 1.23583,
     "end_time": "2022-04-26T18:21:31.556888",
     "exception": false,
     "start_time": "2022-04-26T18:21:30.321058",
     "status": "completed"
    },
    "tags": []
   },
   "outputs": [
    {
     "data": {
      "text/html": [
       "<div>\n",
       "<style scoped>\n",
       "    .dataframe tbody tr th:only-of-type {\n",
       "        vertical-align: middle;\n",
       "    }\n",
       "\n",
       "    .dataframe tbody tr th {\n",
       "        vertical-align: top;\n",
       "    }\n",
       "\n",
       "    .dataframe thead th {\n",
       "        text-align: right;\n",
       "    }\n",
       "</style>\n",
       "<table border=\"1\" class=\"dataframe\">\n",
       "  <thead>\n",
       "    <tr style=\"text-align: right;\">\n",
       "      <th></th>\n",
       "      <th>time</th>\n",
       "      <th>x</th>\n",
       "      <th>y</th>\n",
       "      <th>direction</th>\n",
       "      <th>congestion</th>\n",
       "    </tr>\n",
       "    <tr>\n",
       "      <th>row_id</th>\n",
       "      <th></th>\n",
       "      <th></th>\n",
       "      <th></th>\n",
       "      <th></th>\n",
       "      <th></th>\n",
       "    </tr>\n",
       "  </thead>\n",
       "  <tbody>\n",
       "    <tr>\n",
       "      <th>0</th>\n",
       "      <td>1991-04-01 00:00:00</td>\n",
       "      <td>0</td>\n",
       "      <td>0</td>\n",
       "      <td>EB</td>\n",
       "      <td>70</td>\n",
       "    </tr>\n",
       "    <tr>\n",
       "      <th>1</th>\n",
       "      <td>1991-04-01 00:00:00</td>\n",
       "      <td>0</td>\n",
       "      <td>0</td>\n",
       "      <td>NB</td>\n",
       "      <td>49</td>\n",
       "    </tr>\n",
       "    <tr>\n",
       "      <th>2</th>\n",
       "      <td>1991-04-01 00:00:00</td>\n",
       "      <td>0</td>\n",
       "      <td>0</td>\n",
       "      <td>SB</td>\n",
       "      <td>24</td>\n",
       "    </tr>\n",
       "    <tr>\n",
       "      <th>3</th>\n",
       "      <td>1991-04-01 00:00:00</td>\n",
       "      <td>0</td>\n",
       "      <td>1</td>\n",
       "      <td>EB</td>\n",
       "      <td>18</td>\n",
       "    </tr>\n",
       "    <tr>\n",
       "      <th>4</th>\n",
       "      <td>1991-04-01 00:00:00</td>\n",
       "      <td>0</td>\n",
       "      <td>1</td>\n",
       "      <td>NB</td>\n",
       "      <td>60</td>\n",
       "    </tr>\n",
       "    <tr>\n",
       "      <th>...</th>\n",
       "      <td>...</td>\n",
       "      <td>...</td>\n",
       "      <td>...</td>\n",
       "      <td>...</td>\n",
       "      <td>...</td>\n",
       "    </tr>\n",
       "    <tr>\n",
       "      <th>848830</th>\n",
       "      <td>1991-09-30 11:40:00</td>\n",
       "      <td>2</td>\n",
       "      <td>3</td>\n",
       "      <td>NB</td>\n",
       "      <td>54</td>\n",
       "    </tr>\n",
       "    <tr>\n",
       "      <th>848831</th>\n",
       "      <td>1991-09-30 11:40:00</td>\n",
       "      <td>2</td>\n",
       "      <td>3</td>\n",
       "      <td>NE</td>\n",
       "      <td>28</td>\n",
       "    </tr>\n",
       "    <tr>\n",
       "      <th>848832</th>\n",
       "      <td>1991-09-30 11:40:00</td>\n",
       "      <td>2</td>\n",
       "      <td>3</td>\n",
       "      <td>SB</td>\n",
       "      <td>68</td>\n",
       "    </tr>\n",
       "    <tr>\n",
       "      <th>848833</th>\n",
       "      <td>1991-09-30 11:40:00</td>\n",
       "      <td>2</td>\n",
       "      <td>3</td>\n",
       "      <td>SW</td>\n",
       "      <td>17</td>\n",
       "    </tr>\n",
       "    <tr>\n",
       "      <th>848834</th>\n",
       "      <td>1991-09-30 11:40:00</td>\n",
       "      <td>2</td>\n",
       "      <td>3</td>\n",
       "      <td>WB</td>\n",
       "      <td>24</td>\n",
       "    </tr>\n",
       "  </tbody>\n",
       "</table>\n",
       "<p>848835 rows × 5 columns</p>\n",
       "</div>"
      ],
      "text/plain": [
       "                       time  x  y direction  congestion\n",
       "row_id                                                 \n",
       "0       1991-04-01 00:00:00  0  0        EB          70\n",
       "1       1991-04-01 00:00:00  0  0        NB          49\n",
       "2       1991-04-01 00:00:00  0  0        SB          24\n",
       "3       1991-04-01 00:00:00  0  1        EB          18\n",
       "4       1991-04-01 00:00:00  0  1        NB          60\n",
       "...                     ... .. ..       ...         ...\n",
       "848830  1991-09-30 11:40:00  2  3        NB          54\n",
       "848831  1991-09-30 11:40:00  2  3        NE          28\n",
       "848832  1991-09-30 11:40:00  2  3        SB          68\n",
       "848833  1991-09-30 11:40:00  2  3        SW          17\n",
       "848834  1991-09-30 11:40:00  2  3        WB          24\n",
       "\n",
       "[848835 rows x 5 columns]"
      ]
     },
     "execution_count": 2,
     "metadata": {},
     "output_type": "execute_result"
    }
   ],
   "source": [
    "train = pd.read_csv('../input/tabular-playground-series-mar-2022/train.csv',index_col='row_id')\n",
    "test = pd.read_csv('../input/tabular-playground-series-mar-2022/test.csv',index_col=['row_id'])\n",
    "train\n",
    "# help(pd.read_csv)"
   ]
  },
  {
   "cell_type": "code",
   "execution_count": 3,
   "id": "61b5c28d",
   "metadata": {
    "execution": {
     "iopub.execute_input": "2022-04-26T18:21:31.688678Z",
     "iopub.status.busy": "2022-04-26T18:21:31.687982Z",
     "iopub.status.idle": "2022-04-26T18:21:32.064722Z",
     "shell.execute_reply": "2022-04-26T18:21:32.064210Z",
     "shell.execute_reply.started": "2022-04-06T21:17:43.898574Z"
    },
    "papermill": {
     "duration": 0.444333,
     "end_time": "2022-04-26T18:21:32.064871",
     "exception": false,
     "start_time": "2022-04-26T18:21:31.620538",
     "status": "completed"
    },
    "tags": []
   },
   "outputs": [
    {
     "data": {
      "image/png": "[encoded data removed]",
      "text/plain": [
       "<Figure size 720x360 with 1 Axes>"
      ]
     },
     "metadata": {
      "needs_background": "light"
     },
     "output_type": "display_data"
    }
   ],
   "source": [
    "plt.figure(figsize=[10,5])\n",
    "train['direction'].value_counts().plot.bar()\n",
    "plt.show()"
   ]
  },
  {
   "cell_type": "code",
   "execution_count": 4,
   "id": "b151969d",
   "metadata": {
    "execution": {
     "iopub.execute_input": "2022-04-26T18:21:32.200116Z",
     "iopub.status.busy": "2022-04-26T18:21:32.199196Z",
     "iopub.status.idle": "2022-04-26T18:21:33.356136Z",
     "shell.execute_reply": "2022-04-26T18:21:33.355181Z",
     "shell.execute_reply.started": "2022-04-06T21:17:44.360067Z"
    },
    "papermill": {
     "duration": 1.227019,
     "end_time": "2022-04-26T18:21:33.356285",
     "exception": false,
     "start_time": "2022-04-26T18:21:32.129266",
     "status": "completed"
    },
    "tags": []
   },
   "outputs": [
    {
     "data": {
      "image/png": "[encoded data removed]",
      "text/plain": [
       "<Figure size 432x288 with 1 Axes>"
      ]
     },
     "metadata": {
      "needs_background": "light"
     },
     "output_type": "display_data"
    }
   ],
   "source": [
    "sns.histplot(train.congestion,kde=False)\n",
    "plt.show()"
   ]
  },
  {
   "cell_type": "code",
   "execution_count": 5,
   "id": "7c4581ca",
   "metadata": {
    "execution": {
     "iopub.execute_input": "2022-04-26T18:21:33.538640Z",
     "iopub.status.busy": "2022-04-26T18:21:33.537944Z",
     "iopub.status.idle": "2022-04-26T18:21:33.925744Z",
     "shell.execute_reply": "2022-04-26T18:21:33.925105Z",
     "shell.execute_reply.started": "2022-04-06T21:17:45.372834Z"
    },
    "papermill": {
     "duration": 0.504516,
     "end_time": "2022-04-26T18:21:33.925882",
     "exception": false,
     "start_time": "2022-04-26T18:21:33.421366",
     "status": "completed"
    },
    "tags": []
   },
   "outputs": [
    {
     "data": {
      "text/html": [
       "<div>\n",
       "<style scoped>\n",
       "    .dataframe tbody tr th:only-of-type {\n",
       "        vertical-align: middle;\n",
       "    }\n",
       "\n",
       "    .dataframe tbody tr th {\n",
       "        vertical-align: top;\n",
       "    }\n",
       "\n",
       "    .dataframe thead th {\n",
       "        text-align: right;\n",
       "    }\n",
       "</style>\n",
       "<table border=\"1\" class=\"dataframe\">\n",
       "  <thead>\n",
       "    <tr style=\"text-align: right;\">\n",
       "      <th></th>\n",
       "      <th>time</th>\n",
       "      <th>x</th>\n",
       "      <th>y</th>\n",
       "      <th>direction</th>\n",
       "      <th>congestion</th>\n",
       "      <th>weekday</th>\n",
       "      <th>hour</th>\n",
       "      <th>minute</th>\n",
       "    </tr>\n",
       "    <tr>\n",
       "      <th>row_id</th>\n",
       "      <th></th>\n",
       "      <th></th>\n",
       "      <th></th>\n",
       "      <th></th>\n",
       "      <th></th>\n",
       "      <th></th>\n",
       "      <th></th>\n",
       "      <th></th>\n",
       "    </tr>\n",
       "  </thead>\n",
       "  <tbody>\n",
       "    <tr>\n",
       "      <th>0</th>\n",
       "      <td>1991-04-01 00:00:00</td>\n",
       "      <td>0</td>\n",
       "      <td>0</td>\n",
       "      <td>EB</td>\n",
       "      <td>70</td>\n",
       "      <td>0</td>\n",
       "      <td>0</td>\n",
       "      <td>0</td>\n",
       "    </tr>\n",
       "    <tr>\n",
       "      <th>1</th>\n",
       "      <td>1991-04-01 00:00:00</td>\n",
       "      <td>0</td>\n",
       "      <td>0</td>\n",
       "      <td>NB</td>\n",
       "      <td>49</td>\n",
       "      <td>0</td>\n",
       "      <td>0</td>\n",
       "      <td>0</td>\n",
       "    </tr>\n",
       "    <tr>\n",
       "      <th>2</th>\n",
       "      <td>1991-04-01 00:00:00</td>\n",
       "      <td>0</td>\n",
       "      <td>0</td>\n",
       "      <td>SB</td>\n",
       "      <td>24</td>\n",
       "      <td>0</td>\n",
       "      <td>0</td>\n",
       "      <td>0</td>\n",
       "    </tr>\n",
       "    <tr>\n",
       "      <th>3</th>\n",
       "      <td>1991-04-01 00:00:00</td>\n",
       "      <td>0</td>\n",
       "      <td>1</td>\n",
       "      <td>EB</td>\n",
       "      <td>18</td>\n",
       "      <td>0</td>\n",
       "      <td>0</td>\n",
       "      <td>0</td>\n",
       "    </tr>\n",
       "    <tr>\n",
       "      <th>4</th>\n",
       "      <td>1991-04-01 00:00:00</td>\n",
       "      <td>0</td>\n",
       "      <td>1</td>\n",
       "      <td>NB</td>\n",
       "      <td>60</td>\n",
       "      <td>0</td>\n",
       "      <td>0</td>\n",
       "      <td>0</td>\n",
       "    </tr>\n",
       "    <tr>\n",
       "      <th>...</th>\n",
       "      <td>...</td>\n",
       "      <td>...</td>\n",
       "      <td>...</td>\n",
       "      <td>...</td>\n",
       "      <td>...</td>\n",
       "      <td>...</td>\n",
       "      <td>...</td>\n",
       "      <td>...</td>\n",
       "    </tr>\n",
       "    <tr>\n",
       "      <th>848830</th>\n",
       "      <td>1991-09-30 11:40:00</td>\n",
       "      <td>2</td>\n",
       "      <td>3</td>\n",
       "      <td>NB</td>\n",
       "      <td>54</td>\n",
       "      <td>0</td>\n",
       "      <td>11</td>\n",
       "      <td>40</td>\n",
       "    </tr>\n",
       "    <tr>\n",
       "      <th>848831</th>\n",
       "      <td>1991-09-30 11:40:00</td>\n",
       "      <td>2</td>\n",
       "      <td>3</td>\n",
       "      <td>NE</td>\n",
       "      <td>28</td>\n",
       "      <td>0</td>\n",
       "      <td>11</td>\n",
       "      <td>40</td>\n",
       "    </tr>\n",
       "    <tr>\n",
       "      <th>848832</th>\n",
       "      <td>1991-09-30 11:40:00</td>\n",
       "      <td>2</td>\n",
       "      <td>3</td>\n",
       "      <td>SB</td>\n",
       "      <td>68</td>\n",
       "      <td>0</td>\n",
       "      <td>11</td>\n",
       "      <td>40</td>\n",
       "    </tr>\n",
       "    <tr>\n",
       "      <th>848833</th>\n",
       "      <td>1991-09-30 11:40:00</td>\n",
       "      <td>2</td>\n",
       "      <td>3</td>\n",
       "      <td>SW</td>\n",
       "      <td>17</td>\n",
       "      <td>0</td>\n",
       "      <td>11</td>\n",
       "      <td>40</td>\n",
       "    </tr>\n",
       "    <tr>\n",
       "      <th>848834</th>\n",
       "      <td>1991-09-30 11:40:00</td>\n",
       "      <td>2</td>\n",
       "      <td>3</td>\n",
       "      <td>WB</td>\n",
       "      <td>24</td>\n",
       "      <td>0</td>\n",
       "      <td>11</td>\n",
       "      <td>40</td>\n",
       "    </tr>\n",
       "  </tbody>\n",
       "</table>\n",
       "<p>848835 rows × 8 columns</p>\n",
       "</div>"
      ],
      "text/plain": [
       "                      time  x  y direction  congestion  weekday  hour  minute\n",
       "row_id                                                                       \n",
       "0      1991-04-01 00:00:00  0  0        EB          70        0     0       0\n",
       "1      1991-04-01 00:00:00  0  0        NB          49        0     0       0\n",
       "2      1991-04-01 00:00:00  0  0        SB          24        0     0       0\n",
       "3      1991-04-01 00:00:00  0  1        EB          18        0     0       0\n",
       "4      1991-04-01 00:00:00  0  1        NB          60        0     0       0\n",
       "...                    ... .. ..       ...         ...      ...   ...     ...\n",
       "848830 1991-09-30 11:40:00  2  3        NB          54        0    11      40\n",
       "848831 1991-09-30 11:40:00  2  3        NE          28        0    11      40\n",
       "848832 1991-09-30 11:40:00  2  3        SB          68        0    11      40\n",
       "848833 1991-09-30 11:40:00  2  3        SW          17        0    11      40\n",
       "848834 1991-09-30 11:40:00  2  3        WB          24        0    11      40\n",
       "\n",
       "[848835 rows x 8 columns]"
      ]
     },
     "execution_count": 5,
     "metadata": {},
     "output_type": "execute_result"
    }
   ],
   "source": [
    "train['time'] = pd.to_datetime(train['time'])\n",
    "train['weekday'] = train['time'].dt.weekday\n",
    "train['hour'] = train['time'].dt.hour\n",
    "train['minute'] = train['time'].dt.minute\n",
    "train"
   ]
  },
  {
   "cell_type": "code",
   "execution_count": 6,
   "id": "b5b73342",
   "metadata": {
    "execution": {
     "iopub.execute_input": "2022-04-26T18:21:34.062306Z",
     "iopub.status.busy": "2022-04-26T18:21:34.061613Z",
     "iopub.status.idle": "2022-04-26T18:21:34.298927Z",
     "shell.execute_reply": "2022-04-26T18:21:34.299432Z",
     "shell.execute_reply.started": "2022-04-06T21:17:45.743893Z"
    },
    "papermill": {
     "duration": 0.308377,
     "end_time": "2022-04-26T18:21:34.299605",
     "exception": false,
     "start_time": "2022-04-26T18:21:33.991228",
     "status": "completed"
    },
    "tags": []
   },
   "outputs": [
    {
     "data": {
      "text/html": [
       "<div>\n",
       "<style scoped>\n",
       "    .dataframe tbody tr th:only-of-type {\n",
       "        vertical-align: middle;\n",
       "    }\n",
       "\n",
       "    .dataframe tbody tr th {\n",
       "        vertical-align: top;\n",
       "    }\n",
       "\n",
       "    .dataframe thead th {\n",
       "        text-align: right;\n",
       "    }\n",
       "</style>\n",
       "<table border=\"1\" class=\"dataframe\">\n",
       "  <thead>\n",
       "    <tr style=\"text-align: right;\">\n",
       "      <th></th>\n",
       "      <th>x</th>\n",
       "      <th>y</th>\n",
       "      <th>congestion</th>\n",
       "      <th>weekday</th>\n",
       "      <th>hour</th>\n",
       "      <th>minute</th>\n",
       "      <th>direction_EB</th>\n",
       "      <th>direction_NB</th>\n",
       "      <th>direction_NE</th>\n",
       "      <th>direction_NW</th>\n",
       "      <th>direction_SB</th>\n",
       "      <th>direction_SE</th>\n",
       "      <th>direction_SW</th>\n",
       "      <th>direction_WB</th>\n",
       "    </tr>\n",
       "    <tr>\n",
       "      <th>row_id</th>\n",
       "      <th></th>\n",
       "      <th></th>\n",
       "      <th></th>\n",
       "      <th></th>\n",
       "      <th></th>\n",
       "      <th></th>\n",
       "      <th></th>\n",
       "      <th></th>\n",
       "      <th></th>\n",
       "      <th></th>\n",
       "      <th></th>\n",
       "      <th></th>\n",
       "      <th></th>\n",
       "      <th></th>\n",
       "    </tr>\n",
       "  </thead>\n",
       "  <tbody>\n",
       "    <tr>\n",
       "      <th>0</th>\n",
       "      <td>0</td>\n",
       "      <td>0</td>\n",
       "      <td>70</td>\n",
       "      <td>0</td>\n",
       "      <td>0</td>\n",
       "      <td>0</td>\n",
       "      <td>1</td>\n",
       "      <td>0</td>\n",
       "      <td>0</td>\n",
       "      <td>0</td>\n",
       "      <td>0</td>\n",
       "      <td>0</td>\n",
       "      <td>0</td>\n",
       "      <td>0</td>\n",
       "    </tr>\n",
       "    <tr>\n",
       "      <th>1</th>\n",
       "      <td>0</td>\n",
       "      <td>0</td>\n",
       "      <td>49</td>\n",
       "      <td>0</td>\n",
       "      <td>0</td>\n",
       "      <td>0</td>\n",
       "      <td>0</td>\n",
       "      <td>1</td>\n",
       "      <td>0</td>\n",
       "      <td>0</td>\n",
       "      <td>0</td>\n",
       "      <td>0</td>\n",
       "      <td>0</td>\n",
       "      <td>0</td>\n",
       "    </tr>\n",
       "    <tr>\n",
       "      <th>2</th>\n",
       "      <td>0</td>\n",
       "      <td>0</td>\n",
       "      <td>24</td>\n",
       "      <td>0</td>\n",
       "      <td>0</td>\n",
       "      <td>0</td>\n",
       "      <td>0</td>\n",
       "      <td>0</td>\n",
       "      <td>0</td>\n",
       "      <td>0</td>\n",
       "      <td>1</td>\n",
       "      <td>0</td>\n",
       "      <td>0</td>\n",
       "      <td>0</td>\n",
       "    </tr>\n",
       "    <tr>\n",
       "      <th>3</th>\n",
       "      <td>0</td>\n",
       "      <td>1</td>\n",
       "      <td>18</td>\n",
       "      <td>0</td>\n",
       "      <td>0</td>\n",
       "      <td>0</td>\n",
       "      <td>1</td>\n",
       "      <td>0</td>\n",
       "      <td>0</td>\n",
       "      <td>0</td>\n",
       "      <td>0</td>\n",
       "      <td>0</td>\n",
       "      <td>0</td>\n",
       "      <td>0</td>\n",
       "    </tr>\n",
       "    <tr>\n",
       "      <th>4</th>\n",
       "      <td>0</td>\n",
       "      <td>1</td>\n",
       "      <td>60</td>\n",
       "      <td>0</td>\n",
       "      <td>0</td>\n",
       "      <td>0</td>\n",
       "      <td>0</td>\n",
       "      <td>1</td>\n",
       "      <td>0</td>\n",
       "      <td>0</td>\n",
       "      <td>0</td>\n",
       "      <td>0</td>\n",
       "      <td>0</td>\n",
       "      <td>0</td>\n",
       "    </tr>\n",
       "    <tr>\n",
       "      <th>...</th>\n",
       "      <td>...</td>\n",
       "      <td>...</td>\n",
       "      <td>...</td>\n",
       "      <td>...</td>\n",
       "      <td>...</td>\n",
       "      <td>...</td>\n",
       "      <td>...</td>\n",
       "      <td>...</td>\n",
       "      <td>...</td>\n",
       "      <td>...</td>\n",
       "      <td>...</td>\n",
       "      <td>...</td>\n",
       "      <td>...</td>\n",
       "      <td>...</td>\n",
       "    </tr>\n",
       "    <tr>\n",
       "      <th>848830</th>\n",
       "      <td>2</td>\n",
       "      <td>3</td>\n",
       "      <td>54</td>\n",
       "      <td>0</td>\n",
       "      <td>11</td>\n",
       "      <td>40</td>\n",
       "      <td>0</td>\n",
       "      <td>1</td>\n",
       "      <td>0</td>\n",
       "      <td>0</td>\n",
       "      <td>0</td>\n",
       "      <td>0</td>\n",
       "      <td>0</td>\n",
       "      <td>0</td>\n",
       "    </tr>\n",
       "    <tr>\n",
       "      <th>848831</th>\n",
       "      <td>2</td>\n",
       "      <td>3</td>\n",
       "      <td>28</td>\n",
       "      <td>0</td>\n",
       "      <td>11</td>\n",
       "      <td>40</td>\n",
       "      <td>0</td>\n",
       "      <td>0</td>\n",
       "      <td>1</td>\n",
       "      <td>0</td>\n",
       "      <td>0</td>\n",
       "      <td>0</td>\n",
       "      <td>0</td>\n",
       "      <td>0</td>\n",
       "    </tr>\n",
       "    <tr>\n",
       "      <th>848832</th>\n",
       "      <td>2</td>\n",
       "      <td>3</td>\n",
       "      <td>68</td>\n",
       "      <td>0</td>\n",
       "      <td>11</td>\n",
       "      <td>40</td>\n",
       "      <td>0</td>\n",
       "      <td>0</td>\n",
       "      <td>0</td>\n",
       "      <td>0</td>\n",
       "      <td>1</td>\n",
       "      <td>0</td>\n",
       "      <td>0</td>\n",
       "      <td>0</td>\n",
       "    </tr>\n",
       "    <tr>\n",
       "      <th>848833</th>\n",
       "      <td>2</td>\n",
       "      <td>3</td>\n",
       "      <td>17</td>\n",
       "      <td>0</td>\n",
       "      <td>11</td>\n",
       "      <td>40</td>\n",
       "      <td>0</td>\n",
       "      <td>0</td>\n",
       "      <td>0</td>\n",
       "      <td>0</td>\n",
       "      <td>0</td>\n",
       "      <td>0</td>\n",
       "      <td>1</td>\n",
       "      <td>0</td>\n",
       "    </tr>\n",
       "    <tr>\n",
       "      <th>848834</th>\n",
       "      <td>2</td>\n",
       "      <td>3</td>\n",
       "      <td>24</td>\n",
       "      <td>0</td>\n",
       "      <td>11</td>\n",
       "      <td>40</td>\n",
       "      <td>0</td>\n",
       "      <td>0</td>\n",
       "      <td>0</td>\n",
       "      <td>0</td>\n",
       "      <td>0</td>\n",
       "      <td>0</td>\n",
       "      <td>0</td>\n",
       "      <td>1</td>\n",
       "    </tr>\n",
       "  </tbody>\n",
       "</table>\n",
       "<p>848835 rows × 14 columns</p>\n",
       "</div>"
      ],
      "text/plain": [
       "        x  y  congestion  weekday  hour  minute  direction_EB  direction_NB  \\\n",
       "row_id                                                                        \n",
       "0       0  0          70        0     0       0             1             0   \n",
       "1       0  0          49        0     0       0             0             1   \n",
       "2       0  0          24        0     0       0             0             0   \n",
       "3       0  1          18        0     0       0             1             0   \n",
       "4       0  1          60        0     0       0             0             1   \n",
       "...    .. ..         ...      ...   ...     ...           ...           ...   \n",
       "848830  2  3          54        0    11      40             0             1   \n",
       "848831  2  3          28        0    11      40             0             0   \n",
       "848832  2  3          68        0    11      40             0             0   \n",
       "848833  2  3          17        0    11      40             0             0   \n",
       "848834  2  3          24        0    11      40             0             0   \n",
       "\n",
       "        direction_NE  direction_NW  direction_SB  direction_SE  direction_SW  \\\n",
       "row_id                                                                         \n",
       "0                  0             0             0             0             0   \n",
       "1                  0             0             0             0             0   \n",
       "2                  0             0             1             0             0   \n",
       "3                  0             0             0             0             0   \n",
       "4                  0             0             0             0             0   \n",
       "...              ...           ...           ...           ...           ...   \n",
       "848830             0             0             0             0             0   \n",
       "848831             1             0             0             0             0   \n",
       "848832             0             0             1             0             0   \n",
       "848833             0             0             0             0             1   \n",
       "848834             0             0             0             0             0   \n",
       "\n",
       "        direction_WB  \n",
       "row_id                \n",
       "0                  0  \n",
       "1                  0  \n",
       "2                  0  \n",
       "3                  0  \n",
       "4                  0  \n",
       "...              ...  \n",
       "848830             0  \n",
       "848831             0  \n",
       "848832             0  \n",
       "848833             0  \n",
       "848834             1  \n",
       "\n",
       "[848835 rows x 14 columns]"
      ]
     },
     "execution_count": 6,
     "metadata": {},
     "output_type": "execute_result"
    }
   ],
   "source": [
    "train = pd.get_dummies(train)\n",
    "train = train.drop(columns=['time'])\n",
    "train"
   ]
  },
  {
   "cell_type": "code",
   "execution_count": 7,
   "id": "525a9016",
   "metadata": {
    "execution": {
     "iopub.execute_input": "2022-04-26T18:21:34.436770Z",
     "iopub.status.busy": "2022-04-26T18:21:34.435900Z",
     "iopub.status.idle": "2022-04-26T18:21:34.438018Z",
     "shell.execute_reply": "2022-04-26T18:21:34.438514Z",
     "shell.execute_reply.started": "2022-04-06T21:17:46.049306Z"
    },
    "papermill": {
     "duration": 0.072898,
     "end_time": "2022-04-26T18:21:34.438669",
     "exception": false,
     "start_time": "2022-04-26T18:21:34.365771",
     "status": "completed"
    },
    "tags": []
   },
   "outputs": [],
   "source": [
    "# fig, ax = plt.subplots(figsize=(6,6))\n",
    "# ax.plot(grpbypos.loc[grpbypos['x']==0,'y'],grpbypos.loc[grpbypos['x']==0,'congestion'])\n",
    "# ax.plot(grpbypos.loc[grpbypos['x']==1,'y'],grpbypos.loc[grpbypos['x']==1,'congestion'])\n",
    "# ax.plot(grpbypos.loc[grpbypos['x']==2,'y'],grpbypos.loc[grpbypos['x']==2,'congestion'])"
   ]
  },
  {
   "cell_type": "code",
   "execution_count": 8,
   "id": "8b35122a",
   "metadata": {
    "execution": {
     "iopub.execute_input": "2022-04-26T18:21:34.575692Z",
     "iopub.status.busy": "2022-04-26T18:21:34.574916Z",
     "iopub.status.idle": "2022-04-26T18:21:34.577829Z",
     "shell.execute_reply": "2022-04-26T18:21:34.577320Z",
     "shell.execute_reply.started": "2022-04-06T21:17:46.056166Z"
    },
    "papermill": {
     "duration": 0.073563,
     "end_time": "2022-04-26T18:21:34.577978",
     "exception": false,
     "start_time": "2022-04-26T18:21:34.504415",
     "status": "completed"
    },
    "tags": []
   },
   "outputs": [],
   "source": [
    "# fig, ax = plt.subplots(figsize=(6, 6))\n",
    "# ax.scatter(X[''])\n",
    "# plt.scatter(X.index,X['congestion'].values)\n",
    "# colors = {'EB':'blue','NB':'orange','NE':'red','NW':'green','SB':'pink','SE':'brown','SW':'purple','WB':'black'}"
   ]
  },
  {
   "cell_type": "code",
   "execution_count": 9,
   "id": "b96daca3",
   "metadata": {
    "execution": {
     "iopub.execute_input": "2022-04-26T18:21:34.717994Z",
     "iopub.status.busy": "2022-04-26T18:21:34.716064Z",
     "iopub.status.idle": "2022-04-26T18:21:34.756713Z",
     "shell.execute_reply": "2022-04-26T18:21:34.756098Z",
     "shell.execute_reply.started": "2022-04-06T21:17:46.605699Z"
    },
    "papermill": {
     "duration": 0.113063,
     "end_time": "2022-04-26T18:21:34.756846",
     "exception": false,
     "start_time": "2022-04-26T18:21:34.643783",
     "status": "completed"
    },
    "tags": []
   },
   "outputs": [],
   "source": [
    "Y = train.pop('congestion')\n",
    "X = train.copy()"
   ]
  },
  {
   "cell_type": "code",
   "execution_count": 10,
   "id": "daed213c",
   "metadata": {
    "execution": {
     "iopub.execute_input": "2022-04-26T18:21:34.894092Z",
     "iopub.status.busy": "2022-04-26T18:21:34.893431Z",
     "iopub.status.idle": "2022-04-26T18:21:34.896067Z",
     "shell.execute_reply": "2022-04-26T18:21:34.895562Z",
     "shell.execute_reply.started": "2022-04-06T21:17:46.976236Z"
    },
    "papermill": {
     "duration": 0.072564,
     "end_time": "2022-04-26T18:21:34.896209",
     "exception": false,
     "start_time": "2022-04-26T18:21:34.823645",
     "status": "completed"
    },
    "tags": []
   },
   "outputs": [],
   "source": [
    "# sns.jointplot('x','y',train)"
   ]
  },
  {
   "cell_type": "code",
   "execution_count": 11,
   "id": "85cd0d19",
   "metadata": {
    "execution": {
     "iopub.execute_input": "2022-04-26T18:21:35.033066Z",
     "iopub.status.busy": "2022-04-26T18:21:35.032389Z",
     "iopub.status.idle": "2022-04-26T18:21:35.035115Z",
     "shell.execute_reply": "2022-04-26T18:21:35.034557Z",
     "shell.execute_reply.started": "2022-04-06T21:17:47.271889Z"
    },
    "papermill": {
     "duration": 0.072523,
     "end_time": "2022-04-26T18:21:35.035251",
     "exception": false,
     "start_time": "2022-04-26T18:21:34.962728",
     "status": "completed"
    },
    "tags": []
   },
   "outputs": [],
   "source": [
    "# sns.jointplot('x','y',grpbypos)"
   ]
  },
  {
   "cell_type": "code",
   "execution_count": 12,
   "id": "054b53c4",
   "metadata": {
    "execution": {
     "iopub.execute_input": "2022-04-26T18:21:35.172129Z",
     "iopub.status.busy": "2022-04-26T18:21:35.171483Z",
     "iopub.status.idle": "2022-04-26T18:21:35.173804Z",
     "shell.execute_reply": "2022-04-26T18:21:35.173318Z",
     "shell.execute_reply.started": "2022-04-06T21:17:47.668721Z"
    },
    "papermill": {
     "duration": 0.073083,
     "end_time": "2022-04-26T18:21:35.173940",
     "exception": false,
     "start_time": "2022-04-26T18:21:35.100857",
     "status": "completed"
    },
    "tags": []
   },
   "outputs": [],
   "source": [
    "# fig, ax = plt.subplots(figsize=(6, 6))\n",
    "# ax.scatter(X['time'], X['congestion'], c=X['direction'].map(colors).values)\n",
    "# X['direction'].map(colors).values\n",
    "# X['congestion']"
   ]
  },
  {
   "cell_type": "code",
   "execution_count": 13,
   "id": "7541128e",
   "metadata": {
    "execution": {
     "iopub.execute_input": "2022-04-26T18:21:35.307665Z",
     "iopub.status.busy": "2022-04-26T18:21:35.307040Z",
     "iopub.status.idle": "2022-04-26T18:21:35.309811Z",
     "shell.execute_reply": "2022-04-26T18:21:35.310302Z",
     "shell.execute_reply.started": "2022-04-06T21:17:48.613201Z"
    },
    "papermill": {
     "duration": 0.071203,
     "end_time": "2022-04-26T18:21:35.310464",
     "exception": false,
     "start_time": "2022-04-26T18:21:35.239261",
     "status": "completed"
    },
    "tags": []
   },
   "outputs": [],
   "source": [
    "# from matplotlib import dates\n",
    "# X['datenum'] = dates.datestr2num(X['time'])\n",
    "# X"
   ]
  },
  {
   "cell_type": "code",
   "execution_count": 14,
   "id": "6d7a89a6",
   "metadata": {
    "execution": {
     "iopub.execute_input": "2022-04-26T18:21:35.443897Z",
     "iopub.status.busy": "2022-04-26T18:21:35.443296Z",
     "iopub.status.idle": "2022-04-26T18:21:35.446076Z",
     "shell.execute_reply": "2022-04-26T18:21:35.446553Z",
     "shell.execute_reply.started": "2022-04-06T21:17:55.328446Z"
    },
    "papermill": {
     "duration": 0.070935,
     "end_time": "2022-04-26T18:21:35.446716",
     "exception": false,
     "start_time": "2022-04-26T18:21:35.375781",
     "status": "completed"
    },
    "tags": []
   },
   "outputs": [],
   "source": [
    "# X.groupby(['datenum','direction']).sum()"
   ]
  },
  {
   "cell_type": "code",
   "execution_count": 15,
   "id": "f33c41d0",
   "metadata": {
    "execution": {
     "iopub.execute_input": "2022-04-26T18:21:35.581244Z",
     "iopub.status.busy": "2022-04-26T18:21:35.580608Z",
     "iopub.status.idle": "2022-04-26T18:21:35.583518Z",
     "shell.execute_reply": "2022-04-26T18:21:35.583993Z",
     "shell.execute_reply.started": "2022-04-06T21:17:57.293756Z"
    },
    "papermill": {
     "duration": 0.071642,
     "end_time": "2022-04-26T18:21:35.584149",
     "exception": false,
     "start_time": "2022-04-26T18:21:35.512507",
     "status": "completed"
    },
    "tags": []
   },
   "outputs": [],
   "source": [
    "# import seaborn as sns\n",
    "# # {'EB':'blue','NB':'orange','NE':'red','NW':'green','SB':'pink','SE':'brown','SW':'purple','WB':'black'}\n",
    "# sns.lmplot(x='datenum',y='congestion',data=X[X['direction']=='EB'],hue='direction')"
   ]
  },
  {
   "cell_type": "code",
   "execution_count": 16,
   "id": "1be1e65b",
   "metadata": {
    "execution": {
     "iopub.execute_input": "2022-04-26T18:21:35.718810Z",
     "iopub.status.busy": "2022-04-26T18:21:35.718159Z",
     "iopub.status.idle": "2022-04-26T18:21:35.721307Z",
     "shell.execute_reply": "2022-04-26T18:21:35.721740Z",
     "shell.execute_reply.started": "2022-04-06T21:17:58.191835Z"
    },
    "papermill": {
     "duration": 0.072149,
     "end_time": "2022-04-26T18:21:35.721906",
     "exception": false,
     "start_time": "2022-04-26T18:21:35.649757",
     "status": "completed"
    },
    "tags": []
   },
   "outputs": [],
   "source": [
    "# {'EB':'blue','NB':'orange','NE':'red','NW':'green','SB':'pink','SE':'brown','SW':'purple','WB':'black'}\n",
    "# sns.lmplot(x='datenum',y='congestion',data=X[X['direction']=='EB'],hue='direction')\n",
    "# sns.lmplot(x='datenum',y='congestion',data=X[X['direction']=='NB'],hue='direction')\n",
    "# sns.lmplot(x='datenum',y='congestion',data=X[X['direction']=='NE'],hue='direction')\n",
    "# sns.lmplot(x='datenum',y='congestion',data=X[X['direction']=='NW'],hue='direction')\n",
    "# sns.lmplot(x='datenum',y='congestion',data=X[X['direction']=='SB'],hue='direction')\n",
    "# sns.lmplot(x='datenum',y='congestion',data=X[X['direction']=='SE'],hue='direction')\n",
    "# sns.lmplot(x='datenum',y='congestion',data=X[X['direction']=='SW'],hue='direction')\n",
    "# sns.lmplot(x='datenum',y='congestion',data=X[X['direction']=='WB'],hue='direction')"
   ]
  },
  {
   "cell_type": "code",
   "execution_count": 17,
   "id": "8d3237b5",
   "metadata": {
    "execution": {
     "iopub.execute_input": "2022-04-26T18:21:35.856560Z",
     "iopub.status.busy": "2022-04-26T18:21:35.855883Z",
     "iopub.status.idle": "2022-04-26T18:21:35.858778Z",
     "shell.execute_reply": "2022-04-26T18:21:35.859244Z",
     "shell.execute_reply.started": "2022-04-06T21:18:00.255121Z"
    },
    "papermill": {
     "duration": 0.072162,
     "end_time": "2022-04-26T18:21:35.859423",
     "exception": false,
     "start_time": "2022-04-26T18:21:35.787261",
     "status": "completed"
    },
    "tags": []
   },
   "outputs": [],
   "source": [
    "# sns.lmplot(x='x',y='y',data=train.groupby(['x','y']).sum().reset_index())"
   ]
  },
  {
   "cell_type": "code",
   "execution_count": null,
   "id": "13eb7428",
   "metadata": {
    "papermill": {
     "duration": 0.065883,
     "end_time": "2022-04-26T18:21:35.992075",
     "exception": false,
     "start_time": "2022-04-26T18:21:35.926192",
     "status": "completed"
    },
    "tags": []
   },
   "outputs": [],
   "source": []
  },
  {
   "cell_type": "code",
   "execution_count": 18,
   "id": "1817fb43",
   "metadata": {
    "execution": {
     "iopub.execute_input": "2022-04-26T18:21:36.131222Z",
     "iopub.status.busy": "2022-04-26T18:21:36.130470Z",
     "iopub.status.idle": "2022-04-26T18:21:36.133256Z",
     "shell.execute_reply": "2022-04-26T18:21:36.132612Z",
     "shell.execute_reply.started": "2022-04-06T21:18:04.724018Z"
    },
    "papermill": {
     "duration": 0.074188,
     "end_time": "2022-04-26T18:21:36.133393",
     "exception": false,
     "start_time": "2022-04-26T18:21:36.059205",
     "status": "completed"
    },
    "tags": []
   },
   "outputs": [],
   "source": [
    "# from sklearn.feature_selection import SelectKBest\n",
    "# from sklearn.feature_selection import f_regression\n",
    "\n",
    "# def select_features(X_train, y_train):\n",
    "#     fs = SelectKBest(score_func=f_regression, k='all')\n",
    "#     fs.fit(X_train, y_train)\n",
    "#     X_train_fs = fs.transform(X_train)\n",
    "# #     X_test_fs = fs.transform(X_test)\n",
    "#     return X_train_fs, fs\n",
    " "
   ]
  },
  {
   "cell_type": "code",
   "execution_count": 19,
   "id": "51ce76d2",
   "metadata": {
    "execution": {
     "iopub.execute_input": "2022-04-26T18:21:36.268599Z",
     "iopub.status.busy": "2022-04-26T18:21:36.268005Z",
     "iopub.status.idle": "2022-04-26T18:21:36.269725Z",
     "shell.execute_reply": "2022-04-26T18:21:36.270302Z",
     "shell.execute_reply.started": "2022-04-06T21:18:07.451306Z"
    },
    "papermill": {
     "duration": 0.071674,
     "end_time": "2022-04-26T18:21:36.270459",
     "exception": false,
     "start_time": "2022-04-26T18:21:36.198785",
     "status": "completed"
    },
    "tags": []
   },
   "outputs": [],
   "source": [
    "# from sklearn.preprocessing import StandardScaler\n",
    "# scaler = StandardScaler()\n",
    "# scaled_train = scaler.fit_transform(train.drop(columns=['time','direction']))"
   ]
  },
  {
   "cell_type": "code",
   "execution_count": 20,
   "id": "df1a88f3",
   "metadata": {
    "execution": {
     "iopub.execute_input": "2022-04-26T18:21:36.403655Z",
     "iopub.status.busy": "2022-04-26T18:21:36.403044Z",
     "iopub.status.idle": "2022-04-26T18:21:36.405688Z",
     "shell.execute_reply": "2022-04-26T18:21:36.406210Z",
     "shell.execute_reply.started": "2022-04-06T21:18:10.691759Z"
    },
    "papermill": {
     "duration": 0.070697,
     "end_time": "2022-04-26T18:21:36.406377",
     "exception": false,
     "start_time": "2022-04-26T18:21:36.335680",
     "status": "completed"
    },
    "tags": []
   },
   "outputs": [],
   "source": [
    "# train.loc[:,'x']=scaled_train[:,0]\n",
    "# train.loc[:,'y']=scaled_train[:,1]\n",
    "# train.loc[:,'congestion']=scaled_train[:,2]\n",
    "# train"
   ]
  },
  {
   "cell_type": "code",
   "execution_count": 21,
   "id": "6a5cacd0",
   "metadata": {
    "execution": {
     "iopub.execute_input": "2022-04-26T18:21:36.542365Z",
     "iopub.status.busy": "2022-04-26T18:21:36.541725Z",
     "iopub.status.idle": "2022-04-26T18:21:36.544396Z",
     "shell.execute_reply": "2022-04-26T18:21:36.544859Z",
     "shell.execute_reply.started": "2022-04-06T21:18:34.898289Z"
    },
    "papermill": {
     "duration": 0.072056,
     "end_time": "2022-04-26T18:21:36.545039",
     "exception": false,
     "start_time": "2022-04-26T18:21:36.472983",
     "status": "completed"
    },
    "tags": []
   },
   "outputs": [],
   "source": [
    "# sc = StandardScaler()\n",
    "# scaled_test = sc.fit_transform(test.drop(columns=['time','direction']))\n",
    "# test.loc[:,'x']=scaled_test[:,0]\n",
    "# test.loc[:,'y']=scaled_test[:,1]\n",
    "# test"
   ]
  },
  {
   "cell_type": "code",
   "execution_count": 22,
   "id": "55291560",
   "metadata": {
    "execution": {
     "iopub.execute_input": "2022-04-26T18:21:36.682250Z",
     "iopub.status.busy": "2022-04-26T18:21:36.681608Z",
     "iopub.status.idle": "2022-04-26T18:21:36.684872Z",
     "shell.execute_reply": "2022-04-26T18:21:36.685441Z",
     "shell.execute_reply.started": "2022-04-06T21:18:37.254755Z"
    },
    "papermill": {
     "duration": 0.075126,
     "end_time": "2022-04-26T18:21:36.685615",
     "exception": false,
     "start_time": "2022-04-26T18:21:36.610489",
     "status": "completed"
    },
    "tags": []
   },
   "outputs": [],
   "source": [
    "# print(train.loc[65:,'congestion'].values)\n",
    "# print(lag['lag_1'].dropna().values)\n",
    "# print(len(lag))\n",
    "# X_ = train\n",
    "# X_"
   ]
  },
  {
   "cell_type": "code",
   "execution_count": 23,
   "id": "798a479c",
   "metadata": {
    "execution": {
     "iopub.execute_input": "2022-04-26T18:21:36.823900Z",
     "iopub.status.busy": "2022-04-26T18:21:36.823280Z",
     "iopub.status.idle": "2022-04-26T18:21:36.825212Z",
     "shell.execute_reply": "2022-04-26T18:21:36.825694Z",
     "shell.execute_reply.started": "2022-04-06T21:18:42.888822Z"
    },
    "papermill": {
     "duration": 0.072935,
     "end_time": "2022-04-26T18:21:36.825854",
     "exception": false,
     "start_time": "2022-04-26T18:21:36.752919",
     "status": "completed"
    },
    "tags": []
   },
   "outputs": [],
   "source": [
    "# X_['time'].unique()"
   ]
  },
  {
   "cell_type": "code",
   "execution_count": 24,
   "id": "31455546",
   "metadata": {
    "execution": {
     "iopub.execute_input": "2022-04-26T18:21:36.963603Z",
     "iopub.status.busy": "2022-04-26T18:21:36.962762Z",
     "iopub.status.idle": "2022-04-26T18:21:36.965888Z",
     "shell.execute_reply": "2022-04-26T18:21:36.965386Z",
     "shell.execute_reply.started": "2022-04-06T21:18:46.121771Z"
    },
    "papermill": {
     "duration": 0.074489,
     "end_time": "2022-04-26T18:21:36.966048",
     "exception": false,
     "start_time": "2022-04-26T18:21:36.891559",
     "status": "completed"
    },
    "tags": []
   },
   "outputs": [],
   "source": [
    "# def make_lags(df,lags):\n",
    "#     return pd.concat({\n",
    "#         f'lag_{i}':df['congestion'].shift(i*65)\n",
    "#         for i in range(1, lags+1)\n",
    "#     },\n",
    "#     axis=1\n",
    "#     )"
   ]
  },
  {
   "cell_type": "code",
   "execution_count": 25,
   "id": "c84cbef2",
   "metadata": {
    "execution": {
     "iopub.execute_input": "2022-04-26T18:21:37.102814Z",
     "iopub.status.busy": "2022-04-26T18:21:37.101749Z",
     "iopub.status.idle": "2022-04-26T18:21:37.104599Z",
     "shell.execute_reply": "2022-04-26T18:21:37.104050Z",
     "shell.execute_reply.started": "2022-04-06T21:18:50.355918Z"
    },
    "papermill": {
     "duration": 0.072459,
     "end_time": "2022-04-26T18:21:37.104737",
     "exception": false,
     "start_time": "2022-04-26T18:21:37.032278",
     "status": "completed"
    },
    "tags": []
   },
   "outputs": [],
   "source": [
    "# lags = make_lags(X_,10)\n",
    "# lags"
   ]
  },
  {
   "cell_type": "code",
   "execution_count": 26,
   "id": "d49d65d5",
   "metadata": {
    "execution": {
     "iopub.execute_input": "2022-04-26T18:21:37.241174Z",
     "iopub.status.busy": "2022-04-26T18:21:37.240457Z",
     "iopub.status.idle": "2022-04-26T18:21:37.243098Z",
     "shell.execute_reply": "2022-04-26T18:21:37.242487Z",
     "shell.execute_reply.started": "2022-04-06T21:18:55.231087Z"
    },
    "papermill": {
     "duration": 0.072198,
     "end_time": "2022-04-26T18:21:37.243243",
     "exception": false,
     "start_time": "2022-04-26T18:21:37.171045",
     "status": "completed"
    },
    "tags": []
   },
   "outputs": [],
   "source": [
    "# X = pd.concat([X_,lags],axis=1)\n",
    "# X"
   ]
  },
  {
   "cell_type": "code",
   "execution_count": 27,
   "id": "f3edfa70",
   "metadata": {
    "execution": {
     "iopub.execute_input": "2022-04-26T18:21:37.380651Z",
     "iopub.status.busy": "2022-04-26T18:21:37.379912Z",
     "iopub.status.idle": "2022-04-26T18:21:37.382215Z",
     "shell.execute_reply": "2022-04-26T18:21:37.382656Z",
     "shell.execute_reply.started": "2022-04-06T21:19:00.171119Z"
    },
    "papermill": {
     "duration": 0.071662,
     "end_time": "2022-04-26T18:21:37.382821",
     "exception": false,
     "start_time": "2022-04-26T18:21:37.311159",
     "status": "completed"
    },
    "tags": []
   },
   "outputs": [],
   "source": [
    "# train = X.iloc[:848835]\n",
    "# test = X.iloc[848835:]"
   ]
  },
  {
   "cell_type": "code",
   "execution_count": 28,
   "id": "1bbc37a6",
   "metadata": {
    "execution": {
     "iopub.execute_input": "2022-04-26T18:21:37.517708Z",
     "iopub.status.busy": "2022-04-26T18:21:37.516942Z",
     "iopub.status.idle": "2022-04-26T18:21:37.520221Z",
     "shell.execute_reply": "2022-04-26T18:21:37.519607Z",
     "shell.execute_reply.started": "2022-04-06T21:19:03.047993Z"
    },
    "papermill": {
     "duration": 0.072129,
     "end_time": "2022-04-26T18:21:37.520354",
     "exception": false,
     "start_time": "2022-04-26T18:21:37.448225",
     "status": "completed"
    },
    "tags": []
   },
   "outputs": [],
   "source": [
    "# test"
   ]
  },
  {
   "cell_type": "code",
   "execution_count": 29,
   "id": "4653fa29",
   "metadata": {
    "execution": {
     "iopub.execute_input": "2022-04-26T18:21:37.656696Z",
     "iopub.status.busy": "2022-04-26T18:21:37.656020Z",
     "iopub.status.idle": "2022-04-26T18:21:37.657809Z",
     "shell.execute_reply": "2022-04-26T18:21:37.658383Z",
     "shell.execute_reply.started": "2022-04-06T21:19:06.596983Z"
    },
    "papermill": {
     "duration": 0.07136,
     "end_time": "2022-04-26T18:21:37.658562",
     "exception": false,
     "start_time": "2022-04-26T18:21:37.587202",
     "status": "completed"
    },
    "tags": []
   },
   "outputs": [],
   "source": [
    "# train.loc[:,'congestion'] = scaler.inverse_transform(train[['x','y','congestion']])[:,2]\n",
    "# train"
   ]
  },
  {
   "cell_type": "code",
   "execution_count": 30,
   "id": "6694fe07",
   "metadata": {
    "execution": {
     "iopub.execute_input": "2022-04-26T18:21:37.794282Z",
     "iopub.status.busy": "2022-04-26T18:21:37.793606Z",
     "iopub.status.idle": "2022-04-26T18:21:37.796408Z",
     "shell.execute_reply": "2022-04-26T18:21:37.797024Z",
     "shell.execute_reply.started": "2022-04-06T21:19:10.67007Z"
    },
    "papermill": {
     "duration": 0.07292,
     "end_time": "2022-04-26T18:21:37.797192",
     "exception": false,
     "start_time": "2022-04-26T18:21:37.724272",
     "status": "completed"
    },
    "tags": []
   },
   "outputs": [],
   "source": [
    "# train = train.dropna()\n",
    "# train = train.drop(columns=['time'])\n",
    "# train"
   ]
  },
  {
   "cell_type": "code",
   "execution_count": 31,
   "id": "fff24509",
   "metadata": {
    "execution": {
     "iopub.execute_input": "2022-04-26T18:21:37.934231Z",
     "iopub.status.busy": "2022-04-26T18:21:37.932875Z",
     "iopub.status.idle": "2022-04-26T18:21:37.936378Z",
     "shell.execute_reply": "2022-04-26T18:21:37.936936Z",
     "shell.execute_reply.started": "2022-04-06T21:19:13.394645Z"
    },
    "papermill": {
     "duration": 0.073137,
     "end_time": "2022-04-26T18:21:37.937129",
     "exception": false,
     "start_time": "2022-04-26T18:21:37.863992",
     "status": "completed"
    },
    "tags": []
   },
   "outputs": [],
   "source": [
    "# test = test.drop(columns=['time','congestion'])\n",
    "# test"
   ]
  },
  {
   "cell_type": "code",
   "execution_count": 32,
   "id": "ae655cbe",
   "metadata": {
    "execution": {
     "iopub.execute_input": "2022-04-26T18:21:38.071895Z",
     "iopub.status.busy": "2022-04-26T18:21:38.071257Z",
     "iopub.status.idle": "2022-04-26T18:21:38.073561Z",
     "shell.execute_reply": "2022-04-26T18:21:38.074095Z",
     "shell.execute_reply.started": "2022-04-06T21:19:23.020317Z"
    },
    "papermill": {
     "duration": 0.071522,
     "end_time": "2022-04-26T18:21:38.074254",
     "exception": false,
     "start_time": "2022-04-26T18:21:38.002732",
     "status": "completed"
    },
    "tags": []
   },
   "outputs": [],
   "source": [
    "# X_train_fs, fs = select_features(train.drop(columns=['congestion','direction']),train['congestion'])"
   ]
  },
  {
   "cell_type": "code",
   "execution_count": 33,
   "id": "e68440e3",
   "metadata": {
    "execution": {
     "iopub.execute_input": "2022-04-26T18:21:38.209381Z",
     "iopub.status.busy": "2022-04-26T18:21:38.208650Z",
     "iopub.status.idle": "2022-04-26T18:21:38.210896Z",
     "shell.execute_reply": "2022-04-26T18:21:38.210379Z",
     "shell.execute_reply.started": "2022-04-06T21:19:27.919474Z"
    },
    "papermill": {
     "duration": 0.071467,
     "end_time": "2022-04-26T18:21:38.211047",
     "exception": false,
     "start_time": "2022-04-26T18:21:38.139580",
     "status": "completed"
    },
    "tags": []
   },
   "outputs": [],
   "source": [
    "# fs.scores_\n",
    "# train = pd.get_dummies(train,columns=['direction'],prefix='direction')"
   ]
  },
  {
   "cell_type": "code",
   "execution_count": null,
   "id": "4e6f86ac",
   "metadata": {
    "papermill": {
     "duration": 0.065123,
     "end_time": "2022-04-26T18:21:38.341741",
     "exception": false,
     "start_time": "2022-04-26T18:21:38.276618",
     "status": "completed"
    },
    "tags": []
   },
   "outputs": [],
   "source": []
  },
  {
   "cell_type": "code",
   "execution_count": 34,
   "id": "a56ddf0b",
   "metadata": {
    "execution": {
     "iopub.execute_input": "2022-04-26T18:21:38.475841Z",
     "iopub.status.busy": "2022-04-26T18:21:38.475235Z",
     "iopub.status.idle": "2022-04-26T18:21:38.477998Z",
     "shell.execute_reply": "2022-04-26T18:21:38.478497Z",
     "shell.execute_reply.started": "2022-04-06T21:19:33.103857Z"
    },
    "papermill": {
     "duration": 0.071389,
     "end_time": "2022-04-26T18:21:38.478670",
     "exception": false,
     "start_time": "2022-04-26T18:21:38.407281",
     "status": "completed"
    },
    "tags": []
   },
   "outputs": [],
   "source": [
    "# X = train.copy()\n",
    "# y = X.pop('congestion')\n",
    "\n",
    "# X_encode = X.sample(frac=0.25)\n",
    "# y_encode = y[X_encode.index]\n",
    "# X_pretrain = X.drop(X_encode.index)\n",
    "# y_train = y[X_pretrain.index]"
   ]
  },
  {
   "cell_type": "code",
   "execution_count": 35,
   "id": "2d4e9a1b",
   "metadata": {
    "execution": {
     "iopub.execute_input": "2022-04-26T18:21:38.612657Z",
     "iopub.status.busy": "2022-04-26T18:21:38.612032Z",
     "iopub.status.idle": "2022-04-26T18:21:38.614938Z",
     "shell.execute_reply": "2022-04-26T18:21:38.615442Z",
     "shell.execute_reply.started": "2022-04-06T21:19:38.541691Z"
    },
    "papermill": {
     "duration": 0.071628,
     "end_time": "2022-04-26T18:21:38.615624",
     "exception": false,
     "start_time": "2022-04-26T18:21:38.543996",
     "status": "completed"
    },
    "tags": []
   },
   "outputs": [],
   "source": [
    "# from category_encoders import MEstimateEncoder\n",
    "# encoder = MEstimateEncoder(cols=[\"direction\"], m=5.0)\n",
    "# encoder.fit(X_encode, y_encode)\n",
    "# X_train = encoder.transform(X_pretrain)"
   ]
  },
  {
   "cell_type": "code",
   "execution_count": 36,
   "id": "dcc2ab3b",
   "metadata": {
    "execution": {
     "iopub.execute_input": "2022-04-26T18:21:38.754382Z",
     "iopub.status.busy": "2022-04-26T18:21:38.753680Z",
     "iopub.status.idle": "2022-04-26T18:21:38.756696Z",
     "shell.execute_reply": "2022-04-26T18:21:38.757213Z",
     "shell.execute_reply.started": "2022-04-06T21:19:40.701973Z"
    },
    "papermill": {
     "duration": 0.073161,
     "end_time": "2022-04-26T18:21:38.757384",
     "exception": false,
     "start_time": "2022-04-26T18:21:38.684223",
     "status": "completed"
    },
    "tags": []
   },
   "outputs": [],
   "source": [
    "# X_train['direction'].unique()"
   ]
  },
  {
   "cell_type": "code",
   "execution_count": 37,
   "id": "3f033f4b",
   "metadata": {
    "execution": {
     "iopub.execute_input": "2022-04-26T18:21:38.891315Z",
     "iopub.status.busy": "2022-04-26T18:21:38.890661Z",
     "iopub.status.idle": "2022-04-26T18:21:38.894697Z",
     "shell.execute_reply": "2022-04-26T18:21:38.894079Z",
     "shell.execute_reply.started": "2022-04-06T21:19:42.449023Z"
    },
    "papermill": {
     "duration": 0.07165,
     "end_time": "2022-04-26T18:21:38.894828",
     "exception": false,
     "start_time": "2022-04-26T18:21:38.823178",
     "status": "completed"
    },
    "tags": []
   },
   "outputs": [],
   "source": [
    "# plt.scatter(lag['lag_10'].dropna().values,train.loc[650:,'congestion'].values)\n",
    "# train = pd.get_dummies(train,columns=['direction'],prefix='direction')\n",
    "# test = pd.get_dummies(test,columns=['direction'],prefix='direction')"
   ]
  },
  {
   "cell_type": "code",
   "execution_count": 38,
   "id": "3fcff9f5",
   "metadata": {
    "execution": {
     "iopub.execute_input": "2022-04-26T18:21:39.032763Z",
     "iopub.status.busy": "2022-04-26T18:21:39.031903Z",
     "iopub.status.idle": "2022-04-26T18:21:39.034513Z",
     "shell.execute_reply": "2022-04-26T18:21:39.033864Z",
     "shell.execute_reply.started": "2022-04-06T19:35:30.881841Z"
    },
    "papermill": {
     "duration": 0.072543,
     "end_time": "2022-04-26T18:21:39.034651",
     "exception": false,
     "start_time": "2022-04-26T18:21:38.962108",
     "status": "completed"
    },
    "tags": []
   },
   "outputs": [],
   "source": [
    "# pd.concat([train,lag],axis=0)\n",
    "# train"
   ]
  },
  {
   "cell_type": "code",
   "execution_count": 39,
   "id": "1e402be8",
   "metadata": {
    "execution": {
     "iopub.execute_input": "2022-04-26T18:21:39.171694Z",
     "iopub.status.busy": "2022-04-26T18:21:39.171020Z",
     "iopub.status.idle": "2022-04-26T18:21:39.173566Z",
     "shell.execute_reply": "2022-04-26T18:21:39.174040Z",
     "shell.execute_reply.started": "2022-04-06T19:35:32.937738Z"
    },
    "papermill": {
     "duration": 0.072837,
     "end_time": "2022-04-26T18:21:39.174216",
     "exception": false,
     "start_time": "2022-04-26T18:21:39.101379",
     "status": "completed"
    },
    "tags": []
   },
   "outputs": [],
   "source": [
    "# X = pd.concat([train,lag],axis=1).drop(columns=['time'])"
   ]
  },
  {
   "cell_type": "code",
   "execution_count": 40,
   "id": "3f92ca93",
   "metadata": {
    "execution": {
     "iopub.execute_input": "2022-04-26T18:21:39.310729Z",
     "iopub.status.busy": "2022-04-26T18:21:39.309969Z",
     "iopub.status.idle": "2022-04-26T18:21:39.312602Z",
     "shell.execute_reply": "2022-04-26T18:21:39.312074Z",
     "shell.execute_reply.started": "2022-04-06T19:35:34.925303Z"
    },
    "papermill": {
     "duration": 0.072014,
     "end_time": "2022-04-26T18:21:39.312734",
     "exception": false,
     "start_time": "2022-04-26T18:21:39.240720",
     "status": "completed"
    },
    "tags": []
   },
   "outputs": [],
   "source": [
    "# X = train.dropna()\n",
    "# Y = X.pop('congestion')"
   ]
  },
  {
   "cell_type": "code",
   "execution_count": 41,
   "id": "96cb4b21",
   "metadata": {
    "execution": {
     "iopub.execute_input": "2022-04-26T18:21:39.452668Z",
     "iopub.status.busy": "2022-04-26T18:21:39.451652Z",
     "iopub.status.idle": "2022-04-26T18:21:39.453594Z",
     "shell.execute_reply": "2022-04-26T18:21:39.454185Z",
     "shell.execute_reply.started": "2022-04-06T19:35:36.977157Z"
    },
    "papermill": {
     "duration": 0.075095,
     "end_time": "2022-04-26T18:21:39.454347",
     "exception": false,
     "start_time": "2022-04-26T18:21:39.379252",
     "status": "completed"
    },
    "tags": []
   },
   "outputs": [],
   "source": [
    "# train = X\n",
    "# X"
   ]
  },
  {
   "cell_type": "code",
   "execution_count": 42,
   "id": "05218f48",
   "metadata": {
    "execution": {
     "iopub.execute_input": "2022-04-26T18:21:39.591135Z",
     "iopub.status.busy": "2022-04-26T18:21:39.590180Z",
     "iopub.status.idle": "2022-04-26T18:21:39.592440Z",
     "shell.execute_reply": "2022-04-26T18:21:39.593035Z",
     "shell.execute_reply.started": "2022-04-06T19:35:38.813081Z"
    },
    "papermill": {
     "duration": 0.072749,
     "end_time": "2022-04-26T18:21:39.593200",
     "exception": false,
     "start_time": "2022-04-26T18:21:39.520451",
     "status": "completed"
    },
    "tags": []
   },
   "outputs": [],
   "source": [
    "# X = encoder.transform(X)"
   ]
  },
  {
   "cell_type": "code",
   "execution_count": 43,
   "id": "970146e7",
   "metadata": {
    "execution": {
     "iopub.execute_input": "2022-04-26T18:21:39.752994Z",
     "iopub.status.busy": "2022-04-26T18:21:39.750813Z",
     "iopub.status.idle": "2022-04-26T18:21:40.024246Z",
     "shell.execute_reply": "2022-04-26T18:21:40.023629Z",
     "shell.execute_reply.started": "2022-04-06T21:19:54.850435Z"
    },
    "papermill": {
     "duration": 0.359812,
     "end_time": "2022-04-26T18:21:40.024385",
     "exception": false,
     "start_time": "2022-04-26T18:21:39.664573",
     "status": "completed"
    },
    "tags": []
   },
   "outputs": [],
   "source": [
    "import xgboost as xg\n",
    "from sklearn.model_selection import train_test_split, GridSearchCV\n",
    "from sklearn.metrics import mean_squared_error as MSE\n",
    "from sklearn.metrics import mean_absolute_error"
   ]
  },
  {
   "cell_type": "code",
   "execution_count": 44,
   "id": "8b8543b9",
   "metadata": {
    "execution": {
     "iopub.execute_input": "2022-04-26T18:21:40.162303Z",
     "iopub.status.busy": "2022-04-26T18:21:40.161355Z",
     "iopub.status.idle": "2022-04-26T18:21:40.342148Z",
     "shell.execute_reply": "2022-04-26T18:21:40.341585Z",
     "shell.execute_reply.started": "2022-04-06T21:20:00.207158Z"
    },
    "papermill": {
     "duration": 0.252009,
     "end_time": "2022-04-26T18:21:40.342294",
     "exception": false,
     "start_time": "2022-04-26T18:21:40.090285",
     "status": "completed"
    },
    "tags": []
   },
   "outputs": [],
   "source": [
    "train_X, test_X, train_y, test_y = train_test_split(X, Y,\n",
    "                      test_size = 0.3, random_state = 123)"
   ]
  },
  {
   "cell_type": "code",
   "execution_count": 45,
   "id": "3b0ce544",
   "metadata": {
    "execution": {
     "iopub.execute_input": "2022-04-26T18:21:40.489540Z",
     "iopub.status.busy": "2022-04-26T18:21:40.488598Z",
     "iopub.status.idle": "2022-04-26T18:21:40.492866Z",
     "shell.execute_reply": "2022-04-26T18:21:40.492306Z",
     "shell.execute_reply.started": "2022-04-06T21:20:04.251846Z"
    },
    "papermill": {
     "duration": 0.08486,
     "end_time": "2022-04-26T18:21:40.493026",
     "exception": false,
     "start_time": "2022-04-26T18:21:40.408166",
     "status": "completed"
    },
    "tags": []
   },
   "outputs": [
    {
     "data": {
      "text/html": [
       "<div>\n",
       "<style scoped>\n",
       "    .dataframe tbody tr th:only-of-type {\n",
       "        vertical-align: middle;\n",
       "    }\n",
       "\n",
       "    .dataframe tbody tr th {\n",
       "        vertical-align: top;\n",
       "    }\n",
       "\n",
       "    .dataframe thead th {\n",
       "        text-align: right;\n",
       "    }\n",
       "</style>\n",
       "<table border=\"1\" class=\"dataframe\">\n",
       "  <thead>\n",
       "    <tr style=\"text-align: right;\">\n",
       "      <th></th>\n",
       "      <th>x</th>\n",
       "      <th>y</th>\n",
       "      <th>weekday</th>\n",
       "      <th>hour</th>\n",
       "      <th>minute</th>\n",
       "      <th>direction_EB</th>\n",
       "      <th>direction_NB</th>\n",
       "      <th>direction_NE</th>\n",
       "      <th>direction_NW</th>\n",
       "      <th>direction_SB</th>\n",
       "      <th>direction_SE</th>\n",
       "      <th>direction_SW</th>\n",
       "      <th>direction_WB</th>\n",
       "    </tr>\n",
       "    <tr>\n",
       "      <th>row_id</th>\n",
       "      <th></th>\n",
       "      <th></th>\n",
       "      <th></th>\n",
       "      <th></th>\n",
       "      <th></th>\n",
       "      <th></th>\n",
       "      <th></th>\n",
       "      <th></th>\n",
       "      <th></th>\n",
       "      <th></th>\n",
       "      <th></th>\n",
       "      <th></th>\n",
       "      <th></th>\n",
       "    </tr>\n",
       "  </thead>\n",
       "  <tbody>\n",
       "    <tr>\n",
       "      <th>744862</th>\n",
       "      <td>1</td>\n",
       "      <td>2</td>\n",
       "      <td>5</td>\n",
       "      <td>18</td>\n",
       "      <td>40</td>\n",
       "      <td>1</td>\n",
       "      <td>0</td>\n",
       "      <td>0</td>\n",
       "      <td>0</td>\n",
       "      <td>0</td>\n",
       "      <td>0</td>\n",
       "      <td>0</td>\n",
       "      <td>0</td>\n",
       "    </tr>\n",
       "    <tr>\n",
       "      <th>164502</th>\n",
       "      <td>2</td>\n",
       "      <td>2</td>\n",
       "      <td>0</td>\n",
       "      <td>8</td>\n",
       "      <td>0</td>\n",
       "      <td>0</td>\n",
       "      <td>1</td>\n",
       "      <td>0</td>\n",
       "      <td>0</td>\n",
       "      <td>0</td>\n",
       "      <td>0</td>\n",
       "      <td>0</td>\n",
       "      <td>0</td>\n",
       "    </tr>\n",
       "    <tr>\n",
       "      <th>686089</th>\n",
       "      <td>0</td>\n",
       "      <td>3</td>\n",
       "      <td>0</td>\n",
       "      <td>0</td>\n",
       "      <td>40</td>\n",
       "      <td>0</td>\n",
       "      <td>0</td>\n",
       "      <td>0</td>\n",
       "      <td>0</td>\n",
       "      <td>1</td>\n",
       "      <td>0</td>\n",
       "      <td>0</td>\n",
       "      <td>0</td>\n",
       "    </tr>\n",
       "    <tr>\n",
       "      <th>197179</th>\n",
       "      <td>1</td>\n",
       "      <td>3</td>\n",
       "      <td>0</td>\n",
       "      <td>7</td>\n",
       "      <td>40</td>\n",
       "      <td>0</td>\n",
       "      <td>1</td>\n",
       "      <td>0</td>\n",
       "      <td>0</td>\n",
       "      <td>0</td>\n",
       "      <td>0</td>\n",
       "      <td>0</td>\n",
       "      <td>0</td>\n",
       "    </tr>\n",
       "    <tr>\n",
       "      <th>615470</th>\n",
       "      <td>2</td>\n",
       "      <td>1</td>\n",
       "      <td>5</td>\n",
       "      <td>20</td>\n",
       "      <td>20</td>\n",
       "      <td>0</td>\n",
       "      <td>0</td>\n",
       "      <td>0</td>\n",
       "      <td>0</td>\n",
       "      <td>0</td>\n",
       "      <td>0</td>\n",
       "      <td>0</td>\n",
       "      <td>1</td>\n",
       "    </tr>\n",
       "    <tr>\n",
       "      <th>...</th>\n",
       "      <td>...</td>\n",
       "      <td>...</td>\n",
       "      <td>...</td>\n",
       "      <td>...</td>\n",
       "      <td>...</td>\n",
       "      <td>...</td>\n",
       "      <td>...</td>\n",
       "      <td>...</td>\n",
       "      <td>...</td>\n",
       "      <td>...</td>\n",
       "      <td>...</td>\n",
       "      <td>...</td>\n",
       "      <td>...</td>\n",
       "    </tr>\n",
       "    <tr>\n",
       "      <th>315369</th>\n",
       "      <td>2</td>\n",
       "      <td>2</td>\n",
       "      <td>4</td>\n",
       "      <td>14</td>\n",
       "      <td>20</td>\n",
       "      <td>0</td>\n",
       "      <td>0</td>\n",
       "      <td>0</td>\n",
       "      <td>1</td>\n",
       "      <td>0</td>\n",
       "      <td>0</td>\n",
       "      <td>0</td>\n",
       "      <td>0</td>\n",
       "    </tr>\n",
       "    <tr>\n",
       "      <th>201608</th>\n",
       "      <td>2</td>\n",
       "      <td>1</td>\n",
       "      <td>1</td>\n",
       "      <td>6</td>\n",
       "      <td>20</td>\n",
       "      <td>1</td>\n",
       "      <td>0</td>\n",
       "      <td>0</td>\n",
       "      <td>0</td>\n",
       "      <td>0</td>\n",
       "      <td>0</td>\n",
       "      <td>0</td>\n",
       "      <td>0</td>\n",
       "    </tr>\n",
       "    <tr>\n",
       "      <th>92857</th>\n",
       "      <td>1</td>\n",
       "      <td>3</td>\n",
       "      <td>5</td>\n",
       "      <td>20</td>\n",
       "      <td>20</td>\n",
       "      <td>0</td>\n",
       "      <td>0</td>\n",
       "      <td>0</td>\n",
       "      <td>0</td>\n",
       "      <td>0</td>\n",
       "      <td>0</td>\n",
       "      <td>1</td>\n",
       "      <td>0</td>\n",
       "    </tr>\n",
       "    <tr>\n",
       "      <th>351222</th>\n",
       "      <td>1</td>\n",
       "      <td>2</td>\n",
       "      <td>5</td>\n",
       "      <td>6</td>\n",
       "      <td>20</td>\n",
       "      <td>1</td>\n",
       "      <td>0</td>\n",
       "      <td>0</td>\n",
       "      <td>0</td>\n",
       "      <td>0</td>\n",
       "      <td>0</td>\n",
       "      <td>0</td>\n",
       "      <td>0</td>\n",
       "    </tr>\n",
       "    <tr>\n",
       "      <th>144420</th>\n",
       "      <td>2</td>\n",
       "      <td>2</td>\n",
       "      <td>2</td>\n",
       "      <td>23</td>\n",
       "      <td>0</td>\n",
       "      <td>0</td>\n",
       "      <td>0</td>\n",
       "      <td>0</td>\n",
       "      <td>0</td>\n",
       "      <td>1</td>\n",
       "      <td>0</td>\n",
       "      <td>0</td>\n",
       "      <td>0</td>\n",
       "    </tr>\n",
       "  </tbody>\n",
       "</table>\n",
       "<p>254651 rows × 13 columns</p>\n",
       "</div>"
      ],
      "text/plain": [
       "        x  y  weekday  hour  minute  direction_EB  direction_NB  direction_NE  \\\n",
       "row_id                                                                          \n",
       "744862  1  2        5    18      40             1             0             0   \n",
       "164502  2  2        0     8       0             0             1             0   \n",
       "686089  0  3        0     0      40             0             0             0   \n",
       "197179  1  3        0     7      40             0             1             0   \n",
       "615470  2  1        5    20      20             0             0             0   \n",
       "...    .. ..      ...   ...     ...           ...           ...           ...   \n",
       "315369  2  2        4    14      20             0             0             0   \n",
       "201608  2  1        1     6      20             1             0             0   \n",
       "92857   1  3        5    20      20             0             0             0   \n",
       "351222  1  2        5     6      20             1             0             0   \n",
       "144420  2  2        2    23       0             0             0             0   \n",
       "\n",
       "        direction_NW  direction_SB  direction_SE  direction_SW  direction_WB  \n",
       "row_id                                                                        \n",
       "744862             0             0             0             0             0  \n",
       "164502             0             0             0             0             0  \n",
       "686089             0             1             0             0             0  \n",
       "197179             0             0             0             0             0  \n",
       "615470             0             0             0             0             1  \n",
       "...              ...           ...           ...           ...           ...  \n",
       "315369             1             0             0             0             0  \n",
       "201608             0             0             0             0             0  \n",
       "92857              0             0             0             1             0  \n",
       "351222             0             0             0             0             0  \n",
       "144420             0             1             0             0             0  \n",
       "\n",
       "[254651 rows x 13 columns]"
      ]
     },
     "execution_count": 45,
     "metadata": {},
     "output_type": "execute_result"
    }
   ],
   "source": [
    "test_X"
   ]
  },
  {
   "cell_type": "code",
   "execution_count": 46,
   "id": "b4f63a59",
   "metadata": {
    "execution": {
     "iopub.execute_input": "2022-04-26T18:21:40.630869Z",
     "iopub.status.busy": "2022-04-26T18:21:40.629882Z",
     "iopub.status.idle": "2022-04-26T18:21:40.632248Z",
     "shell.execute_reply": "2022-04-26T18:21:40.632699Z",
     "shell.execute_reply.started": "2022-04-06T21:20:07.54302Z"
    },
    "papermill": {
     "duration": 0.073583,
     "end_time": "2022-04-26T18:21:40.632873",
     "exception": false,
     "start_time": "2022-04-26T18:21:40.559290",
     "status": "completed"
    },
    "tags": []
   },
   "outputs": [],
   "source": [
    "# xgb_r = xg.XGBRegressor(learning_rate = 0.1,\n",
    "#                            n_estimators  = 10,\n",
    "#                            max_depth     = 20,\n",
    "#                            eval_metric='mae')\n",
    "# xgb_r.fit(train_X, train_y)"
   ]
  },
  {
   "cell_type": "code",
   "execution_count": 47,
   "id": "db7ac842",
   "metadata": {
    "execution": {
     "iopub.execute_input": "2022-04-26T18:21:40.770468Z",
     "iopub.status.busy": "2022-04-26T18:21:40.769558Z",
     "iopub.status.idle": "2022-04-26T18:21:40.772560Z",
     "shell.execute_reply": "2022-04-26T18:21:40.772058Z",
     "shell.execute_reply.started": "2022-04-06T21:20:28.057805Z"
    },
    "papermill": {
     "duration": 0.073782,
     "end_time": "2022-04-26T18:21:40.772697",
     "exception": false,
     "start_time": "2022-04-26T18:21:40.698915",
     "status": "completed"
    },
    "tags": []
   },
   "outputs": [],
   "source": [
    "# pred = xgb_r.predict(test_X)\n",
    "# mean_absolute_error(test_y, pred)"
   ]
  },
  {
   "cell_type": "code",
   "execution_count": 48,
   "id": "78de7167",
   "metadata": {
    "execution": {
     "iopub.execute_input": "2022-04-26T18:21:40.911976Z",
     "iopub.status.busy": "2022-04-26T18:21:40.907572Z",
     "iopub.status.idle": "2022-04-26T18:21:42.788851Z",
     "shell.execute_reply": "2022-04-26T18:21:42.789336Z",
     "shell.execute_reply.started": "2022-04-06T21:20:36.288622Z"
    },
    "papermill": {
     "duration": 1.9507,
     "end_time": "2022-04-26T18:21:42.789496",
     "exception": false,
     "start_time": "2022-04-26T18:21:40.838796",
     "status": "completed"
    },
    "tags": []
   },
   "outputs": [
    {
     "data": {
      "text/plain": [
       "<AxesSubplot:>"
      ]
     },
     "execution_count": 48,
     "metadata": {},
     "output_type": "execute_result"
    },
    {
     "data": {
      "image/png": "[encoded data removed]",
      "text/plain": [
       "<Figure size 1152x432 with 2 Axes>"
      ]
     },
     "metadata": {
      "needs_background": "light"
     },
     "output_type": "display_data"
    }
   ],
   "source": [
    "plt.figure(figsize=(16, 6))\n",
    "sns.heatmap(X.corr(),vmin=-1,vmax=1,annot=True)"
   ]
  },
  {
   "cell_type": "code",
   "execution_count": 49,
   "id": "3521ef2c",
   "metadata": {
    "execution": {
     "iopub.execute_input": "2022-04-26T18:21:42.933460Z",
     "iopub.status.busy": "2022-04-26T18:21:42.932745Z",
     "iopub.status.idle": "2022-04-26T18:21:42.935762Z",
     "shell.execute_reply": "2022-04-26T18:21:42.936255Z"
    },
    "papermill": {
     "duration": 0.07673,
     "end_time": "2022-04-26T18:21:42.936415",
     "exception": false,
     "start_time": "2022-04-26T18:21:42.859685",
     "status": "completed"
    },
    "tags": []
   },
   "outputs": [],
   "source": [
    "# exg = xg.XGBRegressor(verbosity=0, random_state=123)\n",
    "# params = {'n_estimators': [100, 150, 200, 300]}\n",
    "# cv_exg_model = GridSearchCV(estimator=exg, param_grid=params, n_jobs=10, cv=10)\n",
    "# cv_exg_model.fit(train_X, train_y)"
   ]
  },
  {
   "cell_type": "code",
   "execution_count": 50,
   "id": "fe4963bc",
   "metadata": {
    "execution": {
     "iopub.execute_input": "2022-04-26T18:21:43.080394Z",
     "iopub.status.busy": "2022-04-26T18:21:43.079326Z",
     "iopub.status.idle": "2022-04-26T18:21:43.082405Z",
     "shell.execute_reply": "2022-04-26T18:21:43.082930Z"
    },
    "papermill": {
     "duration": 0.076668,
     "end_time": "2022-04-26T18:21:43.083126",
     "exception": false,
     "start_time": "2022-04-26T18:21:43.006458",
     "status": "completed"
    },
    "tags": []
   },
   "outputs": [],
   "source": [
    "# pred = cv_exg_model.predict(features_valid)"
   ]
  },
  {
   "cell_type": "code",
   "execution_count": 51,
   "id": "f60e53ee",
   "metadata": {
    "execution": {
     "iopub.execute_input": "2022-04-26T18:21:43.228116Z",
     "iopub.status.busy": "2022-04-26T18:21:43.227429Z",
     "iopub.status.idle": "2022-04-26T18:21:43.435363Z",
     "shell.execute_reply": "2022-04-26T18:21:43.434779Z",
     "shell.execute_reply.started": "2022-04-06T21:20:47.880293Z"
    },
    "papermill": {
     "duration": 0.28208,
     "end_time": "2022-04-26T18:21:43.435504",
     "exception": false,
     "start_time": "2022-04-26T18:21:43.153424",
     "status": "completed"
    },
    "tags": []
   },
   "outputs": [],
   "source": [
    "from sklearn.ensemble import RandomForestRegressor"
   ]
  },
  {
   "cell_type": "code",
   "execution_count": 52,
   "id": "037c1295",
   "metadata": {
    "execution": {
     "iopub.execute_input": "2022-04-26T18:21:43.578867Z",
     "iopub.status.busy": "2022-04-26T18:21:43.578262Z",
     "iopub.status.idle": "2022-04-26T18:22:45.491212Z",
     "shell.execute_reply": "2022-04-26T18:22:45.491844Z",
     "shell.execute_reply.started": "2022-04-06T21:25:14.971817Z"
    },
    "papermill": {
     "duration": 61.986463,
     "end_time": "2022-04-26T18:22:45.492045",
     "exception": false,
     "start_time": "2022-04-26T18:21:43.505582",
     "status": "completed"
    },
    "tags": []
   },
   "outputs": [
    {
     "data": {
      "text/plain": [
       "RandomForestRegressor(max_depth=20, n_estimators=60, random_state=123)"
      ]
     },
     "execution_count": 52,
     "metadata": {},
     "output_type": "execute_result"
    }
   ],
   "source": [
    "model = RandomForestRegressor(max_depth=20, min_samples_leaf=1, min_samples_split=2, n_estimators=60, random_state=123)\n",
    "model.fit(train_X, train_y)"
   ]
  },
  {
   "cell_type": "code",
   "execution_count": 53,
   "id": "7652d675",
   "metadata": {
    "execution": {
     "iopub.execute_input": "2022-04-26T18:22:45.640100Z",
     "iopub.status.busy": "2022-04-26T18:22:45.638989Z",
     "iopub.status.idle": "2022-04-26T18:22:50.014615Z",
     "shell.execute_reply": "2022-04-26T18:22:50.013984Z",
     "shell.execute_reply.started": "2022-04-06T21:26:14.023996Z"
    },
    "papermill": {
     "duration": 4.452467,
     "end_time": "2022-04-26T18:22:50.014806",
     "exception": false,
     "start_time": "2022-04-26T18:22:45.562339",
     "status": "completed"
    },
    "tags": []
   },
   "outputs": [],
   "source": [
    "pred = model.predict(test_X)"
   ]
  },
  {
   "cell_type": "code",
   "execution_count": 54,
   "id": "b6f9f3e7",
   "metadata": {
    "execution": {
     "iopub.execute_input": "2022-04-26T18:22:50.175209Z",
     "iopub.status.busy": "2022-04-26T18:22:50.174481Z",
     "iopub.status.idle": "2022-04-26T18:22:50.183050Z",
     "shell.execute_reply": "2022-04-26T18:22:50.182489Z",
     "shell.execute_reply.started": "2022-04-06T21:26:21.23912Z"
    },
    "papermill": {
     "duration": 0.089007,
     "end_time": "2022-04-26T18:22:50.183192",
     "exception": false,
     "start_time": "2022-04-26T18:22:50.094185",
     "status": "completed"
    },
    "tags": []
   },
   "outputs": [
    {
     "data": {
      "text/plain": [
       "6.338174810401299"
      ]
     },
     "execution_count": 54,
     "metadata": {},
     "output_type": "execute_result"
    }
   ],
   "source": [
    "mean_absolute_error(test_y, pred)"
   ]
  },
  {
   "cell_type": "code",
   "execution_count": 55,
   "id": "88b8b4ea",
   "metadata": {
    "execution": {
     "iopub.execute_input": "2022-04-26T18:22:50.329476Z",
     "iopub.status.busy": "2022-04-26T18:22:50.328517Z",
     "iopub.status.idle": "2022-04-26T18:22:50.331370Z",
     "shell.execute_reply": "2022-04-26T18:22:50.330725Z"
    },
    "papermill": {
     "duration": 0.077428,
     "end_time": "2022-04-26T18:22:50.331522",
     "exception": false,
     "start_time": "2022-04-26T18:22:50.254094",
     "status": "completed"
    },
    "tags": []
   },
   "outputs": [],
   "source": [
    "# scaler.inverse_transform(pd.DataFrame(test_y.values.reshape(-1,1)))\n",
    "# train = pd.read_csv('../input/tabular-playground-series-mar-2022/train.csv',index_col='row_id')\n",
    "# train"
   ]
  },
  {
   "cell_type": "code",
   "execution_count": 56,
   "id": "1ffdeece",
   "metadata": {
    "execution": {
     "iopub.execute_input": "2022-04-26T18:22:50.477347Z",
     "iopub.status.busy": "2022-04-26T18:22:50.476575Z",
     "iopub.status.idle": "2022-04-26T18:22:50.480240Z",
     "shell.execute_reply": "2022-04-26T18:22:50.480747Z"
    },
    "papermill": {
     "duration": 0.077554,
     "end_time": "2022-04-26T18:22:50.480917",
     "exception": false,
     "start_time": "2022-04-26T18:22:50.403363",
     "status": "completed"
    },
    "tags": []
   },
   "outputs": [],
   "source": [
    "# scaler.fit_transform(train.drop(columns=['time','direction']))"
   ]
  },
  {
   "cell_type": "code",
   "execution_count": 57,
   "id": "dc922ec0",
   "metadata": {
    "execution": {
     "iopub.execute_input": "2022-04-26T18:22:50.634816Z",
     "iopub.status.busy": "2022-04-26T18:22:50.634199Z",
     "iopub.status.idle": "2022-04-26T18:22:50.641393Z",
     "shell.execute_reply": "2022-04-26T18:22:50.641898Z",
     "shell.execute_reply.started": "2022-04-06T21:27:30.420415Z"
    },
    "papermill": {
     "duration": 0.0858,
     "end_time": "2022-04-26T18:22:50.642074",
     "exception": false,
     "start_time": "2022-04-26T18:22:50.556274",
     "status": "completed"
    },
    "tags": []
   },
   "outputs": [],
   "source": [
    "test['time'] = pd.to_datetime(test['time'])\n",
    "test['weekday'] = test['time'].dt.weekday\n",
    "test['hour'] = test['time'].dt.hour\n",
    "test['minute'] = test['time'].dt.minute"
   ]
  },
  {
   "cell_type": "code",
   "execution_count": 58,
   "id": "0d6ead6e",
   "metadata": {
    "execution": {
     "iopub.execute_input": "2022-04-26T18:22:50.802888Z",
     "iopub.status.busy": "2022-04-26T18:22:50.799536Z",
     "iopub.status.idle": "2022-04-26T18:22:50.821909Z",
     "shell.execute_reply": "2022-04-26T18:22:50.822450Z",
     "shell.execute_reply.started": "2022-04-06T21:28:57.392422Z"
    },
    "papermill": {
     "duration": 0.103331,
     "end_time": "2022-04-26T18:22:50.822650",
     "exception": false,
     "start_time": "2022-04-26T18:22:50.719319",
     "status": "completed"
    },
    "tags": []
   },
   "outputs": [
    {
     "data": {
      "text/html": [
       "<div>\n",
       "<style scoped>\n",
       "    .dataframe tbody tr th:only-of-type {\n",
       "        vertical-align: middle;\n",
       "    }\n",
       "\n",
       "    .dataframe tbody tr th {\n",
       "        vertical-align: top;\n",
       "    }\n",
       "\n",
       "    .dataframe thead th {\n",
       "        text-align: right;\n",
       "    }\n",
       "</style>\n",
       "<table border=\"1\" class=\"dataframe\">\n",
       "  <thead>\n",
       "    <tr style=\"text-align: right;\">\n",
       "      <th></th>\n",
       "      <th>x</th>\n",
       "      <th>y</th>\n",
       "      <th>weekday</th>\n",
       "      <th>hour</th>\n",
       "      <th>minute</th>\n",
       "      <th>direction_EB</th>\n",
       "      <th>direction_NB</th>\n",
       "      <th>direction_NE</th>\n",
       "      <th>direction_NW</th>\n",
       "      <th>direction_SB</th>\n",
       "      <th>direction_SE</th>\n",
       "      <th>direction_SW</th>\n",
       "      <th>direction_WB</th>\n",
       "    </tr>\n",
       "    <tr>\n",
       "      <th>row_id</th>\n",
       "      <th></th>\n",
       "      <th></th>\n",
       "      <th></th>\n",
       "      <th></th>\n",
       "      <th></th>\n",
       "      <th></th>\n",
       "      <th></th>\n",
       "      <th></th>\n",
       "      <th></th>\n",
       "      <th></th>\n",
       "      <th></th>\n",
       "      <th></th>\n",
       "      <th></th>\n",
       "    </tr>\n",
       "  </thead>\n",
       "  <tbody>\n",
       "    <tr>\n",
       "      <th>848835</th>\n",
       "      <td>0</td>\n",
       "      <td>0</td>\n",
       "      <td>0</td>\n",
       "      <td>12</td>\n",
       "      <td>0</td>\n",
       "      <td>1</td>\n",
       "      <td>0</td>\n",
       "      <td>0</td>\n",
       "      <td>0</td>\n",
       "      <td>0</td>\n",
       "      <td>0</td>\n",
       "      <td>0</td>\n",
       "      <td>0</td>\n",
       "    </tr>\n",
       "    <tr>\n",
       "      <th>848836</th>\n",
       "      <td>0</td>\n",
       "      <td>0</td>\n",
       "      <td>0</td>\n",
       "      <td>12</td>\n",
       "      <td>0</td>\n",
       "      <td>0</td>\n",
       "      <td>1</td>\n",
       "      <td>0</td>\n",
       "      <td>0</td>\n",
       "      <td>0</td>\n",
       "      <td>0</td>\n",
       "      <td>0</td>\n",
       "      <td>0</td>\n",
       "    </tr>\n",
       "    <tr>\n",
       "      <th>848837</th>\n",
       "      <td>0</td>\n",
       "      <td>0</td>\n",
       "      <td>0</td>\n",
       "      <td>12</td>\n",
       "      <td>0</td>\n",
       "      <td>0</td>\n",
       "      <td>0</td>\n",
       "      <td>0</td>\n",
       "      <td>0</td>\n",
       "      <td>1</td>\n",
       "      <td>0</td>\n",
       "      <td>0</td>\n",
       "      <td>0</td>\n",
       "    </tr>\n",
       "    <tr>\n",
       "      <th>848838</th>\n",
       "      <td>0</td>\n",
       "      <td>1</td>\n",
       "      <td>0</td>\n",
       "      <td>12</td>\n",
       "      <td>0</td>\n",
       "      <td>1</td>\n",
       "      <td>0</td>\n",
       "      <td>0</td>\n",
       "      <td>0</td>\n",
       "      <td>0</td>\n",
       "      <td>0</td>\n",
       "      <td>0</td>\n",
       "      <td>0</td>\n",
       "    </tr>\n",
       "    <tr>\n",
       "      <th>848839</th>\n",
       "      <td>0</td>\n",
       "      <td>1</td>\n",
       "      <td>0</td>\n",
       "      <td>12</td>\n",
       "      <td>0</td>\n",
       "      <td>0</td>\n",
       "      <td>1</td>\n",
       "      <td>0</td>\n",
       "      <td>0</td>\n",
       "      <td>0</td>\n",
       "      <td>0</td>\n",
       "      <td>0</td>\n",
       "      <td>0</td>\n",
       "    </tr>\n",
       "    <tr>\n",
       "      <th>...</th>\n",
       "      <td>...</td>\n",
       "      <td>...</td>\n",
       "      <td>...</td>\n",
       "      <td>...</td>\n",
       "      <td>...</td>\n",
       "      <td>...</td>\n",
       "      <td>...</td>\n",
       "      <td>...</td>\n",
       "      <td>...</td>\n",
       "      <td>...</td>\n",
       "      <td>...</td>\n",
       "      <td>...</td>\n",
       "      <td>...</td>\n",
       "    </tr>\n",
       "    <tr>\n",
       "      <th>851170</th>\n",
       "      <td>2</td>\n",
       "      <td>3</td>\n",
       "      <td>0</td>\n",
       "      <td>23</td>\n",
       "      <td>40</td>\n",
       "      <td>0</td>\n",
       "      <td>1</td>\n",
       "      <td>0</td>\n",
       "      <td>0</td>\n",
       "      <td>0</td>\n",
       "      <td>0</td>\n",
       "      <td>0</td>\n",
       "      <td>0</td>\n",
       "    </tr>\n",
       "    <tr>\n",
       "      <th>851171</th>\n",
       "      <td>2</td>\n",
       "      <td>3</td>\n",
       "      <td>0</td>\n",
       "      <td>23</td>\n",
       "      <td>40</td>\n",
       "      <td>0</td>\n",
       "      <td>0</td>\n",
       "      <td>1</td>\n",
       "      <td>0</td>\n",
       "      <td>0</td>\n",
       "      <td>0</td>\n",
       "      <td>0</td>\n",
       "      <td>0</td>\n",
       "    </tr>\n",
       "    <tr>\n",
       "      <th>851172</th>\n",
       "      <td>2</td>\n",
       "      <td>3</td>\n",
       "      <td>0</td>\n",
       "      <td>23</td>\n",
       "      <td>40</td>\n",
       "      <td>0</td>\n",
       "      <td>0</td>\n",
       "      <td>0</td>\n",
       "      <td>0</td>\n",
       "      <td>1</td>\n",
       "      <td>0</td>\n",
       "      <td>0</td>\n",
       "      <td>0</td>\n",
       "    </tr>\n",
       "    <tr>\n",
       "      <th>851173</th>\n",
       "      <td>2</td>\n",
       "      <td>3</td>\n",
       "      <td>0</td>\n",
       "      <td>23</td>\n",
       "      <td>40</td>\n",
       "      <td>0</td>\n",
       "      <td>0</td>\n",
       "      <td>0</td>\n",
       "      <td>0</td>\n",
       "      <td>0</td>\n",
       "      <td>0</td>\n",
       "      <td>1</td>\n",
       "      <td>0</td>\n",
       "    </tr>\n",
       "    <tr>\n",
       "      <th>851174</th>\n",
       "      <td>2</td>\n",
       "      <td>3</td>\n",
       "      <td>0</td>\n",
       "      <td>23</td>\n",
       "      <td>40</td>\n",
       "      <td>0</td>\n",
       "      <td>0</td>\n",
       "      <td>0</td>\n",
       "      <td>0</td>\n",
       "      <td>0</td>\n",
       "      <td>0</td>\n",
       "      <td>0</td>\n",
       "      <td>1</td>\n",
       "    </tr>\n",
       "  </tbody>\n",
       "</table>\n",
       "<p>2340 rows × 13 columns</p>\n",
       "</div>"
      ],
      "text/plain": [
       "        x  y  weekday  hour  minute  direction_EB  direction_NB  direction_NE  \\\n",
       "row_id                                                                          \n",
       "848835  0  0        0    12       0             1             0             0   \n",
       "848836  0  0        0    12       0             0             1             0   \n",
       "848837  0  0        0    12       0             0             0             0   \n",
       "848838  0  1        0    12       0             1             0             0   \n",
       "848839  0  1        0    12       0             0             1             0   \n",
       "...    .. ..      ...   ...     ...           ...           ...           ...   \n",
       "851170  2  3        0    23      40             0             1             0   \n",
       "851171  2  3        0    23      40             0             0             1   \n",
       "851172  2  3        0    23      40             0             0             0   \n",
       "851173  2  3        0    23      40             0             0             0   \n",
       "851174  2  3        0    23      40             0             0             0   \n",
       "\n",
       "        direction_NW  direction_SB  direction_SE  direction_SW  direction_WB  \n",
       "row_id                                                                        \n",
       "848835             0             0             0             0             0  \n",
       "848836             0             0             0             0             0  \n",
       "848837             0             1             0             0             0  \n",
       "848838             0             0             0             0             0  \n",
       "848839             0             0             0             0             0  \n",
       "...              ...           ...           ...           ...           ...  \n",
       "851170             0             0             0             0             0  \n",
       "851171             0             0             0             0             0  \n",
       "851172             0             1             0             0             0  \n",
       "851173             0             0             0             1             0  \n",
       "851174             0             0             0             0             1  \n",
       "\n",
       "[2340 rows x 13 columns]"
      ]
     },
     "execution_count": 58,
     "metadata": {},
     "output_type": "execute_result"
    }
   ],
   "source": [
    "# test = pd.read_csv('../input/tabular-playground-series-mar-2022/test.csv',index_col=['row_id'])\n",
    "test = pd.get_dummies(test)\n",
    "test = test.drop(columns=['time'])\n",
    "test"
   ]
  },
  {
   "cell_type": "code",
   "execution_count": 59,
   "id": "07970c72",
   "metadata": {
    "execution": {
     "iopub.execute_input": "2022-04-26T18:22:50.976039Z",
     "iopub.status.busy": "2022-04-26T18:22:50.975171Z",
     "iopub.status.idle": "2022-04-26T18:22:50.977868Z",
     "shell.execute_reply": "2022-04-26T18:22:50.978485Z",
     "shell.execute_reply.started": "2022-04-06T21:29:44.758973Z"
    },
    "papermill": {
     "duration": 0.082172,
     "end_time": "2022-04-26T18:22:50.978651",
     "exception": false,
     "start_time": "2022-04-26T18:22:50.896479",
     "status": "completed"
    },
    "tags": []
   },
   "outputs": [],
   "source": [
    "# model.predict(test)"
   ]
  },
  {
   "cell_type": "code",
   "execution_count": 60,
   "id": "563d5e32",
   "metadata": {
    "execution": {
     "iopub.execute_input": "2022-04-26T18:22:51.138323Z",
     "iopub.status.busy": "2022-04-26T18:22:51.137475Z",
     "iopub.status.idle": "2022-04-26T18:22:51.205840Z",
     "shell.execute_reply": "2022-04-26T18:22:51.205253Z",
     "shell.execute_reply.started": "2022-04-06T21:30:04.039501Z"
    },
    "papermill": {
     "duration": 0.151165,
     "end_time": "2022-04-26T18:22:51.206028",
     "exception": false,
     "start_time": "2022-04-26T18:22:51.054863",
     "status": "completed"
    },
    "tags": []
   },
   "outputs": [],
   "source": [
    "submission = pd.read_csv('../input/tabular-playground-series-mar-2022/sample_submission.csv')\n",
    "submission['congestion'] = model.predict(test)"
   ]
  },
  {
   "cell_type": "code",
   "execution_count": 61,
   "id": "e9a25c0a",
   "metadata": {
    "execution": {
     "iopub.execute_input": "2022-04-26T18:22:51.366866Z",
     "iopub.status.busy": "2022-04-26T18:22:51.365982Z",
     "iopub.status.idle": "2022-04-26T18:22:51.379399Z",
     "shell.execute_reply": "2022-04-26T18:22:51.379901Z",
     "shell.execute_reply.started": "2022-04-06T21:30:12.27571Z"
    },
    "papermill": {
     "duration": 0.096454,
     "end_time": "2022-04-26T18:22:51.380105",
     "exception": false,
     "start_time": "2022-04-26T18:22:51.283651",
     "status": "completed"
    },
    "tags": []
   },
   "outputs": [],
   "source": [
    "submission.to_csv('submission.csv',index=False)\n",
    "# submission"
   ]
  },
  {
   "cell_type": "code",
   "execution_count": 62,
   "id": "5e391cb8",
   "metadata": {
    "execution": {
     "iopub.execute_input": "2022-04-26T18:22:51.538869Z",
     "iopub.status.busy": "2022-04-26T18:22:51.537417Z",
     "iopub.status.idle": "2022-04-26T18:22:51.540693Z",
     "shell.execute_reply": "2022-04-26T18:22:51.541357Z"
    },
    "papermill": {
     "duration": 0.082713,
     "end_time": "2022-04-26T18:22:51.541524",
     "exception": false,
     "start_time": "2022-04-26T18:22:51.458811",
     "status": "completed"
    },
    "tags": []
   },
   "outputs": [],
   "source": [
    "# submission"
   ]
  },
  {
   "cell_type": "code",
   "execution_count": null,
   "id": "1c47fe94",
   "metadata": {
    "papermill": {
     "duration": 0.073976,
     "end_time": "2022-04-26T18:22:51.696204",
     "exception": false,
     "start_time": "2022-04-26T18:22:51.622228",
     "status": "completed"
    },
    "tags": []
   },
   "outputs": [],
   "source": []
  }
 ],
 "metadata": {
  "kernelspec": {
   "display_name": "Python 3",
   "language": "python",
   "name": "python3"
  },
  "language_info": {
   "codemirror_mode": {
    "name": "ipython",
    "version": 3
   },
   "file_extension": ".py",
   "mimetype": "text/x-python",
   "name": "python",
   "nbconvert_exporter": "python",
   "pygments_lexer": "ipython3",
   "version": "3.7.12"
  },
  "papermill": {
   "default_parameters": {},
   "duration": 93.50755,
   "end_time": "2022-04-26T18:22:52.481876",
   "environment_variables": {},
   "exception": null,
   "input_path": "__notebook__.ipynb",
   "output_path": "__notebook__.ipynb",
   "parameters": {},
   "start_time": "2022-04-26T18:21:18.974326",
   "version": "2.3.3"
  }
 },
 "nbformat": 4,
 "nbformat_minor": 5
}
